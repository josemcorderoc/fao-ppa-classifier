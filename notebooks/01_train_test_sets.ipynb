{
 "cells": [
  {
   "cell_type": "code",
   "execution_count": 1,
   "metadata": {},
   "outputs": [],
   "source": [
    "import pandas as pd\n",
    "from openai import OpenAI\n",
    "from functools import partial"
   ]
  },
  {
   "cell_type": "code",
   "execution_count": 2,
   "metadata": {},
   "outputs": [],
   "source": [
    "%load_ext dotenv\n",
    "%dotenv"
   ]
  },
  {
   "cell_type": "code",
   "execution_count": 3,
   "metadata": {},
   "outputs": [],
   "source": [
    "outputs_df = pd.read_excel(\"../data/raw/WP sugerencia de outputs.xlsx\", sheet_name=\"SELECCION\")"
   ]
  },
  {
   "cell_type": "code",
   "execution_count": 4,
   "metadata": {},
   "outputs": [],
   "source": [
    "client = OpenAI()\n",
    "\n",
    "def get_embedding(text: str, model=\"text-embedding-3-small\"):\n",
    "   return client.embeddings.create(input = [text], model=model).data[0].embedding"
   ]
  },
  {
   "cell_type": "markdown",
   "metadata": {},
   "source": [
    "# PPA processing"
   ]
  },
  {
   "cell_type": "code",
   "execution_count": 5,
   "metadata": {},
   "outputs": [],
   "source": [
    "outputs_df[\"PPAs_list\"] = outputs_df.PPAs.apply(lambda d: d.split(\", \"))\n",
    "classes = outputs_df[\"PPAs_list\"].explode().unique()\n",
    "\n",
    "for ppa in classes:\n",
    "    outputs_df[ppa] = outputs_df[\"PPAs_list\"].apply(lambda x: ppa in x)\n",
    "    \n",
    "outputs_df[\"primary_ppa\"] = outputs_df[\"Primary PPA\"].str[:4]\n",
    "outputs_df[\"primary_better\"] = outputs_df[\"primary_ppa\"].str[:2]"
   ]
  },
  {
   "cell_type": "markdown",
   "metadata": {},
   "source": [
    "# Text processing"
   ]
  },
  {
   "cell_type": "code",
   "execution_count": 6,
   "metadata": {},
   "outputs": [],
   "source": [
    "output_prefix = r\"\\b(Producto|MPP\\sProducto|Output|Resultado\\sMPP|Producto\\sMPP|MPP\\sOutput)\\s\\d+(\\.\\d+)+\\b\"\n",
    "outputs_df[\"output_text_clean\"] = outputs_df[\"Output Statement\"].replace(output_prefix, \"\", regex=True).str.strip()\n"
   ]
  },
  {
   "cell_type": "markdown",
   "metadata": {},
   "source": [
    "# Embeddings"
   ]
  },
  {
   "cell_type": "code",
   "execution_count": 7,
   "metadata": {},
   "outputs": [],
   "source": [
    "def list_col_to_df(list_col: pd.Series, prefix: str):\n",
    "    list_df = pd.DataFrame(\n",
    "        list_col.to_list(),\n",
    "        index=list_col.index\n",
    "        ).add_prefix(prefix)\n",
    "    return list_df"
   ]
  },
  {
   "cell_type": "code",
   "execution_count": 8,
   "metadata": {},
   "outputs": [],
   "source": [
    "outputs_df[\"embedding_small\"] = outputs_df[\"output_text_clean\"].apply(partial(get_embedding, model=\"text-embedding-3-small\"))\n",
    "outputs_df = outputs_df.join(list_col_to_df(outputs_df[\"embedding_small\"], \"openai_embedding_small_\")) "
   ]
  },
  {
   "cell_type": "code",
   "execution_count": 10,
   "metadata": {},
   "outputs": [],
   "source": [
    "outputs_df[\"embedding_large\"] = outputs_df[\"output_text_clean\"].apply(partial(get_embedding, model=\"text-embedding-3-large\"))\n",
    "outputs_df = outputs_df.join(list_col_to_df(outputs_df[\"embedding_large\"], \"openai_embedding_large_\")) "
   ]
  },
  {
   "cell_type": "markdown",
   "metadata": {},
   "source": [
    "# Train test sets\n",
    "\n",
    "- Test set: at least two rows per PPA\n",
    "- Train set: the remaning rows\n"
   ]
  },
  {
   "cell_type": "code",
   "execution_count": 11,
   "metadata": {},
   "outputs": [
    {
     "data": {
      "text/plain": [
       "test_set\n",
       "False    73\n",
       "True     40\n",
       "Name: count, dtype: int64"
      ]
     },
     "execution_count": 11,
     "metadata": {},
     "output_type": "execute_result"
    }
   ],
   "source": [
    "test_set_idx = outputs_df.groupby(\"primary_ppa\").sample(2, random_state=100).index\n",
    "outputs_df[\"test_set\"] = outputs_df.index.isin(test_set_idx)\n",
    "outputs_df[\"test_set\"].value_counts()"
   ]
  },
  {
   "cell_type": "markdown",
   "metadata": {},
   "source": [
    "# Save data"
   ]
  },
  {
   "cell_type": "code",
   "execution_count": 18,
   "metadata": {},
   "outputs": [],
   "source": [
    "del outputs_df[\"embedding_small\"]\n",
    "del outputs_df[\"embedding_large\"]"
   ]
  },
  {
   "cell_type": "code",
   "execution_count": 21,
   "metadata": {},
   "outputs": [],
   "source": [
    "outputs_df.to_parquet(\"../data/processed/outputs_openai_embeddings_v1.parquet\", index=False)"
   ]
  },
  {
   "cell_type": "code",
   "execution_count": null,
   "metadata": {},
   "outputs": [],
   "source": []
  }
 ],
 "metadata": {
  "kernelspec": {
   "display_name": "Python 3",
   "language": "python",
   "name": "python3"
  },
  "language_info": {
   "codemirror_mode": {
    "name": "ipython",
    "version": 3
   },
   "file_extension": ".py",
   "mimetype": "text/x-python",
   "name": "python",
   "nbconvert_exporter": "python",
   "pygments_lexer": "ipython3",
   "version": "3.11.9"
  }
 },
 "nbformat": 4,
 "nbformat_minor": 2
}
