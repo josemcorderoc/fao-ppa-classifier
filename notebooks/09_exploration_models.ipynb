{
 "cells": [
  {
   "cell_type": "code",
   "execution_count": 8,
   "metadata": {},
   "outputs": [],
   "source": [
    "import os\n",
    "import sys\n",
    "import pandas as pd\n",
    "sys.path.append(os.path.abspath(os.path.join('..', 'src',)))"
   ]
  },
  {
   "cell_type": "code",
   "execution_count": 11,
   "metadata": {},
   "outputs": [],
   "source": [
    "from models.embeddings.openai_embedding import OpenAIEmbedding\n",
    "\n",
    "\n",
    "embedding = OpenAIEmbedding()"
   ]
  },
  {
   "cell_type": "code",
   "execution_count": 13,
   "metadata": {},
   "outputs": [],
   "source": [
    "ppas = ['BE.1',\n",
    " 'BE.2',\n",
    " 'BE.3',\n",
    " 'BE.4',\n",
    " 'BL.1',\n",
    " 'BL.2',\n",
    " 'BL.3',\n",
    " 'BL.4',\n",
    " 'BL.5',\n",
    " 'BL.6',\n",
    " 'BN.1',\n",
    " 'BN.2',\n",
    " 'BN.3',\n",
    " 'BN.4',\n",
    " 'BN.5',\n",
    " 'BP.1',\n",
    " 'BP.2',\n",
    " 'BP.3',\n",
    " 'BP.4',\n",
    " 'BP.5']\n"
   ]
  },
  {
   "cell_type": "code",
   "execution_count": 9,
   "metadata": {},
   "outputs": [],
   "source": [
    "import pickle\n",
    "\n",
    "\n",
    "with open('../data/classifiers/ridge_clf.pkl', 'rb') as f:\n",
    "        clf = pickle.load(f)"
   ]
  },
  {
   "cell_type": "code",
   "execution_count": 21,
   "metadata": {},
   "outputs": [
    {
     "data": {
      "text/plain": [
       "BP.5    0.111424\n",
       "BP.4    0.064619\n",
       "BE.4    0.053620\n",
       "BL.1    0.052037\n",
       "BP.1    0.051384\n",
       "BL.2    0.051048\n",
       "BN.5    0.049531\n",
       "BP.3    0.048886\n",
       "BN.2    0.046044\n",
       "BN.4    0.045729\n",
       "BL.5    0.045535\n",
       "BL.6    0.044771\n",
       "BL.4    0.044403\n",
       "BN.1    0.043822\n",
       "BN.3    0.043097\n",
       "BP.2    0.042245\n",
       "BE.2    0.041502\n",
       "BE.3    0.040848\n",
       "BE.1    0.040552\n",
       "BL.3    0.038903\n",
       "Name: 0, dtype: float64"
      ]
     },
     "execution_count": 21,
     "metadata": {},
     "output_type": "execute_result"
    }
   ],
   "source": [
    "text = \"El gobierno nacional y gobiernos subnacionales diseñan e implementan sistemas de información & monitoreo para la gestión integral de los recursos naturales y la gestión de riesgos y emergencias.\"\n",
    "text = \"Países de la región diseñan e implementan soluciones digitales para ampliar la participación y acceso de las aldeas rurales a tecnologías digitales que contribuyen a la productividad y resiliencia de   los sistemas agroalimentarios.\"\n",
    "text_embedding = embedding.generate(text)\n",
    "pd.DataFrame(clf.predict_proba(text_embedding.reshape(1, -1)), columns=ppas).iloc[0].sort_values(ascending=False)"
   ]
  },
  {
   "cell_type": "code",
   "execution_count": 14,
   "metadata": {},
   "outputs": [],
   "source": []
  },
  {
   "cell_type": "code",
   "execution_count": 16,
   "metadata": {},
   "outputs": [
    {
     "data": {
      "text/plain": [
       "BL.2    0.134064\n",
       "BP.4    0.119613\n",
       "BP.1    0.074770\n",
       "BE.4    0.044756\n",
       "BL.3    0.043214\n",
       "BP.2    0.042989\n",
       "BP.5    0.042922\n",
       "BE.1    0.042751\n",
       "BL.1    0.042283\n",
       "BP.3    0.041627\n",
       "BN.2    0.040721\n",
       "BL.5    0.040413\n",
       "BN.1    0.039456\n",
       "BL.4    0.038986\n",
       "BN.3    0.037976\n",
       "BE.3    0.037954\n",
       "BN.5    0.034982\n",
       "BL.6    0.034630\n",
       "BE.2    0.033069\n",
       "BN.4    0.032822\n",
       "Name: 0, dtype: float64"
      ]
     },
     "execution_count": 16,
     "metadata": {},
     "output_type": "execute_result"
    }
   ],
   "source": []
  },
  {
   "cell_type": "code",
   "execution_count": null,
   "metadata": {},
   "outputs": [],
   "source": []
  }
 ],
 "metadata": {
  "kernelspec": {
   "display_name": "Python 3",
   "language": "python",
   "name": "python3"
  },
  "language_info": {
   "codemirror_mode": {
    "name": "ipython",
    "version": 3
   },
   "file_extension": ".py",
   "mimetype": "text/x-python",
   "name": "python",
   "nbconvert_exporter": "python",
   "pygments_lexer": "ipython3",
   "version": "3.11.9"
  }
 },
 "nbformat": 4,
 "nbformat_minor": 2
}
