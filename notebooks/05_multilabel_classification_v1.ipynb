{
 "cells": [
  {
   "cell_type": "code",
   "execution_count": 10,
   "metadata": {},
   "outputs": [],
   "source": [
    "import pandas as pd\n",
    "from imblearn.over_sampling import SMOTE, SMOTEN\n",
    "from sklearn.metrics import confusion_matrix, precision_score, recall_score, auc, roc_auc_score, average_precision_score\n",
    "from imblearn.over_sampling import RandomOverSampler\n",
    "from sklearn.neural_network import MLPClassifier\n",
    "import numpy as np\n",
    "from copy import deepcopy\n",
    "import functools\n",
    "import networkx as nx\n",
    "from hiclass import BinaryPolicy\n",
    "from hiclass.ConstantClassifier import ConstantClassifier\n",
    "from hiclass.MultiLabelHierarchicalClassifier import MultiLabelHierarchicalClassifier, make_leveled\n",
    "from sklearn.base import BaseEstimator\n",
    "from sklearn.utils.validation import check_is_fitted\n",
    "from hiclass import LocalClassifierPerNode\n",
    "from hiclass.MultiLabelLocalClassifierPerNode import MultiLabelLocalClassifierPerNode\n",
    "from sklearn.ensemble import RandomForestClassifier\n",
    "from sklearn.linear_model import LogisticRegression\n",
    "from sklearn.svm import SVC\n",
    "\n",
    "import plotly.express as px\n",
    "import sklearn\n"
   ]
  },
  {
   "cell_type": "markdown",
   "metadata": {},
   "source": [
    "- X: embeddings large\n",
    "- y: ppa (single)\n",
    "\n",
    "Explode ppa\n",
    "\n",
    "Evaluation:  per ppa  (AUC & PR)"
   ]
  },
  {
   "cell_type": "code",
   "execution_count": 11,
   "metadata": {},
   "outputs": [],
   "source": [
    "outputs_df = pd.read_parquet(\"../data/processed/outputs_openai_embeddings_v1.parquet\")\n",
    "ppas = outputs_df.PPAs_list.explode().drop_duplicates().sort_values().to_list()\n",
    "train_df = outputs_df[~outputs_df.test_set]\n",
    "test_df = outputs_df[outputs_df.test_set]\n",
    "X_labels = outputs_df.columns[outputs_df.columns.str.contains(\"openai_embedding_small\")]\n",
    "# y_label = \"PPAs_list\"\n",
    "oversampling = True\n",
    "\n",
    "X_train = train_df[X_labels].to_numpy()\n",
    "# y_train = train_df[y_label].to_numpy()\n",
    "y_train = train_df[ppas].astype(int).to_numpy()\n",
    "\n",
    "X_test = test_df[X_labels].to_numpy()\n",
    "# y_test = test_df[y_label].to_numpy()\n",
    "y_test = test_df[ppas].astype(int).to_numpy()\n",
    "\n",
    "\n"
   ]
  },
  {
   "cell_type": "code",
   "execution_count": 12,
   "metadata": {},
   "outputs": [],
   "source": [
    "\n",
    "\n",
    "# if oversampling:\n",
    "#     ros = RandomOverSampler(random_state=42)\n",
    "#     X_train, y_train = ros.fit_resample(X_train, y_train)\n",
    "\n",
    "\n"
   ]
  },
  {
   "cell_type": "markdown",
   "metadata": {},
   "source": [
    "- X: embeddings large\n",
    "- y: ppa (single)\n",
    "\n",
    "Explode ppa\n",
    "\n",
    "Evaluation:  per ppa  (AUC & PR)"
   ]
  },
  {
   "cell_type": "code",
   "execution_count": 13,
   "metadata": {},
   "outputs": [],
   "source": [
    "\n",
    "\n",
    "# if oversampling:\n",
    "#     ros = RandomOverSampler(random_state=42)\n",
    "#     X_train, y_train = ros.fit_resample(X_train, y_train)\n",
    "\n",
    "if oversampling:\n",
    "    train_oversamples_df, _ = ros.fit_resample(train_df, y=train_df[\"primary_ppa\"])\n",
    "    X_train = train_df[X_labels].to_numpy()\n",
    "# y_train = train_df[y_label].to_numpy()\n",
    "    y_train = train_df[ppas].astype(int).to_numpy() "
   ]
  },
  {
   "cell_type": "code",
   "execution_count": null,
   "metadata": {},
   "outputs": [],
   "source": [
    "\n",
    "from sklearn.linear_model import RidgeClassifier\n",
    "\n",
    "\n",
    "clf = RidgeClassifier(random_state=99)\n",
    "# clf = LogisticRegression(random_state=99, max_iter=10_000)\n",
    "clf.fit(X_train, y_train)\n",
    "# random_forest.score(X_test, y_test)\n",
    "\n",
    "# y_pred = clf.predict(X_test)\n",
    "# y_pred_proba = clf.predict_proba(X_test)\n",
    "\n",
    "d = clf.decision_function(X_test)\n",
    "print(d.shape)\n",
    "y_pred_proba = np.exp(d) / np.sum(np.exp(d))\n",
    "print(y_pred_proba.shape)\n",
    "y_pred_proba_df = pd.DataFrame(y_pred_proba, columns=ppas)\n",
    "# y_pred_proba_df = pd.DataFrame(np.array(y_pred_proba)[:, :, 0].T, columns=ppas)\n",
    "\n",
    "experiment = []\n",
    "for ppa in ppas:    \n",
    "    y_test_ppa = test_df[ppa].astype(int)\n",
    "    experiment.append({\n",
    "        \"ppa\": ppa,\n",
    "        \"roc_auc\": roc_auc_score(y_test_ppa, y_pred_proba_df[ppa]),\n",
    "        \"average_precision\": average_precision_score(y_test_ppa, y_pred_proba_df[ppa])\n",
    "    })\n",
    "    \n",
    "experiment_df = pd.DataFrame(experiment)\n",
    "experiment_df.describe()"
   ]
  },
  {
   "cell_type": "code",
   "execution_count": null,
   "metadata": {},
   "outputs": [],
   "source": [
    "from sklearn.neighbors import KNeighborsClassifier\n",
    "\n",
    "\n",
    "clf = KNeighborsClassifier()\n",
    "# clf = LogisticRegression(random_state=99, max_iter=10_000)\n",
    "clf.fit(X_train, y_train)\n",
    "# random_forest.score(X_test, y_test)\n",
    "\n",
    "# y_pred = clf.predict(X_test)\n",
    "y_pred_proba = clf.predict_proba(X_test)\n",
    "\n",
    "# d = clf.decision_function(X_test)\n",
    "# print(d.shape)\n",
    "# y_pred_proba = np.exp(d) / np.sum(np.exp(d))\n",
    "# print(y_pred_proba.shape)\n",
    "# y_pred_proba_df = pd.DataFrame(y_pred_proba, columns=ppas)\n",
    "y_pred_proba_df = pd.DataFrame(np.array(y_pred_proba)[:, :, 0].T, columns=ppas)\n",
    "\n",
    "experiment = []\n",
    "for ppa in ppas:    \n",
    "    y_test_ppa = test_df[ppa].astype(int)\n",
    "    experiment.append({\n",
    "        \"ppa\": ppa,\n",
    "        \"roc_auc\": roc_auc_score(y_test_ppa, y_pred_proba_df[ppa]),\n",
    "        \"average_precision\": average_precision_score(y_test_ppa, y_pred_proba_df[ppa])\n",
    "    })\n",
    "    \n",
    "experiment_df = pd.DataFrame(experiment)\n",
    "experiment_df.describe()"
   ]
  },
  {
   "cell_type": "code",
   "execution_count": 14,
   "metadata": {},
   "outputs": [
    {
     "data": {
      "text/html": [
       "<div>\n",
       "<style scoped>\n",
       "    .dataframe tbody tr th:only-of-type {\n",
       "        vertical-align: middle;\n",
       "    }\n",
       "\n",
       "    .dataframe tbody tr th {\n",
       "        vertical-align: top;\n",
       "    }\n",
       "\n",
       "    .dataframe thead th {\n",
       "        text-align: right;\n",
       "    }\n",
       "</style>\n",
       "<table border=\"1\" class=\"dataframe\">\n",
       "  <thead>\n",
       "    <tr style=\"text-align: right;\">\n",
       "      <th></th>\n",
       "      <th>roc_auc</th>\n",
       "      <th>average_precision</th>\n",
       "    </tr>\n",
       "  </thead>\n",
       "  <tbody>\n",
       "    <tr>\n",
       "      <th>count</th>\n",
       "      <td>20.000000</td>\n",
       "      <td>20.000000</td>\n",
       "    </tr>\n",
       "    <tr>\n",
       "      <th>mean</th>\n",
       "      <td>0.881520</td>\n",
       "      <td>0.556749</td>\n",
       "    </tr>\n",
       "    <tr>\n",
       "      <th>std</th>\n",
       "      <td>0.136083</td>\n",
       "      <td>0.282911</td>\n",
       "    </tr>\n",
       "    <tr>\n",
       "      <th>min</th>\n",
       "      <td>0.537143</td>\n",
       "      <td>0.083916</td>\n",
       "    </tr>\n",
       "    <tr>\n",
       "      <th>25%</th>\n",
       "      <td>0.837445</td>\n",
       "      <td>0.291171</td>\n",
       "    </tr>\n",
       "    <tr>\n",
       "      <th>50%</th>\n",
       "      <td>0.927083</td>\n",
       "      <td>0.597222</td>\n",
       "    </tr>\n",
       "    <tr>\n",
       "      <th>75%</th>\n",
       "      <td>0.972973</td>\n",
       "      <td>0.750000</td>\n",
       "    </tr>\n",
       "    <tr>\n",
       "      <th>max</th>\n",
       "      <td>1.000000</td>\n",
       "      <td>1.000000</td>\n",
       "    </tr>\n",
       "  </tbody>\n",
       "</table>\n",
       "</div>"
      ],
      "text/plain": [
       "         roc_auc  average_precision\n",
       "count  20.000000          20.000000\n",
       "mean    0.881520           0.556749\n",
       "std     0.136083           0.282911\n",
       "min     0.537143           0.083916\n",
       "25%     0.837445           0.291171\n",
       "50%     0.927083           0.597222\n",
       "75%     0.972973           0.750000\n",
       "max     1.000000           1.000000"
      ]
     },
     "execution_count": 14,
     "metadata": {},
     "output_type": "execute_result"
    }
   ],
   "source": [
    "\n",
    "clf = MLPClassifier(random_state=99, max_iter=10_000)\n",
    "# clf = LogisticRegression(random_state=99, max_iter=10_000)\n",
    "clf.fit(X_train, y_train)\n",
    "# random_forest.score(X_test, y_test)\n",
    "\n",
    "# y_pred = clf.predict(X_test)\n",
    "y_pred_proba = clf.predict_proba(X_test)\n",
    "y_pred_proba_df = pd.DataFrame(y_pred_proba, columns=ppas)\n",
    "# y_pred_proba_df = pd.DataFrame(np.array(y_pred_proba)[:, :, 0].T, columns=ppas)\n",
    "\n",
    "experiment = []\n",
    "for ppa in ppas:    \n",
    "    y_test_ppa = test_df[ppa].astype(int)\n",
    "    experiment.append({\n",
    "        \"ppa\": ppa,\n",
    "        \"roc_auc\": roc_auc_score(y_test_ppa, y_pred_proba_df[ppa]),\n",
    "        \"average_precision\": average_precision_score(y_test_ppa, y_pred_proba_df[ppa])\n",
    "    })\n",
    "    \n",
    "experiment_df = pd.DataFrame(experiment)\n",
    "experiment_df.describe()"
   ]
  },
  {
   "cell_type": "code",
   "execution_count": null,
   "metadata": {},
   "outputs": [],
   "source": [
    "px.scatter(pd.DataFrame(experiment), x=\"roc_auc\", y=\"average_precision\", text=\"ppa\").show()"
   ]
  },
  {
   "cell_type": "markdown",
   "metadata": {},
   "source": [
    "- logistic regression OvA\n",
    "- hierarquical\n",
    "- con / sin oversampling\n",
    "- large/small embeddings\n",
    "- \n"
   ]
  },
  {
   "cell_type": "code",
   "execution_count": 5,
   "metadata": {},
   "outputs": [],
   "source": [
    "y_train = train_df.PPAs_list.apply(lambda ppa_list: [[ppa[:2], ppa] for ppa in ppa_list]).to_list()\n",
    "y_test = test_df.PPAs_list.apply(lambda ppa_list: [[ppa[:2], ppa] for ppa in ppa_list]).to_list()\n",
    "\n",
    "y_train = np.asarray(y_train, dtype=\"object\")\n",
    "y_test = np.asarray(y_test, dtype=\"object\")"
   ]
  },
  {
   "cell_type": "code",
   "execution_count": 6,
   "metadata": {},
   "outputs": [],
   "source": [
    "def predict1(self, X, tolerance: float = None) -> np.ndarray:\n",
    "    r\"\"\"\n",
    "    Predict classes for the given data.\n",
    "\n",
    "    Hierarchical labels are returned.\n",
    "\n",
    "    Parameters\n",
    "    ----------\n",
    "    X : {array-like, sparse matrix} of shape (n_samples, n_features)\n",
    "        The input samples. Internally, its dtype will be converted\n",
    "        to ``dtype=np.float32``. If a sparse matrix is provided, it will be\n",
    "        converted into a sparse ``csr_matrix``.\n",
    "    tolerance : float, default=None\n",
    "        The tolerance used to determine multi-labels.\n",
    "        If set to None, only the child class with highest probability is predicted.\n",
    "        Overrides the tolerance set in the constructor.\n",
    "        Otherwise, all child classes with :math:`probability >= max\\_prob - tolerance` are predicted.\n",
    "    Returns\n",
    "    -------\n",
    "    y : ndarray of shape (n_samples,) or (n_samples, n_outputs)\n",
    "        The predicted classes.\n",
    "    \"\"\"\n",
    "    # Check if fit has been called\n",
    "    check_is_fitted(self)\n",
    "    _tolerance = (tolerance if tolerance is not None else self.tolerance) or 0.0\n",
    "\n",
    "    # Input validation\n",
    "    if not self.bert:\n",
    "        X = sklearn.utils.validation.check_array(\n",
    "            X, accept_sparse=\"csr\"\n",
    "        )  # TODO: Decide allow_nd True or False\n",
    "    else:\n",
    "        X = np.array(X)\n",
    "\n",
    "    # Initialize array that holds predictions\n",
    "    y = [[[]] for _ in range(X.shape[0])]\n",
    "\n",
    "    bfs = nx.bfs_successors(self.hierarchy_, source=self.root_)\n",
    "\n",
    "    self.logger_.info(\"Predicting\")\n",
    "\n",
    "    probas = []\n",
    "    for predecessor, successors in bfs:\n",
    "        if predecessor == self.root_:\n",
    "            mask = [True] * X.shape[0]\n",
    "            subset_x = X[mask]\n",
    "            y_row_indices = [[i, [0]] for i in range(X.shape[0])]\n",
    "        else:\n",
    "            # get indices of rows that have the predecessor\n",
    "            y_row_indices = []\n",
    "            for row in range(X.shape[0]):\n",
    "                # create list of indices\n",
    "                _t = [z for z, ls in enumerate(y[row]) if ls[-1] == predecessor]\n",
    "\n",
    "                # y_row_indices is a list of lists, each list contains the index of the row and a list of column indices\n",
    "                y_row_indices.append([row, _t])\n",
    "\n",
    "            # Filter\n",
    "            mask = [True if ld[1] else False for ld in y_row_indices]\n",
    "            y_row_indices = [k for k in y_row_indices if k[1]]\n",
    "            subset_x = X[mask]\n",
    "\n",
    "        if subset_x.shape[0] > 0:\n",
    "            probabilities = np.zeros((subset_x.shape[0], len(successors)))\n",
    "            for row, successor in enumerate(successors):\n",
    "                successor_name = str(successor).split(self.separator_)[-1]\n",
    "                self.logger_.info(f\"Predicting for node '{successor_name}'\")\n",
    "                classifier = self.hierarchy_.nodes[successor][\"classifier\"]\n",
    "                positive_index = np.where(classifier.classes_ == 1)[0]\n",
    "\n",
    "\n",
    "                # if hasattr(classifier, \"predict_proba\"):\n",
    "                probabilities[:, row] = classifier.predict_proba(subset_x)[\n",
    "                    :, positive_index\n",
    "                ][:, 0]\n",
    "                # else:\n",
    "                #     print(subset_x.shape)\n",
    "                #     d = classifier.decision_function(subset_x)\n",
    "                #     y_pred_proba = np.exp(d) / np.sum(np.exp(d))\n",
    "                #     print(y_pred_proba)\n",
    "                #     probabilities[:, row] = y_pred_proba[\n",
    "                #         :, positive_index\n",
    "                #     ][:, 0]\n",
    "\n",
    "\n",
    "\n",
    "            probas.append(pd.DataFrame(probabilities, columns=successors, index=[x0 for x0, x1 in y_row_indices]))\n",
    "\n",
    "            # get indices of probabilities that are within tolerance of max\n",
    "\n",
    "            highest_probabilities = np.max(probabilities, axis=1).reshape(-1, 1)\n",
    "\n",
    "            # indices_probabilities_within_tolerance = np.argwhere(\n",
    "            #     np.greater_equal(probabilities, highest_probabilities - _tolerance)\n",
    "            # )\n",
    "            indices_probabilities_within_tolerance = np.argwhere(\n",
    "                np.greater_equal(probabilities, 0)\n",
    "            )\n",
    "\n",
    "            prediction = [[] for _ in range(subset_x.shape[0])]\n",
    "            for row, column in indices_probabilities_within_tolerance:\n",
    "                prediction[row].append(successors[column])\n",
    "\n",
    "            k = 0  # index of prediction\n",
    "            for row, col_list in y_row_indices:\n",
    "                for j in col_list:\n",
    "                    if not prediction[k]:\n",
    "                        y[row][j].append(\"\")\n",
    "                    else:\n",
    "                        for pi, _suc in enumerate(prediction[k]):\n",
    "                            if pi == 0:\n",
    "                                y[row][j].append(_suc)\n",
    "                            else:\n",
    "                                # in case of mulitple predictions, copy the previous prediction up to (but not including) the last prediction and add the new one\n",
    "                                _old_y = y[row][j][:-1].copy()\n",
    "                                y[row].insert(j + 1, _old_y + [_suc])\n",
    "                k += 1\n",
    "\n",
    "    y = make_leveled(y)\n",
    "    self._remove_separator(y)\n",
    "    y = np.array(y, dtype=self.dtype_)\n",
    "    return probas\n",
    "    return y"
   ]
  },
  {
   "cell_type": "code",
   "execution_count": 9,
   "metadata": {},
   "outputs": [
    {
     "data": {
      "text/html": [
       "<div>\n",
       "<style scoped>\n",
       "    .dataframe tbody tr th:only-of-type {\n",
       "        vertical-align: middle;\n",
       "    }\n",
       "\n",
       "    .dataframe tbody tr th {\n",
       "        vertical-align: top;\n",
       "    }\n",
       "\n",
       "    .dataframe thead th {\n",
       "        text-align: right;\n",
       "    }\n",
       "</style>\n",
       "<table border=\"1\" class=\"dataframe\">\n",
       "  <thead>\n",
       "    <tr style=\"text-align: right;\">\n",
       "      <th></th>\n",
       "      <th>roc_auc</th>\n",
       "      <th>average_precision</th>\n",
       "    </tr>\n",
       "  </thead>\n",
       "  <tbody>\n",
       "    <tr>\n",
       "      <th>count</th>\n",
       "      <td>20.000000</td>\n",
       "      <td>20.000000</td>\n",
       "    </tr>\n",
       "    <tr>\n",
       "      <th>mean</th>\n",
       "      <td>0.869147</td>\n",
       "      <td>0.628587</td>\n",
       "    </tr>\n",
       "    <tr>\n",
       "      <th>std</th>\n",
       "      <td>0.196130</td>\n",
       "      <td>0.258902</td>\n",
       "    </tr>\n",
       "    <tr>\n",
       "      <th>min</th>\n",
       "      <td>0.171053</td>\n",
       "      <td>0.044700</td>\n",
       "    </tr>\n",
       "    <tr>\n",
       "      <th>25%</th>\n",
       "      <td>0.854167</td>\n",
       "      <td>0.557738</td>\n",
       "    </tr>\n",
       "    <tr>\n",
       "      <th>50%</th>\n",
       "      <td>0.933499</td>\n",
       "      <td>0.631944</td>\n",
       "    </tr>\n",
       "    <tr>\n",
       "      <th>75%</th>\n",
       "      <td>0.975759</td>\n",
       "      <td>0.775000</td>\n",
       "    </tr>\n",
       "    <tr>\n",
       "      <th>max</th>\n",
       "      <td>1.000000</td>\n",
       "      <td>1.000000</td>\n",
       "    </tr>\n",
       "  </tbody>\n",
       "</table>\n",
       "</div>"
      ],
      "text/plain": [
       "         roc_auc  average_precision\n",
       "count  20.000000          20.000000\n",
       "mean    0.869147           0.628587\n",
       "std     0.196130           0.258902\n",
       "min     0.171053           0.044700\n",
       "25%     0.854167           0.557738\n",
       "50%     0.933499           0.631944\n",
       "75%     0.975759           0.775000\n",
       "max     1.000000           1.000000"
      ]
     },
     "execution_count": 9,
     "metadata": {},
     "output_type": "execute_result"
    }
   ],
   "source": [
    "model = MLPClassifier(random_state=99, max_iter=10_000)\n",
    "classifier = MultiLabelLocalClassifierPerNode(local_classifier=model)\n",
    "classifier.fit(X_train, y_train)\n",
    "# predictions = classifier.predict(X_test)\n",
    "\n",
    "predictions = predict1(classifier, X_test)\n",
    "xx = pd.concat(predictions, axis=1).fillna(0)\n",
    "xx.columns = xx.columns.str[-4:]\n",
    "# predictions[0].assign(better=lambda _df: _df.apply(lambda _row: _row.idxmax(), axis=1))\n",
    "xx2 = xx.copy()\n",
    "for ppa in ppas:\n",
    "    xx2[ppa] = xx2.apply(lambda _row: _row[ppa]*_row[ppa[:2]], axis=1)\n",
    "    \n",
    "experiment = []\n",
    "for ppa in ppas:    \n",
    "    y_test_ppa = test_df[ppa].astype(int)\n",
    "    experiment.append({\n",
    "        \"ppa\": ppa,\n",
    "        \"roc_auc\": roc_auc_score(y_test_ppa, xx2[ppa]),\n",
    "        \"average_precision\": average_precision_score(y_test_ppa, xx2[ppa])\n",
    "    })\n",
    "experiment_df = pd.DataFrame(experiment)\n",
    "experiment_df.describe()"
   ]
  },
  {
   "cell_type": "code",
   "execution_count": 16,
   "metadata": {},
   "outputs": [
    {
     "data": {
      "application/vnd.plotly.v1+json": {
       "config": {
        "plotlyServerURL": "https://plot.ly"
       },
       "data": [
        {
         "hovertemplate": "roc_auc=%{x}<br>average_precision=%{y}<br>ppa=%{text}<extra></extra>",
         "legendgroup": "",
         "marker": {
          "color": "#636efa",
          "symbol": "circle"
         },
         "mode": "markers+text",
         "name": "",
         "orientation": "v",
         "showlegend": false,
         "text": [
          "BE.1",
          "BE.2",
          "BE.3",
          "BE.4",
          "BL.1",
          "BL.2",
          "BL.3",
          "BL.4",
          "BL.5",
          "BL.6",
          "BN.1",
          "BN.2",
          "BN.3",
          "BN.4",
          "BN.5",
          "BP.1",
          "BP.2",
          "BP.3",
          "BP.4",
          "BP.5"
         ],
         "type": "scatter",
         "x": [
          0.9639639639639639,
          0.5526315789473685,
          0.986842105263158,
          0.8289473684210527,
          1,
          0.7314285714285714,
          0.963963963963964,
          0.9305555555555556,
          0.9736842105263158,
          0.8402777777777778,
          0.9729729729729729,
          0.9210526315789473,
          0.8026315789473685,
          0.963963963963964,
          0.9236111111111112,
          0.5371428571428571,
          1,
          0.9729729729729729,
          0.855855855855856,
          0.9078947368421053
         ],
         "xaxis": "x",
         "y": [
          0.7222222222222223,
          0.08391608391608392,
          0.8333333333333333,
          0.3214285714285714,
          1,
          0.2668165168165168,
          0.7,
          0.7071428571428571,
          0.5833333333333333,
          0.6083333333333333,
          0.8333333333333333,
          0.39285714285714285,
          0.23333333333333334,
          0.7,
          0.5861111111111111,
          0.1481357722737033,
          1,
          0.8333333333333333,
          0.28968253968253965,
          0.29166666666666663
         ],
         "yaxis": "y"
        }
       ],
       "layout": {
        "legend": {
         "tracegroupgap": 0
        },
        "margin": {
         "t": 60
        },
        "template": {
         "data": {
          "bar": [
           {
            "error_x": {
             "color": "#2a3f5f"
            },
            "error_y": {
             "color": "#2a3f5f"
            },
            "marker": {
             "line": {
              "color": "#E5ECF6",
              "width": 0.5
             },
             "pattern": {
              "fillmode": "overlay",
              "size": 10,
              "solidity": 0.2
             }
            },
            "type": "bar"
           }
          ],
          "barpolar": [
           {
            "marker": {
             "line": {
              "color": "#E5ECF6",
              "width": 0.5
             },
             "pattern": {
              "fillmode": "overlay",
              "size": 10,
              "solidity": 0.2
             }
            },
            "type": "barpolar"
           }
          ],
          "carpet": [
           {
            "aaxis": {
             "endlinecolor": "#2a3f5f",
             "gridcolor": "white",
             "linecolor": "white",
             "minorgridcolor": "white",
             "startlinecolor": "#2a3f5f"
            },
            "baxis": {
             "endlinecolor": "#2a3f5f",
             "gridcolor": "white",
             "linecolor": "white",
             "minorgridcolor": "white",
             "startlinecolor": "#2a3f5f"
            },
            "type": "carpet"
           }
          ],
          "choropleth": [
           {
            "colorbar": {
             "outlinewidth": 0,
             "ticks": ""
            },
            "type": "choropleth"
           }
          ],
          "contour": [
           {
            "colorbar": {
             "outlinewidth": 0,
             "ticks": ""
            },
            "colorscale": [
             [
              0,
              "#0d0887"
             ],
             [
              0.1111111111111111,
              "#46039f"
             ],
             [
              0.2222222222222222,
              "#7201a8"
             ],
             [
              0.3333333333333333,
              "#9c179e"
             ],
             [
              0.4444444444444444,
              "#bd3786"
             ],
             [
              0.5555555555555556,
              "#d8576b"
             ],
             [
              0.6666666666666666,
              "#ed7953"
             ],
             [
              0.7777777777777778,
              "#fb9f3a"
             ],
             [
              0.8888888888888888,
              "#fdca26"
             ],
             [
              1,
              "#f0f921"
             ]
            ],
            "type": "contour"
           }
          ],
          "contourcarpet": [
           {
            "colorbar": {
             "outlinewidth": 0,
             "ticks": ""
            },
            "type": "contourcarpet"
           }
          ],
          "heatmap": [
           {
            "colorbar": {
             "outlinewidth": 0,
             "ticks": ""
            },
            "colorscale": [
             [
              0,
              "#0d0887"
             ],
             [
              0.1111111111111111,
              "#46039f"
             ],
             [
              0.2222222222222222,
              "#7201a8"
             ],
             [
              0.3333333333333333,
              "#9c179e"
             ],
             [
              0.4444444444444444,
              "#bd3786"
             ],
             [
              0.5555555555555556,
              "#d8576b"
             ],
             [
              0.6666666666666666,
              "#ed7953"
             ],
             [
              0.7777777777777778,
              "#fb9f3a"
             ],
             [
              0.8888888888888888,
              "#fdca26"
             ],
             [
              1,
              "#f0f921"
             ]
            ],
            "type": "heatmap"
           }
          ],
          "heatmapgl": [
           {
            "colorbar": {
             "outlinewidth": 0,
             "ticks": ""
            },
            "colorscale": [
             [
              0,
              "#0d0887"
             ],
             [
              0.1111111111111111,
              "#46039f"
             ],
             [
              0.2222222222222222,
              "#7201a8"
             ],
             [
              0.3333333333333333,
              "#9c179e"
             ],
             [
              0.4444444444444444,
              "#bd3786"
             ],
             [
              0.5555555555555556,
              "#d8576b"
             ],
             [
              0.6666666666666666,
              "#ed7953"
             ],
             [
              0.7777777777777778,
              "#fb9f3a"
             ],
             [
              0.8888888888888888,
              "#fdca26"
             ],
             [
              1,
              "#f0f921"
             ]
            ],
            "type": "heatmapgl"
           }
          ],
          "histogram": [
           {
            "marker": {
             "pattern": {
              "fillmode": "overlay",
              "size": 10,
              "solidity": 0.2
             }
            },
            "type": "histogram"
           }
          ],
          "histogram2d": [
           {
            "colorbar": {
             "outlinewidth": 0,
             "ticks": ""
            },
            "colorscale": [
             [
              0,
              "#0d0887"
             ],
             [
              0.1111111111111111,
              "#46039f"
             ],
             [
              0.2222222222222222,
              "#7201a8"
             ],
             [
              0.3333333333333333,
              "#9c179e"
             ],
             [
              0.4444444444444444,
              "#bd3786"
             ],
             [
              0.5555555555555556,
              "#d8576b"
             ],
             [
              0.6666666666666666,
              "#ed7953"
             ],
             [
              0.7777777777777778,
              "#fb9f3a"
             ],
             [
              0.8888888888888888,
              "#fdca26"
             ],
             [
              1,
              "#f0f921"
             ]
            ],
            "type": "histogram2d"
           }
          ],
          "histogram2dcontour": [
           {
            "colorbar": {
             "outlinewidth": 0,
             "ticks": ""
            },
            "colorscale": [
             [
              0,
              "#0d0887"
             ],
             [
              0.1111111111111111,
              "#46039f"
             ],
             [
              0.2222222222222222,
              "#7201a8"
             ],
             [
              0.3333333333333333,
              "#9c179e"
             ],
             [
              0.4444444444444444,
              "#bd3786"
             ],
             [
              0.5555555555555556,
              "#d8576b"
             ],
             [
              0.6666666666666666,
              "#ed7953"
             ],
             [
              0.7777777777777778,
              "#fb9f3a"
             ],
             [
              0.8888888888888888,
              "#fdca26"
             ],
             [
              1,
              "#f0f921"
             ]
            ],
            "type": "histogram2dcontour"
           }
          ],
          "mesh3d": [
           {
            "colorbar": {
             "outlinewidth": 0,
             "ticks": ""
            },
            "type": "mesh3d"
           }
          ],
          "parcoords": [
           {
            "line": {
             "colorbar": {
              "outlinewidth": 0,
              "ticks": ""
             }
            },
            "type": "parcoords"
           }
          ],
          "pie": [
           {
            "automargin": true,
            "type": "pie"
           }
          ],
          "scatter": [
           {
            "fillpattern": {
             "fillmode": "overlay",
             "size": 10,
             "solidity": 0.2
            },
            "type": "scatter"
           }
          ],
          "scatter3d": [
           {
            "line": {
             "colorbar": {
              "outlinewidth": 0,
              "ticks": ""
             }
            },
            "marker": {
             "colorbar": {
              "outlinewidth": 0,
              "ticks": ""
             }
            },
            "type": "scatter3d"
           }
          ],
          "scattercarpet": [
           {
            "marker": {
             "colorbar": {
              "outlinewidth": 0,
              "ticks": ""
             }
            },
            "type": "scattercarpet"
           }
          ],
          "scattergeo": [
           {
            "marker": {
             "colorbar": {
              "outlinewidth": 0,
              "ticks": ""
             }
            },
            "type": "scattergeo"
           }
          ],
          "scattergl": [
           {
            "marker": {
             "colorbar": {
              "outlinewidth": 0,
              "ticks": ""
             }
            },
            "type": "scattergl"
           }
          ],
          "scattermapbox": [
           {
            "marker": {
             "colorbar": {
              "outlinewidth": 0,
              "ticks": ""
             }
            },
            "type": "scattermapbox"
           }
          ],
          "scatterpolar": [
           {
            "marker": {
             "colorbar": {
              "outlinewidth": 0,
              "ticks": ""
             }
            },
            "type": "scatterpolar"
           }
          ],
          "scatterpolargl": [
           {
            "marker": {
             "colorbar": {
              "outlinewidth": 0,
              "ticks": ""
             }
            },
            "type": "scatterpolargl"
           }
          ],
          "scatterternary": [
           {
            "marker": {
             "colorbar": {
              "outlinewidth": 0,
              "ticks": ""
             }
            },
            "type": "scatterternary"
           }
          ],
          "surface": [
           {
            "colorbar": {
             "outlinewidth": 0,
             "ticks": ""
            },
            "colorscale": [
             [
              0,
              "#0d0887"
             ],
             [
              0.1111111111111111,
              "#46039f"
             ],
             [
              0.2222222222222222,
              "#7201a8"
             ],
             [
              0.3333333333333333,
              "#9c179e"
             ],
             [
              0.4444444444444444,
              "#bd3786"
             ],
             [
              0.5555555555555556,
              "#d8576b"
             ],
             [
              0.6666666666666666,
              "#ed7953"
             ],
             [
              0.7777777777777778,
              "#fb9f3a"
             ],
             [
              0.8888888888888888,
              "#fdca26"
             ],
             [
              1,
              "#f0f921"
             ]
            ],
            "type": "surface"
           }
          ],
          "table": [
           {
            "cells": {
             "fill": {
              "color": "#EBF0F8"
             },
             "line": {
              "color": "white"
             }
            },
            "header": {
             "fill": {
              "color": "#C8D4E3"
             },
             "line": {
              "color": "white"
             }
            },
            "type": "table"
           }
          ]
         },
         "layout": {
          "annotationdefaults": {
           "arrowcolor": "#2a3f5f",
           "arrowhead": 0,
           "arrowwidth": 1
          },
          "autotypenumbers": "strict",
          "coloraxis": {
           "colorbar": {
            "outlinewidth": 0,
            "ticks": ""
           }
          },
          "colorscale": {
           "diverging": [
            [
             0,
             "#8e0152"
            ],
            [
             0.1,
             "#c51b7d"
            ],
            [
             0.2,
             "#de77ae"
            ],
            [
             0.3,
             "#f1b6da"
            ],
            [
             0.4,
             "#fde0ef"
            ],
            [
             0.5,
             "#f7f7f7"
            ],
            [
             0.6,
             "#e6f5d0"
            ],
            [
             0.7,
             "#b8e186"
            ],
            [
             0.8,
             "#7fbc41"
            ],
            [
             0.9,
             "#4d9221"
            ],
            [
             1,
             "#276419"
            ]
           ],
           "sequential": [
            [
             0,
             "#0d0887"
            ],
            [
             0.1111111111111111,
             "#46039f"
            ],
            [
             0.2222222222222222,
             "#7201a8"
            ],
            [
             0.3333333333333333,
             "#9c179e"
            ],
            [
             0.4444444444444444,
             "#bd3786"
            ],
            [
             0.5555555555555556,
             "#d8576b"
            ],
            [
             0.6666666666666666,
             "#ed7953"
            ],
            [
             0.7777777777777778,
             "#fb9f3a"
            ],
            [
             0.8888888888888888,
             "#fdca26"
            ],
            [
             1,
             "#f0f921"
            ]
           ],
           "sequentialminus": [
            [
             0,
             "#0d0887"
            ],
            [
             0.1111111111111111,
             "#46039f"
            ],
            [
             0.2222222222222222,
             "#7201a8"
            ],
            [
             0.3333333333333333,
             "#9c179e"
            ],
            [
             0.4444444444444444,
             "#bd3786"
            ],
            [
             0.5555555555555556,
             "#d8576b"
            ],
            [
             0.6666666666666666,
             "#ed7953"
            ],
            [
             0.7777777777777778,
             "#fb9f3a"
            ],
            [
             0.8888888888888888,
             "#fdca26"
            ],
            [
             1,
             "#f0f921"
            ]
           ]
          },
          "colorway": [
           "#636efa",
           "#EF553B",
           "#00cc96",
           "#ab63fa",
           "#FFA15A",
           "#19d3f3",
           "#FF6692",
           "#B6E880",
           "#FF97FF",
           "#FECB52"
          ],
          "font": {
           "color": "#2a3f5f"
          },
          "geo": {
           "bgcolor": "white",
           "lakecolor": "white",
           "landcolor": "#E5ECF6",
           "showlakes": true,
           "showland": true,
           "subunitcolor": "white"
          },
          "hoverlabel": {
           "align": "left"
          },
          "hovermode": "closest",
          "mapbox": {
           "style": "light"
          },
          "paper_bgcolor": "white",
          "plot_bgcolor": "#E5ECF6",
          "polar": {
           "angularaxis": {
            "gridcolor": "white",
            "linecolor": "white",
            "ticks": ""
           },
           "bgcolor": "#E5ECF6",
           "radialaxis": {
            "gridcolor": "white",
            "linecolor": "white",
            "ticks": ""
           }
          },
          "scene": {
           "xaxis": {
            "backgroundcolor": "#E5ECF6",
            "gridcolor": "white",
            "gridwidth": 2,
            "linecolor": "white",
            "showbackground": true,
            "ticks": "",
            "zerolinecolor": "white"
           },
           "yaxis": {
            "backgroundcolor": "#E5ECF6",
            "gridcolor": "white",
            "gridwidth": 2,
            "linecolor": "white",
            "showbackground": true,
            "ticks": "",
            "zerolinecolor": "white"
           },
           "zaxis": {
            "backgroundcolor": "#E5ECF6",
            "gridcolor": "white",
            "gridwidth": 2,
            "linecolor": "white",
            "showbackground": true,
            "ticks": "",
            "zerolinecolor": "white"
           }
          },
          "shapedefaults": {
           "line": {
            "color": "#2a3f5f"
           }
          },
          "ternary": {
           "aaxis": {
            "gridcolor": "white",
            "linecolor": "white",
            "ticks": ""
           },
           "baxis": {
            "gridcolor": "white",
            "linecolor": "white",
            "ticks": ""
           },
           "bgcolor": "#E5ECF6",
           "caxis": {
            "gridcolor": "white",
            "linecolor": "white",
            "ticks": ""
           }
          },
          "title": {
           "x": 0.05
          },
          "xaxis": {
           "automargin": true,
           "gridcolor": "white",
           "linecolor": "white",
           "ticks": "",
           "title": {
            "standoff": 15
           },
           "zerolinecolor": "white",
           "zerolinewidth": 2
          },
          "yaxis": {
           "automargin": true,
           "gridcolor": "white",
           "linecolor": "white",
           "ticks": "",
           "title": {
            "standoff": 15
           },
           "zerolinecolor": "white",
           "zerolinewidth": 2
          }
         }
        },
        "xaxis": {
         "anchor": "y",
         "domain": [
          0,
          1
         ],
         "title": {
          "text": "roc_auc"
         }
        },
        "yaxis": {
         "anchor": "x",
         "domain": [
          0,
          1
         ],
         "title": {
          "text": "average_precision"
         }
        }
       }
      }
     },
     "metadata": {},
     "output_type": "display_data"
    }
   ],
   "source": [
    "px.scatter(pd.DataFrame(experiment), x=\"roc_auc\", y=\"average_precision\", text=\"ppa\").show()"
   ]
  },
  {
   "cell_type": "code",
   "execution_count": null,
   "metadata": {},
   "outputs": [],
   "source": [
    "model = RidgeClassifier(random_state=99)\n",
    "\n",
    "def pred_prob(X_test, model1):\n",
    "    d = model1.decision_function(X_test)\n",
    "    # print(d.shape)\n",
    "    y_pred_proba = np.exp(d) / np.sum(np.exp(d))\n",
    "    return y_pred_proba\n",
    "    # y_pred_proba_df = pd.DataFrame(y_pred_proba, columns=ppas)\n",
    "    \n",
    "# model.predict_proba = pred_prob\n",
    "\n",
    "classifier = MultiLabelLocalClassifierPerNode(local_classifier=model)\n",
    "classifier.fit(X_train, y_train)\n",
    "# predictions = classifier.predict(X_test)\n",
    "\n",
    "predictions = predict1(classifier, X_test)\n",
    "xx = pd.concat(predictions, axis=1).fillna(0)\n",
    "xx.columns = xx.columns.str[-4:]\n",
    "# predictions[0].assign(better=lambda _df: _df.apply(lambda _row: _row.idxmax(), axis=1))\n",
    "xx2 = xx.copy()\n",
    "for ppa in ppas:\n",
    "    xx2[ppa] = xx2.apply(lambda _row: _row[ppa]*_row[ppa[:2]], axis=1)\n",
    "    \n",
    "experiment = []\n",
    "for ppa in ppas:    \n",
    "    y_test_ppa = test_df[ppa].astype(int)\n",
    "    experiment.append({\n",
    "        \"ppa\": ppa,\n",
    "        \"roc_auc\": roc_auc_score(y_test_ppa, xx2[ppa]),\n",
    "        \"average_precision\": average_precision_score(y_test_ppa, xx2[ppa])\n",
    "    })\n",
    "experiment_df = pd.DataFrame(experiment)\n",
    "experiment_df.describe()"
   ]
  },
  {
   "cell_type": "code",
   "execution_count": null,
   "metadata": {},
   "outputs": [],
   "source": [
    "\n",
    "clf = RandomForestClassifier(random_state=99)\n",
    "# clf = LogisticRegression(random_state=99, max_iter=10_000)\n",
    "clf.fit(X_train, y_train)\n",
    "# random_forest.score(X_test, y_test)\n",
    "\n",
    "# y_pred = clf.predict(X_test)\n",
    "y_pred_proba = clf.predict_proba(X_test)\n",
    "# y_pred_proba_df = pd.DataFrame(y_pred_proba, columns=ppas)\n",
    "y_pred_proba_df = pd.DataFrame(np.array(y_pred_proba)[:, :, 0].T, columns=ppas)\n",
    "\n",
    "experiment = []\n",
    "for ppa in ppas:    \n",
    "    y_test_ppa = test_df[ppa].astype(int)\n",
    "    experiment.append({\n",
    "        \"ppa\": ppa,\n",
    "        \"roc_auc\": roc_auc_score(y_test_ppa, y_pred_proba_df[ppa]),\n",
    "        \"average_precision\": average_precision_score(y_test_ppa, y_pred_proba_df[ppa])\n",
    "    })\n",
    "    \n",
    "experiment_df = pd.DataFrame(experiment)\n",
    "experiment_df.describe()"
   ]
  },
  {
   "cell_type": "code",
   "execution_count": null,
   "metadata": {},
   "outputs": [],
   "source": [
    "\n",
    "clf = MLPClassifier(random_state=99, max_iter=10_000)\n",
    "# clf = LogisticRegression(random_state=99, max_iter=10_000)\n",
    "clf.fit(X_train, y_train)\n",
    "# random_forest.score(X_test, y_test)\n",
    "\n",
    "# y_pred = clf.predict(X_test)\n",
    "y_pred_proba = clf.predict_proba(X_test)\n",
    "y_pred_proba_df = pd.DataFrame(y_pred_proba, columns=ppas)\n",
    "# y_pred_proba_df = pd.DataFrame(np.array(y_pred_proba)[:, :, 0].T, columns=ppas)\n",
    "\n",
    "experiment = []\n",
    "for ppa in ppas:    \n",
    "    y_test_ppa = test_df[ppa].astype(int)\n",
    "    experiment.append({\n",
    "        \"ppa\": ppa,\n",
    "        \"roc_auc\": roc_auc_score(y_test_ppa, y_pred_proba_df[ppa]),\n",
    "        \"average_precision\": average_precision_score(y_test_ppa, y_pred_proba_df[ppa])\n",
    "    })\n",
    "    \n",
    "experiment_df = pd.DataFrame(experiment)\n",
    "experiment_df.describe()"
   ]
  },
  {
   "cell_type": "code",
   "execution_count": null,
   "metadata": {},
   "outputs": [],
   "source": [
    "px.scatter(pd.DataFrame(experiment), x=\"roc_auc\", y=\"average_precision\", text=\"ppa\").show()"
   ]
  },
  {
   "cell_type": "markdown",
   "metadata": {},
   "source": [
    "- logistic regression OvA\n",
    "- hierarquical\n",
    "- con / sin oversampling\n",
    "- large/small embeddings\n",
    "- \n"
   ]
  },
  {
   "cell_type": "markdown",
   "metadata": {},
   "source": [
    "# hierarquical"
   ]
  },
  {
   "cell_type": "code",
   "execution_count": null,
   "metadata": {},
   "outputs": [],
   "source": [
    "y_train = train_df.PPAs_list.apply(lambda ppa_list: [[ppa[:2], ppa] for ppa in ppa_list]).to_list()\n",
    "y_test = test_df.PPAs_list.apply(lambda ppa_list: [[ppa[:2], ppa] for ppa in ppa_list]).to_list()\n",
    "\n",
    "y_train = np.asarray(y_train, dtype=\"object\")\n",
    "y_test = np.asarray(y_test, dtype=\"object\")"
   ]
  },
  {
   "cell_type": "code",
   "execution_count": null,
   "metadata": {},
   "outputs": [],
   "source": []
  },
  {
   "cell_type": "code",
   "execution_count": null,
   "metadata": {},
   "outputs": [],
   "source": [
    "model = LassoCl(random_state=99)\n",
    "classifier = MultiLabelLocalClassifierPerNode(local_classifier=model)\n",
    "classifier.fit(X_train, y_train)\n",
    "# predictions = classifier.predict(X_test)\n",
    "\n",
    "predictions = predict1(classifier, X_test)\n",
    "xx = pd.concat(predictions, axis=1).fillna(0)\n",
    "xx.columns = xx.columns.str[-4:]\n",
    "# predictions[0].assign(better=lambda _df: _df.apply(lambda _row: _row.idxmax(), axis=1))\n",
    "xx2 = xx.copy()\n",
    "for ppa in ppas:\n",
    "    xx2[ppa] = xx2.apply(lambda _row: _row[ppa]*_row[ppa[:2]], axis=1)\n",
    "    \n",
    "experiment = []\n",
    "for ppa in ppas:    \n",
    "    y_test_ppa = test_df[ppa].astype(int)\n",
    "    experiment.append({\n",
    "        \"ppa\": ppa,\n",
    "        \"roc_auc\": roc_auc_score(y_test_ppa, xx2[ppa]),\n",
    "        \"average_precision\": average_precision_score(y_test_ppa, xx2[ppa])\n",
    "    })\n",
    "experiment_df = pd.DataFrame(experiment)\n",
    "experiment_df.describe()"
   ]
  },
  {
   "cell_type": "code",
   "execution_count": null,
   "metadata": {},
   "outputs": [],
   "source": [
    "model = LogisticRegression(random_state=99)\n",
    "classifier = MultiLabelLocalClassifierPerNode(local_classifier=model)\n",
    "classifier.fit(X_train, y_train)\n",
    "# predictions = classifier.predict(X_test)\n",
    "\n",
    "predictions = predict1(classifier, X_test)\n",
    "xx = pd.concat(predictions, axis=1).fillna(0)\n",
    "xx.columns = xx.columns.str[-4:]\n",
    "# predictions[0].assign(better=lambda _df: _df.apply(lambda _row: _row.idxmax(), axis=1))\n",
    "xx2 = xx.copy()\n",
    "for ppa in ppas:\n",
    "    xx2[ppa] = xx2.apply(lambda _row: _row[ppa]*_row[ppa[:2]], axis=1)\n",
    "    \n",
    "experiment = []\n",
    "for ppa in ppas:    \n",
    "    y_test_ppa = test_df[ppa].astype(int)\n",
    "    experiment.append({\n",
    "        \"ppa\": ppa,\n",
    "        \"roc_auc\": roc_auc_score(y_test_ppa, xx2[ppa]),\n",
    "        \"average_precision\": average_precision_score(y_test_ppa, xx2[ppa])\n",
    "    })\n",
    "experiment_df = pd.DataFrame(experiment)\n",
    "experiment_df.describe()"
   ]
  },
  {
   "cell_type": "code",
   "execution_count": null,
   "metadata": {},
   "outputs": [],
   "source": [
    "model = MLPClassifier(random_state=99, max_iter=10_000, hidden_layer_sizes=30)\n",
    "classifier = MultiLabelLocalClassifierPerNode(local_classifier=model)\n",
    "classifier.fit(X_train, y_train)\n",
    "predictions = classifier.predict(X_test)\n",
    "\n"
   ]
  }
 ],
 "metadata": {
  "kernelspec": {
   "display_name": "Python 3",
   "language": "python",
   "name": "python3"
  },
  "language_info": {
   "codemirror_mode": {
    "name": "ipython",
    "version": 3
   },
   "file_extension": ".py",
   "mimetype": "text/x-python",
   "name": "python",
   "nbconvert_exporter": "python",
   "pygments_lexer": "ipython3",
   "version": "3.1.-1"
  }
 },
 "nbformat": 4,
 "nbformat_minor": 2
}
