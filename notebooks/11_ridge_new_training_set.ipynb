{
 "cells": [
  {
   "cell_type": "code",
   "execution_count": 1,
   "metadata": {},
   "outputs": [
    {
     "name": "stderr",
     "output_type": "stream",
     "text": [
      "/Users/jm/Code/fao-ppa-classifier/.conda/lib/python3.11/site-packages/tqdm/auto.py:21: TqdmWarning: IProgress not found. Please update jupyter and ipywidgets. See https://ipywidgets.readthedocs.io/en/stable/user_install.html\n",
      "  from .autonotebook import tqdm as notebook_tqdm\n"
     ]
    }
   ],
   "source": [
    "import pandas as pd\n",
    "from imblearn.over_sampling import RandomOverSampler\n",
    "import os\n",
    "import sys\n",
    "import numpy as np\n",
    "from itertools import product\n",
    "import logging\n",
    "import tqdm\n",
    "from sklearn.metrics import average_precision_score, roc_auc_score\n",
    "sys.path.append(os.path.abspath(os.path.join('..', 'src',)))\n",
    "\n",
    "from interfaces.classifier import Classifier\n",
    "from sklearn.ensemble import RandomForestClassifier\n",
    "from sklearn.linear_model import RidgeClassifier\n",
    "from sklearn.neural_network import MLPClassifier\n",
    "\n",
    "from models.classifiers.hierarchical import Hierarchical\n",
    "from sklearn.multiclass import OneVsRestClassifier\n",
    "from sklearn.tree import DecisionTreeClassifier\n",
    "from models.classifiers.h2o import H2OMultiLabel\n",
    "from interfaces.embedding import Embedding\n",
    "\n",
    "from models.classifiers.ridge import CustomRidge\n",
    "\n",
    "from models.embeddings.openai_embedding import OpenAIEmbedding\n"
   ]
  },
  {
   "cell_type": "code",
   "execution_count": 2,
   "metadata": {},
   "outputs": [],
   "source": [
    "\n",
    "\n",
    "embedding = OpenAIEmbedding()"
   ]
  },
  {
   "cell_type": "code",
   "execution_count": 12,
   "metadata": {},
   "outputs": [],
   "source": [
    "outputs_df = pd.read_parquet(\"../data/processed/outputs_openai_embeddings_v1.parquet\")\n",
    "ppas = outputs_df.PPAs_list.explode().drop_duplicates().sort_values().to_list()\n",
    "train_df = outputs_df[~outputs_df.test_set]\n",
    "test_df = outputs_df[outputs_df.test_set]\n",
    "X_labels = outputs_df.columns[outputs_df.columns.str.contains(\"openai_embedding_small\")]\n",
    "# y_label = \"PPAs_list\"\n",
    "oversampling = True\n",
    "\n",
    "X_train = train_df[X_labels].to_numpy()\n",
    "# y_train = train_df[y_label].to_numpy()\n",
    "y_train = train_df[ppas].astype(int).to_numpy()\n",
    "\n",
    "X_test = test_df[X_labels].to_numpy()\n",
    "# y_test = test_df[y_label].to_numpy()\n",
    "y_test = test_df[ppas].astype(\"int\").to_numpy()\n",
    "\n",
    "X_full = outputs_df[X_labels].to_numpy()\n",
    "y_full = outputs_df[ppas].astype(\"int\").to_numpy()\n",
    "\n",
    "ros = RandomOverSampler(random_state=42)\n",
    "train_oversamples_df, _ = ros.fit_resample(train_df, y=train_df[\"primary_ppa\"])\n",
    "X_train_oversampled = train_oversamples_df[X_labels].to_numpy()\n",
    "# y_train = train_df[y_label].to_numpy()\n",
    "y_train_oversampled = train_oversamples_df[ppas].astype(int).to_numpy() \n",
    "\n",
    "def list_col_to_df(list_col: pd.Series, prefix: str):\n",
    "    list_df = pd.DataFrame(\n",
    "        list_col.to_list(),\n",
    "        index=list_col.index\n",
    "        ).add_prefix(prefix)\n",
    "    return list_df\n",
    "\n",
    "def ppa_hierarchy(ppas_list: pd.Series):\n",
    "    return ppas_list.apply(lambda ppa_list: [[ppa[:2], ppa] for ppa in ppa_list]).to_numpy()\n",
    "\n",
    "\n",
    "def experiment(name: str, clf: Classifier, X_train: np.ndarray, y_train: np.ndarray, \n",
    "               X_test: np.ndarray, y_test_df: pd.DataFrame, classes: list[str]):\n",
    "    clf.fit(X_train, y_train)\n",
    "    y_pred_proba = clf.predict_proba(X_test)\n",
    "    y_pred_proba_df = pd.DataFrame(y_pred_proba, columns=classes)\n",
    "\n",
    "    experiment = []\n",
    "    for ppa in ppas:\n",
    "        y_test_ppa = y_test_df[ppa]\n",
    "        experiment.append({\n",
    "            \"name\": name,\n",
    "            \"ppa\": ppa,\n",
    "            \"roc_auc\": roc_auc_score(y_test_ppa, y_pred_proba_df[ppa]),\n",
    "            \"average_precision\": average_precision_score(y_test_ppa, y_pred_proba_df[ppa]),\n",
    "        })\n",
    "    return experiment\n",
    "\n",
    "def convert_to_input(df: pd.DataFrame, embedding: Embedding, text_col=\"text\", ppas_col=\"ppas\"):\n",
    "    X_df = df[text_col].apply(lambda t: pd.Series(embedding.generate(t)))\n",
    "    # calculate embeddings\n",
    "    X = X_df.to_numpy()\n",
    "    # X = pd.DataFrame(\n",
    "    #     df[\"embedding\"].to_list(),\n",
    "    #     ).to_numpy()\n",
    "    \n",
    "    for ppa in ppas:\n",
    "        df[ppa] = df[ppas_col].apply(lambda x: ppa in x)\n",
    "    \n",
    "    y = df[ppas].to_numpy()\n",
    "    # calculate embeddings\n",
    "    return X, y"
   ]
  },
  {
   "cell_type": "code",
   "execution_count": 4,
   "metadata": {},
   "outputs": [],
   "source": [
    "df = pd.read_excel(\"../data/raw/WP sugerencia de outputs.xlsx\")\n",
    "\n",
    "df = df.assign(\n",
    "    ppa_list=df.PPAs.str.split(\", \")\n",
    ")"
   ]
  },
  {
   "cell_type": "code",
   "execution_count": null,
   "metadata": {},
   "outputs": [],
   "source": [
    "X1, y1 = convert_to_input(df.head(5), embedding, text_col=\"Output Statement\", ppas_col=\"ppa_list\")"
   ]
  },
  {
   "cell_type": "markdown",
   "metadata": {},
   "source": [
    "# Data"
   ]
  },
  {
   "cell_type": "code",
   "execution_count": 5,
   "metadata": {},
   "outputs": [
    {
     "data": {
      "text/html": [
       "<div>\n",
       "<style scoped>\n",
       "    .dataframe tbody tr th:only-of-type {\n",
       "        vertical-align: middle;\n",
       "    }\n",
       "\n",
       "    .dataframe tbody tr th {\n",
       "        vertical-align: top;\n",
       "    }\n",
       "\n",
       "    .dataframe thead th {\n",
       "        text-align: right;\n",
       "    }\n",
       "</style>\n",
       "<table border=\"1\" class=\"dataframe\">\n",
       "  <thead>\n",
       "    <tr style=\"text-align: right;\">\n",
       "      <th></th>\n",
       "      <th>ppa</th>\n",
       "      <th>text</th>\n",
       "    </tr>\n",
       "  </thead>\n",
       "  <tbody>\n",
       "    <tr>\n",
       "      <th>0</th>\n",
       "      <td>[BP1]</td>\n",
       "      <td>Innovation for Sustainable Agriculture Production</td>\n",
       "    </tr>\n",
       "    <tr>\n",
       "      <th>1</th>\n",
       "      <td>[BP2]</td>\n",
       "      <td>Blue Transformation</td>\n",
       "    </tr>\n",
       "    <tr>\n",
       "      <th>2</th>\n",
       "      <td>[BP3]</td>\n",
       "      <td>One Health</td>\n",
       "    </tr>\n",
       "    <tr>\n",
       "      <th>3</th>\n",
       "      <td>[BP4]</td>\n",
       "      <td>Small-scale Producers’ Equitable Access to Res...</td>\n",
       "    </tr>\n",
       "    <tr>\n",
       "      <th>4</th>\n",
       "      <td>[BP5]</td>\n",
       "      <td>Digital Agriculture</td>\n",
       "    </tr>\n",
       "    <tr>\n",
       "      <th>...</th>\n",
       "      <td>...</td>\n",
       "      <td>...</td>\n",
       "    </tr>\n",
       "    <tr>\n",
       "      <th>75</th>\n",
       "      <td>[BL2]</td>\n",
       "      <td>Thethematiccomponentsspecificallytargettheneed...</td>\n",
       "    </tr>\n",
       "    <tr>\n",
       "      <th>76</th>\n",
       "      <td>[BL3]</td>\n",
       "      <td>The thematic building blocks of the PPA are de...</td>\n",
       "    </tr>\n",
       "    <tr>\n",
       "      <th>77</th>\n",
       "      <td>[BL4]</td>\n",
       "      <td>The key components of the PPA are grouped acco...</td>\n",
       "    </tr>\n",
       "    <tr>\n",
       "      <th>78</th>\n",
       "      <td>[BL5]</td>\n",
       "      <td>The thematic building blocks of the Priority P...</td>\n",
       "    </tr>\n",
       "    <tr>\n",
       "      <th>79</th>\n",
       "      <td>[BL6]</td>\n",
       "      <td>The thematic building blocks of the PPA are de...</td>\n",
       "    </tr>\n",
       "  </tbody>\n",
       "</table>\n",
       "<p>80 rows × 2 columns</p>\n",
       "</div>"
      ],
      "text/plain": [
       "      ppa                                               text\n",
       "0   [BP1]  Innovation for Sustainable Agriculture Production\n",
       "1   [BP2]                                Blue Transformation\n",
       "2   [BP3]                                         One Health\n",
       "3   [BP4]  Small-scale Producers’ Equitable Access to Res...\n",
       "4   [BP5]                                Digital Agriculture\n",
       "..    ...                                                ...\n",
       "75  [BL2]  Thethematiccomponentsspecificallytargettheneed...\n",
       "76  [BL3]  The thematic building blocks of the PPA are de...\n",
       "77  [BL4]  The key components of the PPA are grouped acco...\n",
       "78  [BL5]  The thematic building blocks of the Priority P...\n",
       "79  [BL6]  The thematic building blocks of the PPA are de...\n",
       "\n",
       "[80 rows x 2 columns]"
      ]
     },
     "execution_count": 5,
     "metadata": {},
     "output_type": "execute_result"
    }
   ],
   "source": [
    "ppas_description_df = pd.read_excel(\"../data/processed/ppa.xlsx\", sheet_name=\"ppa\")\n",
    "\n",
    "ppas_description_df = (ppas_description_df\n",
    " .set_index(\"initials\")[[\"name\", \"outcome\", \"description\",\t\"key_thematic_components\"]]\n",
    " .unstack()\n",
    " .reset_index()\n",
    " .drop(columns=\"level_0\")\n",
    " .rename(columns={\"initials\": \"ppa\", 0: \"text\"})\n",
    " .assign(\n",
    "     ppa = lambda _df: _df.ppa.apply(lambda x: [x])\n",
    " ))\n",
    "\n",
    "ppas_description_df\n"
   ]
  },
  {
   "cell_type": "code",
   "execution_count": 51,
   "metadata": {},
   "outputs": [],
   "source": [
    "ppas_description_df = pd.read_excel(\"../data/processed/ppa.xlsx\", sheet_name=\"ppa\")\n",
    "\n",
    "ppas_description_df = (ppas_description_df\n",
    " .set_index(\"initials\")[[\"name\", \"outcome\", \"description\",\t\"key_thematic_components\"]]\n",
    " .unstack()\n",
    " .reset_index()\n",
    " .drop(columns=\"level_0\")\n",
    " .rename(columns={\"initials\": \"ppa\", 0: \"text\"})\n",
    " .assign(\n",
    "     ppa = lambda _df: _df.ppa.apply(lambda x: [x])\n",
    " ))\n",
    "\n",
    "X_ppa, y_ppa = convert_to_input(ppas_description_df, embedding, text_col=\"text\", ppas_col=\"ppa\")\n"
   ]
  },
  {
   "cell_type": "code",
   "execution_count": 53,
   "metadata": {},
   "outputs": [
    {
     "data": {
      "text/plain": [
       "((80, 1536), (80, 20))"
      ]
     },
     "execution_count": 53,
     "metadata": {},
     "output_type": "execute_result"
    }
   ],
   "source": [
    "X_ppa.shape, y_ppa.shape"
   ]
  },
  {
   "cell_type": "code",
   "execution_count": 17,
   "metadata": {},
   "outputs": [],
   "source": [
    "backup_df = pd.read_excel(\"/Users/jm/Downloads/backup_predictions_v3_JES.xlsx\")\n",
    "backup_df = backup_df.dropna(subset=[\"Incluir\"]).assign(\n",
    "    ppa_list=backup_df.PPAs.str.split(\", \")\n",
    ")[[\"Output Statement\", \"ppa_list\"]]\n",
    "X_backup, y_backup = convert_to_input(backup_df, embedding, text_col=\"Output Statement\", ppas_col=\"ppa_list\")\n"
   ]
  },
  {
   "cell_type": "code",
   "execution_count": 56,
   "metadata": {},
   "outputs": [
    {
     "data": {
      "text/plain": [
       "((209, 1536), (209, 20))"
      ]
     },
     "execution_count": 56,
     "metadata": {},
     "output_type": "execute_result"
    }
   ],
   "source": [
    "X_backup.shape, y_backup.shape"
   ]
  },
  {
   "cell_type": "code",
   "execution_count": 57,
   "metadata": {},
   "outputs": [
    {
     "name": "stdout",
     "output_type": "stream",
     "text": [
      "(289, 1536)\n"
     ]
    }
   ],
   "source": [
    "# Concatenate the arrays along the row axis (axis=0)\n",
    "concatenated_array = np.concatenate((X_ppa, X_backup), axis=0)\n",
    "\n",
    "print(concatenated_array.shape)"
   ]
  },
  {
   "cell_type": "code",
   "execution_count": null,
   "metadata": {},
   "outputs": [],
   "source": []
  },
  {
   "cell_type": "markdown",
   "metadata": {},
   "source": []
  },
  {
   "cell_type": "code",
   "execution_count": null,
   "metadata": {},
   "outputs": [],
   "source": []
  },
  {
   "cell_type": "code",
   "execution_count": null,
   "metadata": {},
   "outputs": [],
   "source": []
  },
  {
   "cell_type": "markdown",
   "metadata": {},
   "source": [
    "# Base training"
   ]
  },
  {
   "cell_type": "code",
   "execution_count": 69,
   "metadata": {},
   "outputs": [],
   "source": [
    "base_clf = CustomRidge()\n",
    "base_exp = experiment(\"base\", base_clf, X_train, y_train, X_test, test_df[ppas], ppas)"
   ]
  },
  {
   "cell_type": "code",
   "execution_count": 85,
   "metadata": {},
   "outputs": [
    {
     "data": {
      "text/html": [
       "<div>\n",
       "<style scoped>\n",
       "    .dataframe tbody tr th:only-of-type {\n",
       "        vertical-align: middle;\n",
       "    }\n",
       "\n",
       "    .dataframe tbody tr th {\n",
       "        vertical-align: top;\n",
       "    }\n",
       "\n",
       "    .dataframe thead th {\n",
       "        text-align: right;\n",
       "    }\n",
       "</style>\n",
       "<table border=\"1\" class=\"dataframe\">\n",
       "  <thead>\n",
       "    <tr style=\"text-align: right;\">\n",
       "      <th></th>\n",
       "      <th>roc_auc</th>\n",
       "      <th>average_precision</th>\n",
       "    </tr>\n",
       "  </thead>\n",
       "  <tbody>\n",
       "    <tr>\n",
       "      <th>mean</th>\n",
       "      <td>0.888587</td>\n",
       "      <td>0.609846</td>\n",
       "    </tr>\n",
       "    <tr>\n",
       "      <th>std</th>\n",
       "      <td>0.145322</td>\n",
       "      <td>0.315809</td>\n",
       "    </tr>\n",
       "  </tbody>\n",
       "</table>\n",
       "</div>"
      ],
      "text/plain": [
       "       roc_auc  average_precision\n",
       "mean  0.888587           0.609846\n",
       "std   0.145322           0.315809"
      ]
     },
     "execution_count": 85,
     "metadata": {},
     "output_type": "execute_result"
    }
   ],
   "source": [
    "pd.DataFrame(base_exp).drop(columns=[\"name\", \"ppa\"]).agg([\"mean\", \"std\"])"
   ]
  },
  {
   "cell_type": "code",
   "execution_count": 101,
   "metadata": {},
   "outputs": [
    {
     "data": {
      "text/plain": [
       "count    20.000000\n",
       "mean      0.609846\n",
       "std       0.315809\n",
       "min       0.080952\n",
       "25%       0.288663\n",
       "50%       0.695833\n",
       "75%       0.866667\n",
       "max       1.000000\n",
       "Name: average_precision, dtype: float64"
      ]
     },
     "execution_count": 101,
     "metadata": {},
     "output_type": "execute_result"
    }
   ],
   "source": [
    "pd.DataFrame(base_exp)[\"average_precision\"].describe()"
   ]
  },
  {
   "cell_type": "code",
   "execution_count": null,
   "metadata": {},
   "outputs": [],
   "source": []
  },
  {
   "cell_type": "markdown",
   "metadata": {},
   "source": []
  },
  {
   "cell_type": "code",
   "execution_count": 86,
   "metadata": {},
   "outputs": [
    {
     "data": {
      "text/html": [
       "<div>\n",
       "<style scoped>\n",
       "    .dataframe tbody tr th:only-of-type {\n",
       "        vertical-align: middle;\n",
       "    }\n",
       "\n",
       "    .dataframe tbody tr th {\n",
       "        vertical-align: top;\n",
       "    }\n",
       "\n",
       "    .dataframe thead th {\n",
       "        text-align: right;\n",
       "    }\n",
       "</style>\n",
       "<table border=\"1\" class=\"dataframe\">\n",
       "  <thead>\n",
       "    <tr style=\"text-align: right;\">\n",
       "      <th></th>\n",
       "      <th>roc_auc</th>\n",
       "      <th>average_precision</th>\n",
       "    </tr>\n",
       "  </thead>\n",
       "  <tbody>\n",
       "    <tr>\n",
       "      <th>mean</th>\n",
       "      <td>0.5</td>\n",
       "      <td>0.072500</td>\n",
       "    </tr>\n",
       "    <tr>\n",
       "      <th>std</th>\n",
       "      <td>0.0</td>\n",
       "      <td>0.025521</td>\n",
       "    </tr>\n",
       "  </tbody>\n",
       "</table>\n",
       "</div>"
      ],
      "text/plain": [
       "      roc_auc  average_precision\n",
       "mean      0.5           0.072500\n",
       "std       0.0           0.025521"
      ]
     },
     "execution_count": 86,
     "metadata": {},
     "output_type": "execute_result"
    }
   ],
   "source": [
    "ppa_clf = CustomRidge()\n",
    "ppa_exp = experiment(\"base\", ppa_clf, X_ppa, y_ppa, X_test, test_df[ppas], ppas)\n",
    "pd.DataFrame(ppa_exp).drop(columns=[\"name\", \"ppa\"]).agg([\"mean\", \"std\"])"
   ]
  },
  {
   "cell_type": "code",
   "execution_count": 87,
   "metadata": {},
   "outputs": [
    {
     "data": {
      "text/html": [
       "<div>\n",
       "<style scoped>\n",
       "    .dataframe tbody tr th:only-of-type {\n",
       "        vertical-align: middle;\n",
       "    }\n",
       "\n",
       "    .dataframe tbody tr th {\n",
       "        vertical-align: top;\n",
       "    }\n",
       "\n",
       "    .dataframe thead th {\n",
       "        text-align: right;\n",
       "    }\n",
       "</style>\n",
       "<table border=\"1\" class=\"dataframe\">\n",
       "  <thead>\n",
       "    <tr style=\"text-align: right;\">\n",
       "      <th></th>\n",
       "      <th>roc_auc</th>\n",
       "      <th>average_precision</th>\n",
       "    </tr>\n",
       "  </thead>\n",
       "  <tbody>\n",
       "    <tr>\n",
       "      <th>mean</th>\n",
       "      <td>0.890414</td>\n",
       "      <td>0.561192</td>\n",
       "    </tr>\n",
       "    <tr>\n",
       "      <th>std</th>\n",
       "      <td>0.112171</td>\n",
       "      <td>0.303512</td>\n",
       "    </tr>\n",
       "  </tbody>\n",
       "</table>\n",
       "</div>"
      ],
      "text/plain": [
       "       roc_auc  average_precision\n",
       "mean  0.890414           0.561192\n",
       "std   0.112171           0.303512"
      ]
     },
     "execution_count": 87,
     "metadata": {},
     "output_type": "execute_result"
    }
   ],
   "source": [
    "backup_clf = CustomRidge()\n",
    "backup_exp = experiment(\"base\", backup_clf, X_backup, y_backup, X_test, test_df[ppas], ppas)\n",
    "pd.DataFrame(backup_exp).drop(columns=[\"name\", \"ppa\"]).agg([\"mean\", \"std\"])"
   ]
  },
  {
   "cell_type": "markdown",
   "metadata": {},
   "source": [
    "# Train with base + backup"
   ]
  },
  {
   "cell_type": "code",
   "execution_count": 18,
   "metadata": {},
   "outputs": [
    {
     "name": "stdout",
     "output_type": "stream",
     "text": [
      "(282, 1536) (282, 20)\n"
     ]
    },
    {
     "data": {
      "text/html": [
       "<div>\n",
       "<style scoped>\n",
       "    .dataframe tbody tr th:only-of-type {\n",
       "        vertical-align: middle;\n",
       "    }\n",
       "\n",
       "    .dataframe tbody tr th {\n",
       "        vertical-align: top;\n",
       "    }\n",
       "\n",
       "    .dataframe thead th {\n",
       "        text-align: right;\n",
       "    }\n",
       "</style>\n",
       "<table border=\"1\" class=\"dataframe\">\n",
       "  <thead>\n",
       "    <tr style=\"text-align: right;\">\n",
       "      <th></th>\n",
       "      <th>roc_auc</th>\n",
       "      <th>average_precision</th>\n",
       "    </tr>\n",
       "  </thead>\n",
       "  <tbody>\n",
       "    <tr>\n",
       "      <th>mean</th>\n",
       "      <td>0.912195</td>\n",
       "      <td>0.630024</td>\n",
       "    </tr>\n",
       "    <tr>\n",
       "      <th>std</th>\n",
       "      <td>0.104675</td>\n",
       "      <td>0.281352</td>\n",
       "    </tr>\n",
       "  </tbody>\n",
       "</table>\n",
       "</div>"
      ],
      "text/plain": [
       "       roc_auc  average_precision\n",
       "mean  0.912195           0.630024\n",
       "std   0.104675           0.281352"
      ]
     },
     "execution_count": 18,
     "metadata": {},
     "output_type": "execute_result"
    }
   ],
   "source": [
    "# Concatenate the arrays along the row axis (axis=0)\n",
    "X_train_backup = np.concatenate((X_train, X_backup), axis=0)\n",
    "y_train_backup = np.concatenate((y_train, y_backup), axis=0)\n",
    "\n",
    "print(X_train_backup.shape, y_train_backup.shape)\n",
    "mixed_clf = CustomRidge()\n",
    "mixed_exp = experiment(\"base\", mixed_clf, X_train_backup, y_train_backup, X_test, test_df[ppas], ppas)\n",
    "pd.DataFrame(mixed_exp).drop(columns=[\"name\", \"ppa\"]).agg([\"mean\", \"std\"])"
   ]
  },
  {
   "cell_type": "markdown",
   "metadata": {},
   "source": [
    "## V2"
   ]
  },
  {
   "cell_type": "code",
   "execution_count": 19,
   "metadata": {},
   "outputs": [
    {
     "data": {
      "text/html": [
       "<div>\n",
       "<style scoped>\n",
       "    .dataframe tbody tr th:only-of-type {\n",
       "        vertical-align: middle;\n",
       "    }\n",
       "\n",
       "    .dataframe tbody tr th {\n",
       "        vertical-align: top;\n",
       "    }\n",
       "\n",
       "    .dataframe thead th {\n",
       "        text-align: right;\n",
       "    }\n",
       "</style>\n",
       "<table border=\"1\" class=\"dataframe\">\n",
       "  <thead>\n",
       "    <tr style=\"text-align: right;\">\n",
       "      <th></th>\n",
       "      <th>roc_auc</th>\n",
       "      <th>average_precision</th>\n",
       "    </tr>\n",
       "  </thead>\n",
       "  <tbody>\n",
       "    <tr>\n",
       "      <th>mean</th>\n",
       "      <td>0.736366</td>\n",
       "      <td>0.329889</td>\n",
       "    </tr>\n",
       "    <tr>\n",
       "      <th>std</th>\n",
       "      <td>0.185657</td>\n",
       "      <td>0.269126</td>\n",
       "    </tr>\n",
       "  </tbody>\n",
       "</table>\n",
       "</div>"
      ],
      "text/plain": [
       "       roc_auc  average_precision\n",
       "mean  0.736366           0.329889\n",
       "std   0.185657           0.269126"
      ]
     },
     "execution_count": 19,
     "metadata": {},
     "output_type": "execute_result"
    }
   ],
   "source": [
    "mixed_clf_balanced = CustomRidge(class_weight=\"balanced\")\n",
    "mixed_exp = experiment(\"base\", mixed_clf_balanced, X_train_backup, y_train_backup, X_test, test_df[ppas], ppas)\n",
    "pd.DataFrame(mixed_exp).drop(columns=[\"name\", \"ppa\"]).agg([\"mean\", \"std\"])"
   ]
  },
  {
   "cell_type": "markdown",
   "metadata": {},
   "source": [
    "# V3"
   ]
  },
  {
   "cell_type": "code",
   "execution_count": 20,
   "metadata": {},
   "outputs": [
    {
     "data": {
      "text/html": [
       "<div>\n",
       "<style scoped>\n",
       "    .dataframe tbody tr th:only-of-type {\n",
       "        vertical-align: middle;\n",
       "    }\n",
       "\n",
       "    .dataframe tbody tr th {\n",
       "        vertical-align: top;\n",
       "    }\n",
       "\n",
       "    .dataframe thead th {\n",
       "        text-align: right;\n",
       "    }\n",
       "</style>\n",
       "<table border=\"1\" class=\"dataframe\">\n",
       "  <thead>\n",
       "    <tr style=\"text-align: right;\">\n",
       "      <th></th>\n",
       "      <th>roc_auc</th>\n",
       "      <th>average_precision</th>\n",
       "    </tr>\n",
       "  </thead>\n",
       "  <tbody>\n",
       "    <tr>\n",
       "      <th>mean</th>\n",
       "      <td>0.910694</td>\n",
       "      <td>0.613421</td>\n",
       "    </tr>\n",
       "    <tr>\n",
       "      <th>std</th>\n",
       "      <td>0.120693</td>\n",
       "      <td>0.273301</td>\n",
       "    </tr>\n",
       "  </tbody>\n",
       "</table>\n",
       "</div>"
      ],
      "text/plain": [
       "       roc_auc  average_precision\n",
       "mean  0.910694           0.613421\n",
       "std   0.120693           0.273301"
      ]
     },
     "execution_count": 20,
     "metadata": {},
     "output_type": "execute_result"
    }
   ],
   "source": [
    "mixed_clf_balanced = CustomRidge(fit_intercept=False)\n",
    "mixed_exp = experiment(\"base\", mixed_clf_balanced, X_train_backup, y_train_backup, X_test, test_df[ppas], ppas)\n",
    "pd.DataFrame(mixed_exp).drop(columns=[\"name\", \"ppa\"]).agg([\"mean\", \"std\"])"
   ]
  },
  {
   "cell_type": "markdown",
   "metadata": {},
   "source": [
    "# V4"
   ]
  },
  {
   "cell_type": "code",
   "execution_count": 28,
   "metadata": {},
   "outputs": [
    {
     "data": {
      "text/html": [
       "<div>\n",
       "<style scoped>\n",
       "    .dataframe tbody tr th:only-of-type {\n",
       "        vertical-align: middle;\n",
       "    }\n",
       "\n",
       "    .dataframe tbody tr th {\n",
       "        vertical-align: top;\n",
       "    }\n",
       "\n",
       "    .dataframe thead th {\n",
       "        text-align: right;\n",
       "    }\n",
       "</style>\n",
       "<table border=\"1\" class=\"dataframe\">\n",
       "  <thead>\n",
       "    <tr style=\"text-align: right;\">\n",
       "      <th></th>\n",
       "      <th>roc_auc</th>\n",
       "      <th>average_precision</th>\n",
       "    </tr>\n",
       "  </thead>\n",
       "  <tbody>\n",
       "    <tr>\n",
       "      <th>mean</th>\n",
       "      <td>0.736366</td>\n",
       "      <td>0.329889</td>\n",
       "    </tr>\n",
       "    <tr>\n",
       "      <th>std</th>\n",
       "      <td>0.185657</td>\n",
       "      <td>0.269126</td>\n",
       "    </tr>\n",
       "  </tbody>\n",
       "</table>\n",
       "</div>"
      ],
      "text/plain": [
       "       roc_auc  average_precision\n",
       "mean  0.736366           0.329889\n",
       "std   0.185657           0.269126"
      ]
     },
     "execution_count": 28,
     "metadata": {},
     "output_type": "execute_result"
    }
   ],
   "source": [
    "mixed_clf_balanced = CustomRidge(alpha=1, fit_intercept=True, class_weight=\"balanced\")\n",
    "mixed_exp = experiment(\"base\", mixed_clf_balanced, X_train_backup, y_train_backup, X_test, test_df[ppas], ppas)\n",
    "pd.DataFrame(mixed_exp).drop(columns=[\"name\", \"ppa\"]).agg([\"mean\", \"std\"])"
   ]
  },
  {
   "cell_type": "code",
   "execution_count": null,
   "metadata": {},
   "outputs": [],
   "source": []
  },
  {
   "cell_type": "markdown",
   "metadata": {},
   "source": [
    "# Train with all"
   ]
  },
  {
   "cell_type": "code",
   "execution_count": 96,
   "metadata": {},
   "outputs": [
    {
     "name": "stdout",
     "output_type": "stream",
     "text": [
      "(362, 1536) (362, 20)\n"
     ]
    }
   ],
   "source": [
    "# Concatenate the arrays along the row axis (axis=0)\n",
    "X_all = np.concatenate((X_train, X_backup, X_ppa), axis=0)\n",
    "y_all = np.concatenate((y_train, y_backup, y_ppa), axis=0)\n",
    "\n",
    "print(X_all.shape, y_all.shape)"
   ]
  },
  {
   "cell_type": "code",
   "execution_count": 97,
   "metadata": {},
   "outputs": [
    {
     "data": {
      "text/html": [
       "<div>\n",
       "<style scoped>\n",
       "    .dataframe tbody tr th:only-of-type {\n",
       "        vertical-align: middle;\n",
       "    }\n",
       "\n",
       "    .dataframe tbody tr th {\n",
       "        vertical-align: top;\n",
       "    }\n",
       "\n",
       "    .dataframe thead th {\n",
       "        text-align: right;\n",
       "    }\n",
       "</style>\n",
       "<table border=\"1\" class=\"dataframe\">\n",
       "  <thead>\n",
       "    <tr style=\"text-align: right;\">\n",
       "      <th></th>\n",
       "      <th>roc_auc</th>\n",
       "      <th>average_precision</th>\n",
       "    </tr>\n",
       "  </thead>\n",
       "  <tbody>\n",
       "    <tr>\n",
       "      <th>mean</th>\n",
       "      <td>0.903022</td>\n",
       "      <td>0.630064</td>\n",
       "    </tr>\n",
       "    <tr>\n",
       "      <th>std</th>\n",
       "      <td>0.127080</td>\n",
       "      <td>0.286584</td>\n",
       "    </tr>\n",
       "  </tbody>\n",
       "</table>\n",
       "</div>"
      ],
      "text/plain": [
       "       roc_auc  average_precision\n",
       "mean  0.903022           0.630064\n",
       "std   0.127080           0.286584"
      ]
     },
     "execution_count": 97,
     "metadata": {},
     "output_type": "execute_result"
    }
   ],
   "source": [
    "mixed_clf2 = CustomRidge()\n",
    "mixed_exp2 = experiment(\"base\", mixed_clf2, X_all, y_all, X_test, test_df[ppas], ppas)\n",
    "pd.DataFrame(mixed_exp2).drop(columns=[\"name\", \"ppa\"]).agg([\"mean\", \"std\"])"
   ]
  },
  {
   "cell_type": "code",
   "execution_count": 99,
   "metadata": {},
   "outputs": [
    {
     "data": {
      "text/html": [
       "<div>\n",
       "<style scoped>\n",
       "    .dataframe tbody tr th:only-of-type {\n",
       "        vertical-align: middle;\n",
       "    }\n",
       "\n",
       "    .dataframe tbody tr th {\n",
       "        vertical-align: top;\n",
       "    }\n",
       "\n",
       "    .dataframe thead th {\n",
       "        text-align: right;\n",
       "    }\n",
       "</style>\n",
       "<table border=\"1\" class=\"dataframe\">\n",
       "  <thead>\n",
       "    <tr style=\"text-align: right;\">\n",
       "      <th></th>\n",
       "      <th>name</th>\n",
       "      <th>ppa</th>\n",
       "      <th>roc_auc</th>\n",
       "      <th>average_precision</th>\n",
       "    </tr>\n",
       "  </thead>\n",
       "  <tbody>\n",
       "    <tr>\n",
       "      <th>1</th>\n",
       "      <td>base</td>\n",
       "      <td>BE.2</td>\n",
       "      <td>0.539474</td>\n",
       "      <td>0.076812</td>\n",
       "    </tr>\n",
       "    <tr>\n",
       "      <th>12</th>\n",
       "      <td>base</td>\n",
       "      <td>BN.3</td>\n",
       "      <td>0.697368</td>\n",
       "      <td>0.112500</td>\n",
       "    </tr>\n",
       "    <tr>\n",
       "      <th>5</th>\n",
       "      <td>base</td>\n",
       "      <td>BL.2</td>\n",
       "      <td>0.731429</td>\n",
       "      <td>0.469921</td>\n",
       "    </tr>\n",
       "    <tr>\n",
       "      <th>15</th>\n",
       "      <td>base</td>\n",
       "      <td>BP.1</td>\n",
       "      <td>0.782857</td>\n",
       "      <td>0.270122</td>\n",
       "    </tr>\n",
       "    <tr>\n",
       "      <th>18</th>\n",
       "      <td>base</td>\n",
       "      <td>BP.4</td>\n",
       "      <td>0.819820</td>\n",
       "      <td>0.256614</td>\n",
       "    </tr>\n",
       "    <tr>\n",
       "      <th>9</th>\n",
       "      <td>base</td>\n",
       "      <td>BL.6</td>\n",
       "      <td>0.847222</td>\n",
       "      <td>0.620238</td>\n",
       "    </tr>\n",
       "    <tr>\n",
       "      <th>14</th>\n",
       "      <td>base</td>\n",
       "      <td>BN.5</td>\n",
       "      <td>0.916667</td>\n",
       "      <td>0.590909</td>\n",
       "    </tr>\n",
       "    <tr>\n",
       "      <th>11</th>\n",
       "      <td>base</td>\n",
       "      <td>BN.2</td>\n",
       "      <td>0.947368</td>\n",
       "      <td>0.450000</td>\n",
       "    </tr>\n",
       "    <tr>\n",
       "      <th>17</th>\n",
       "      <td>base</td>\n",
       "      <td>BP.3</td>\n",
       "      <td>0.954955</td>\n",
       "      <td>0.555556</td>\n",
       "    </tr>\n",
       "    <tr>\n",
       "      <th>6</th>\n",
       "      <td>base</td>\n",
       "      <td>BL.3</td>\n",
       "      <td>0.963964</td>\n",
       "      <td>0.700000</td>\n",
       "    </tr>\n",
       "    <tr>\n",
       "      <th>0</th>\n",
       "      <td>base</td>\n",
       "      <td>BE.1</td>\n",
       "      <td>0.972973</td>\n",
       "      <td>0.755556</td>\n",
       "    </tr>\n",
       "    <tr>\n",
       "      <th>8</th>\n",
       "      <td>base</td>\n",
       "      <td>BL.5</td>\n",
       "      <td>0.973684</td>\n",
       "      <td>0.583333</td>\n",
       "    </tr>\n",
       "    <tr>\n",
       "      <th>19</th>\n",
       "      <td>base</td>\n",
       "      <td>BP.5</td>\n",
       "      <td>0.973684</td>\n",
       "      <td>0.750000</td>\n",
       "    </tr>\n",
       "    <tr>\n",
       "      <th>7</th>\n",
       "      <td>base</td>\n",
       "      <td>BL.4</td>\n",
       "      <td>0.979167</td>\n",
       "      <td>0.854167</td>\n",
       "    </tr>\n",
       "    <tr>\n",
       "      <th>13</th>\n",
       "      <td>base</td>\n",
       "      <td>BN.4</td>\n",
       "      <td>0.981982</td>\n",
       "      <td>0.805556</td>\n",
       "    </tr>\n",
       "    <tr>\n",
       "      <th>3</th>\n",
       "      <td>base</td>\n",
       "      <td>BE.4</td>\n",
       "      <td>0.986842</td>\n",
       "      <td>0.833333</td>\n",
       "    </tr>\n",
       "    <tr>\n",
       "      <th>10</th>\n",
       "      <td>base</td>\n",
       "      <td>BN.1</td>\n",
       "      <td>0.990991</td>\n",
       "      <td>0.916667</td>\n",
       "    </tr>\n",
       "    <tr>\n",
       "      <th>4</th>\n",
       "      <td>base</td>\n",
       "      <td>BL.1</td>\n",
       "      <td>1.000000</td>\n",
       "      <td>1.000000</td>\n",
       "    </tr>\n",
       "    <tr>\n",
       "      <th>16</th>\n",
       "      <td>base</td>\n",
       "      <td>BP.2</td>\n",
       "      <td>1.000000</td>\n",
       "      <td>1.000000</td>\n",
       "    </tr>\n",
       "    <tr>\n",
       "      <th>2</th>\n",
       "      <td>base</td>\n",
       "      <td>BE.3</td>\n",
       "      <td>1.000000</td>\n",
       "      <td>1.000000</td>\n",
       "    </tr>\n",
       "  </tbody>\n",
       "</table>\n",
       "</div>"
      ],
      "text/plain": [
       "    name   ppa   roc_auc  average_precision\n",
       "1   base  BE.2  0.539474           0.076812\n",
       "12  base  BN.3  0.697368           0.112500\n",
       "5   base  BL.2  0.731429           0.469921\n",
       "15  base  BP.1  0.782857           0.270122\n",
       "18  base  BP.4  0.819820           0.256614\n",
       "9   base  BL.6  0.847222           0.620238\n",
       "14  base  BN.5  0.916667           0.590909\n",
       "11  base  BN.2  0.947368           0.450000\n",
       "17  base  BP.3  0.954955           0.555556\n",
       "6   base  BL.3  0.963964           0.700000\n",
       "0   base  BE.1  0.972973           0.755556\n",
       "8   base  BL.5  0.973684           0.583333\n",
       "19  base  BP.5  0.973684           0.750000\n",
       "7   base  BL.4  0.979167           0.854167\n",
       "13  base  BN.4  0.981982           0.805556\n",
       "3   base  BE.4  0.986842           0.833333\n",
       "10  base  BN.1  0.990991           0.916667\n",
       "4   base  BL.1  1.000000           1.000000\n",
       "16  base  BP.2  1.000000           1.000000\n",
       "2   base  BE.3  1.000000           1.000000"
      ]
     },
     "execution_count": 99,
     "metadata": {},
     "output_type": "execute_result"
    }
   ],
   "source": [
    "pd.DataFrame(mixed_exp2).sort_values(\"roc_auc\")"
   ]
  },
  {
   "cell_type": "markdown",
   "metadata": {},
   "source": [
    "# Train con backup y base completa"
   ]
  },
  {
   "cell_type": "code",
   "execution_count": 29,
   "metadata": {},
   "outputs": [
    {
     "name": "stdout",
     "output_type": "stream",
     "text": [
      "(322, 1536) (322, 20)\n"
     ]
    },
    {
     "data": {
      "text/html": [
       "<div>\n",
       "<style scoped>\n",
       "    .dataframe tbody tr th:only-of-type {\n",
       "        vertical-align: middle;\n",
       "    }\n",
       "\n",
       "    .dataframe tbody tr th {\n",
       "        vertical-align: top;\n",
       "    }\n",
       "\n",
       "    .dataframe thead th {\n",
       "        text-align: right;\n",
       "    }\n",
       "</style>\n",
       "<table border=\"1\" class=\"dataframe\">\n",
       "  <thead>\n",
       "    <tr style=\"text-align: right;\">\n",
       "      <th></th>\n",
       "      <th>roc_auc</th>\n",
       "      <th>average_precision</th>\n",
       "    </tr>\n",
       "  </thead>\n",
       "  <tbody>\n",
       "    <tr>\n",
       "      <th>mean</th>\n",
       "      <td>0.992994</td>\n",
       "      <td>0.931472</td>\n",
       "    </tr>\n",
       "    <tr>\n",
       "      <th>std</th>\n",
       "      <td>0.015385</td>\n",
       "      <td>0.151725</td>\n",
       "    </tr>\n",
       "  </tbody>\n",
       "</table>\n",
       "</div>"
      ],
      "text/plain": [
       "       roc_auc  average_precision\n",
       "mean  0.992994           0.931472\n",
       "std   0.015385           0.151725"
      ]
     },
     "execution_count": 29,
     "metadata": {},
     "output_type": "execute_result"
    }
   ],
   "source": [
    "# X_backup, y_backup = convert_to_input(backup_df, embedding, text_col=\"Output Statement\", ppas_col=\"ppa_list\")\n",
    "\n",
    "# Concatenate the arrays along the row axis (axis=0)\n",
    "X_train_backup = np.concatenate((X_full, X_backup), axis=0)\n",
    "y_train_backup = np.concatenate((y_full, y_backup), axis=0)\n",
    "\n",
    "print(X_train_backup.shape, y_train_backup.shape)\n",
    "clf = CustomRidge()\n",
    "exp = experiment(\"base\", clf, X_train_backup, y_train_backup, X_test, test_df[ppas], ppas)\n",
    "pd.DataFrame(exp).drop(columns=[\"name\", \"ppa\"]).agg([\"mean\", \"std\"])"
   ]
  },
  {
   "cell_type": "code",
   "execution_count": 30,
   "metadata": {},
   "outputs": [],
   "source": [
    "import pickle\n",
    "\n",
    "\n",
    "with open('../data/classifiers/ridge_clf_backup.pkl', 'wb') as f:\n",
    "    pickle.dump(clf, f)\n"
   ]
  },
  {
   "cell_type": "code",
   "execution_count": 15,
   "metadata": {},
   "outputs": [
    {
     "ename": "InvalidParameterError",
     "evalue": "The 'k_neighbors' parameter of SMOTE must be an int in the range [1, inf) or an object implementing 'kneighbors' and 'kneighbors_graph'. Got 0 instead.",
     "output_type": "error",
     "traceback": [
      "\u001b[0;31m---------------------------------------------------------------------------\u001b[0m",
      "\u001b[0;31mInvalidParameterError\u001b[0m                     Traceback (most recent call last)",
      "Cell \u001b[0;32mIn[15], line 28\u001b[0m\n\u001b[1;32m     25\u001b[0m     \u001b[38;5;28;01mreturn\u001b[39;00m X_res_combined, Y_res_combined\n\u001b[1;32m     27\u001b[0m \u001b[38;5;66;03m# Example usage:\u001b[39;00m\n\u001b[0;32m---> 28\u001b[0m X_res, Y_res \u001b[38;5;241m=\u001b[39m \u001b[43mmultilabel_smote\u001b[49m\u001b[43m(\u001b[49m\u001b[43mX_train\u001b[49m\u001b[43m,\u001b[49m\u001b[43m \u001b[49m\u001b[43my_train\u001b[49m\u001b[43m)\u001b[49m\n\u001b[1;32m     29\u001b[0m \u001b[38;5;66;03m# smote = SMOTE(random_state=42)\u001b[39;00m\n\u001b[1;32m     30\u001b[0m \u001b[38;5;66;03m# X_res, Y_res = smote.fit_resample(X_train, y_train)\u001b[39;00m\n",
      "Cell \u001b[0;32mIn[15], line 17\u001b[0m, in \u001b[0;36mmultilabel_smote\u001b[0;34m(X, Y, k_neighbors)\u001b[0m\n\u001b[1;32m     14\u001b[0m \u001b[38;5;28;01melse\u001b[39;00m:\n\u001b[1;32m     15\u001b[0m     smote \u001b[38;5;241m=\u001b[39m SMOTE(k_neighbors\u001b[38;5;241m=\u001b[39mk_neighbors, random_state\u001b[38;5;241m=\u001b[39m\u001b[38;5;241m42\u001b[39m)\n\u001b[0;32m---> 17\u001b[0m X_res, y_res \u001b[38;5;241m=\u001b[39m \u001b[43msmote\u001b[49m\u001b[38;5;241;43m.\u001b[39;49m\u001b[43mfit_resample\u001b[49m\u001b[43m(\u001b[49m\u001b[43mX\u001b[49m\u001b[43m,\u001b[49m\u001b[43m \u001b[49m\u001b[43mY\u001b[49m\u001b[43m[\u001b[49m\u001b[43m:\u001b[49m\u001b[43m,\u001b[49m\u001b[43m \u001b[49m\u001b[43mi\u001b[49m\u001b[43m]\u001b[49m\u001b[43m)\u001b[49m\n\u001b[1;32m     18\u001b[0m X_res_list\u001b[38;5;241m.\u001b[39mappend(X_res)\n\u001b[1;32m     19\u001b[0m Y_res_list\u001b[38;5;241m.\u001b[39mappend(y_res\u001b[38;5;241m.\u001b[39mreshape(\u001b[38;5;241m-\u001b[39m\u001b[38;5;241m1\u001b[39m, \u001b[38;5;241m1\u001b[39m))\n",
      "File \u001b[0;32m~/Code/fao-ppa-classifier/.conda/lib/python3.11/site-packages/imblearn/base.py:207\u001b[0m, in \u001b[0;36mBaseSampler.fit_resample\u001b[0;34m(self, X, y)\u001b[0m\n\u001b[1;32m    186\u001b[0m \u001b[38;5;28;01mdef\u001b[39;00m \u001b[38;5;21mfit_resample\u001b[39m(\u001b[38;5;28mself\u001b[39m, X, y):\n\u001b[1;32m    187\u001b[0m \u001b[38;5;250m    \u001b[39m\u001b[38;5;124;03m\"\"\"Resample the dataset.\u001b[39;00m\n\u001b[1;32m    188\u001b[0m \n\u001b[1;32m    189\u001b[0m \u001b[38;5;124;03m    Parameters\u001b[39;00m\n\u001b[0;32m   (...)\u001b[0m\n\u001b[1;32m    205\u001b[0m \u001b[38;5;124;03m        The corresponding label of `X_resampled`.\u001b[39;00m\n\u001b[1;32m    206\u001b[0m \u001b[38;5;124;03m    \"\"\"\u001b[39;00m\n\u001b[0;32m--> 207\u001b[0m     \u001b[38;5;28;43mself\u001b[39;49m\u001b[38;5;241;43m.\u001b[39;49m\u001b[43m_validate_params\u001b[49m\u001b[43m(\u001b[49m\u001b[43m)\u001b[49m\n\u001b[1;32m    208\u001b[0m     \u001b[38;5;28;01mreturn\u001b[39;00m \u001b[38;5;28msuper\u001b[39m()\u001b[38;5;241m.\u001b[39mfit_resample(X, y)\n",
      "File \u001b[0;32m~/Code/fao-ppa-classifier/.conda/lib/python3.11/site-packages/imblearn/base.py:42\u001b[0m, in \u001b[0;36m_ParamsValidationMixin._validate_params\u001b[0;34m(self)\u001b[0m\n\u001b[1;32m     34\u001b[0m \u001b[38;5;250m\u001b[39m\u001b[38;5;124;03m\"\"\"Validate types and values of constructor parameters.\u001b[39;00m\n\u001b[1;32m     35\u001b[0m \n\u001b[1;32m     36\u001b[0m \u001b[38;5;124;03mThe expected type and values must be defined in the `_parameter_constraints`\u001b[39;00m\n\u001b[0;32m   (...)\u001b[0m\n\u001b[1;32m     39\u001b[0m \u001b[38;5;124;03maccepted constraints.\u001b[39;00m\n\u001b[1;32m     40\u001b[0m \u001b[38;5;124;03m\"\"\"\u001b[39;00m\n\u001b[1;32m     41\u001b[0m \u001b[38;5;28;01mif\u001b[39;00m \u001b[38;5;28mhasattr\u001b[39m(\u001b[38;5;28mself\u001b[39m, \u001b[38;5;124m\"\u001b[39m\u001b[38;5;124m_parameter_constraints\u001b[39m\u001b[38;5;124m\"\u001b[39m):\n\u001b[0;32m---> 42\u001b[0m     \u001b[43mvalidate_parameter_constraints\u001b[49m\u001b[43m(\u001b[49m\n\u001b[1;32m     43\u001b[0m \u001b[43m        \u001b[49m\u001b[38;5;28;43mself\u001b[39;49m\u001b[38;5;241;43m.\u001b[39;49m\u001b[43m_parameter_constraints\u001b[49m\u001b[43m,\u001b[49m\n\u001b[1;32m     44\u001b[0m \u001b[43m        \u001b[49m\u001b[38;5;28;43mself\u001b[39;49m\u001b[38;5;241;43m.\u001b[39;49m\u001b[43mget_params\u001b[49m\u001b[43m(\u001b[49m\u001b[43mdeep\u001b[49m\u001b[38;5;241;43m=\u001b[39;49m\u001b[38;5;28;43;01mFalse\u001b[39;49;00m\u001b[43m)\u001b[49m\u001b[43m,\u001b[49m\n\u001b[1;32m     45\u001b[0m \u001b[43m        \u001b[49m\u001b[43mcaller_name\u001b[49m\u001b[38;5;241;43m=\u001b[39;49m\u001b[38;5;28;43mself\u001b[39;49m\u001b[38;5;241;43m.\u001b[39;49m\u001b[38;5;18;43m__class__\u001b[39;49m\u001b[38;5;241;43m.\u001b[39;49m\u001b[38;5;18;43m__name__\u001b[39;49m\u001b[43m,\u001b[49m\n\u001b[1;32m     46\u001b[0m \u001b[43m    \u001b[49m\u001b[43m)\u001b[49m\n",
      "File \u001b[0;32m~/Code/fao-ppa-classifier/.conda/lib/python3.11/site-packages/sklearn/utils/_param_validation.py:95\u001b[0m, in \u001b[0;36mvalidate_parameter_constraints\u001b[0;34m(parameter_constraints, params, caller_name)\u001b[0m\n\u001b[1;32m     89\u001b[0m \u001b[38;5;28;01melse\u001b[39;00m:\n\u001b[1;32m     90\u001b[0m     constraints_str \u001b[38;5;241m=\u001b[39m (\n\u001b[1;32m     91\u001b[0m         \u001b[38;5;124mf\u001b[39m\u001b[38;5;124m\"\u001b[39m\u001b[38;5;132;01m{\u001b[39;00m\u001b[38;5;124m'\u001b[39m\u001b[38;5;124m, \u001b[39m\u001b[38;5;124m'\u001b[39m\u001b[38;5;241m.\u001b[39mjoin([\u001b[38;5;28mstr\u001b[39m(c)\u001b[38;5;250m \u001b[39m\u001b[38;5;28;01mfor\u001b[39;00m\u001b[38;5;250m \u001b[39mc\u001b[38;5;250m \u001b[39m\u001b[38;5;129;01min\u001b[39;00m\u001b[38;5;250m \u001b[39mconstraints[:\u001b[38;5;241m-\u001b[39m\u001b[38;5;241m1\u001b[39m]])\u001b[38;5;132;01m}\u001b[39;00m\u001b[38;5;124m or\u001b[39m\u001b[38;5;124m\"\u001b[39m\n\u001b[1;32m     92\u001b[0m         \u001b[38;5;124mf\u001b[39m\u001b[38;5;124m\"\u001b[39m\u001b[38;5;124m \u001b[39m\u001b[38;5;132;01m{\u001b[39;00mconstraints[\u001b[38;5;241m-\u001b[39m\u001b[38;5;241m1\u001b[39m]\u001b[38;5;132;01m}\u001b[39;00m\u001b[38;5;124m\"\u001b[39m\n\u001b[1;32m     93\u001b[0m     )\n\u001b[0;32m---> 95\u001b[0m \u001b[38;5;28;01mraise\u001b[39;00m InvalidParameterError(\n\u001b[1;32m     96\u001b[0m     \u001b[38;5;124mf\u001b[39m\u001b[38;5;124m\"\u001b[39m\u001b[38;5;124mThe \u001b[39m\u001b[38;5;132;01m{\u001b[39;00mparam_name\u001b[38;5;132;01m!r}\u001b[39;00m\u001b[38;5;124m parameter of \u001b[39m\u001b[38;5;132;01m{\u001b[39;00mcaller_name\u001b[38;5;132;01m}\u001b[39;00m\u001b[38;5;124m must be\u001b[39m\u001b[38;5;124m\"\u001b[39m\n\u001b[1;32m     97\u001b[0m     \u001b[38;5;124mf\u001b[39m\u001b[38;5;124m\"\u001b[39m\u001b[38;5;124m \u001b[39m\u001b[38;5;132;01m{\u001b[39;00mconstraints_str\u001b[38;5;132;01m}\u001b[39;00m\u001b[38;5;124m. Got \u001b[39m\u001b[38;5;132;01m{\u001b[39;00mparam_val\u001b[38;5;132;01m!r}\u001b[39;00m\u001b[38;5;124m instead.\u001b[39m\u001b[38;5;124m\"\u001b[39m\n\u001b[1;32m     98\u001b[0m )\n",
      "\u001b[0;31mInvalidParameterError\u001b[0m: The 'k_neighbors' parameter of SMOTE must be an int in the range [1, inf) or an object implementing 'kneighbors' and 'kneighbors_graph'. Got 0 instead."
     ]
    }
   ],
   "source": [
    "from imblearn.over_sampling import SMOTE\n",
    "import numpy as np\n",
    "def multilabel_smote(X, Y, k_neighbors=5):\n",
    "    X_res_list = []\n",
    "    Y_res_list = []\n",
    "    \n",
    "    for i in range(Y.shape[1]):\n",
    "        label_counts = np.bincount(Y[:, i])\n",
    "        min_class_samples = label_counts.min()\n",
    "        \n",
    "        # Adjust k_neighbors if there are not enough samples\n",
    "        if min_class_samples < k_neighbors:\n",
    "            smote = SMOTE(k_neighbors=min_class_samples - 1, random_state=42)\n",
    "        else:\n",
    "            smote = SMOTE(k_neighbors=k_neighbors, random_state=42)\n",
    "        \n",
    "        X_res, y_res = smote.fit_resample(X, Y[:, i])\n",
    "        X_res_list.append(X_res)\n",
    "        Y_res_list.append(y_res.reshape(-1, 1))\n",
    "    \n",
    "    # Combine the resampled data for all labels\n",
    "    X_res_combined = np.vstack(X_res_list)\n",
    "    Y_res_combined = np.hstack(Y_res_list)\n",
    "    \n",
    "    return X_res_combined, Y_res_combined\n",
    "\n",
    "# Example usage:\n",
    "X_res, Y_res = multilabel_smote(X_train, y_train)\n",
    "# smote = SMOTE(random_state=42)\n",
    "# X_res, Y_res = smote.fit_resample(X_train, y_train)\n",
    "\n"
   ]
  }
 ],
 "metadata": {
  "kernelspec": {
   "display_name": "Python 3",
   "language": "python",
   "name": "python3"
  },
  "language_info": {
   "codemirror_mode": {
    "name": "ipython",
    "version": 3
   },
   "file_extension": ".py",
   "mimetype": "text/x-python",
   "name": "python",
   "nbconvert_exporter": "python",
   "pygments_lexer": "ipython3",
   "version": "3.1.undefined"
  }
 },
 "nbformat": 4,
 "nbformat_minor": 2
}
