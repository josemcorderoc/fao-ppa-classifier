{
 "cells": [
  {
   "cell_type": "code",
   "execution_count": 1,
   "metadata": {},
   "outputs": [],
   "source": [
    "import pandas as pd\n",
    "from imblearn.over_sampling import SMOTE, SMOTEN\n",
    "from sklearn.metrics import confusion_matrix\n",
    "from sklearn.ensemble import RandomForestClassifier\n",
    "from sklearn.metrics import precision_score, recall_score, auc, roc_auc_score, average_precision_score\n",
    "import plotly.express as px\n",
    "from imblearn.over_sampling import RandomOverSampler"
   ]
  },
  {
   "cell_type": "code",
   "execution_count": 2,
   "metadata": {},
   "outputs": [],
   "source": [
    "outputs_df = pd.read_parquet(\"../data/processed/outputs_openai_embeddings_v1.parquet\")\n",
    "\n",
    "X_labels = outputs_df.columns[outputs_df.columns.str.contains(\"openai_embedding_large\")]\n",
    "y_label = \"primary_better\"\n",
    "\n",
    "X_train = outputs_df[X_labels][~outputs_df.test_set].to_numpy()\n",
    "y_train = outputs_df[y_label][~outputs_df.test_set].to_numpy()\n",
    "\n",
    "X_test = outputs_df[X_labels][outputs_df.test_set].to_numpy()\n",
    "y_test = outputs_df[y_label][outputs_df.test_set].to_numpy()\n"
   ]
  },
  {
   "cell_type": "code",
   "execution_count": 3,
   "metadata": {},
   "outputs": [
    {
     "data": {
      "text/plain": [
       "primary_better\n",
       "BL    26\n",
       "BP    20\n",
       "BN    14\n",
       "BE    13\n",
       "Name: count, dtype: int64"
      ]
     },
     "execution_count": 3,
     "metadata": {},
     "output_type": "execute_result"
    }
   ],
   "source": [
    "outputs_df[~outputs_df.test_set].primary_better.value_counts()"
   ]
  },
  {
   "cell_type": "code",
   "execution_count": 4,
   "metadata": {},
   "outputs": [],
   "source": [
    "smote = RandomOverSampler(random_state=42)\n",
    "X_train_oversampled, y_test_oversampled = smote.fit_resample(X_train, y_train)"
   ]
  },
  {
   "cell_type": "code",
   "execution_count": 5,
   "metadata": {},
   "outputs": [],
   "source": [
    "random_forest = RandomForestClassifier(random_state=99)\n",
    "random_forest.fit(X_train_oversampled, y_test_oversampled)\n",
    "random_forest.score(X_test, y_test)\n",
    "\n",
    "y_pred = random_forest.predict(X_test)"
   ]
  },
  {
   "cell_type": "code",
   "execution_count": 6,
   "metadata": {},
   "outputs": [],
   "source": [
    "y_pred_proba = random_forest.predict_proba(X_test)\n",
    "y_pred_proba_df = pd.DataFrame(y_pred_proba, columns=random_forest.classes_)"
   ]
  },
  {
   "cell_type": "code",
   "execution_count": 14,
   "metadata": {},
   "outputs": [
    {
     "data": {
      "application/vnd.plotly.v1+json": {
       "config": {
        "plotlyServerURL": "https://plot.ly"
       },
       "data": [
        {
         "coloraxis": "coloraxis",
         "hovertemplate": "x: %{x}<br>y: %{y}<br>color: %{z}<extra></extra>",
         "name": "0",
         "type": "heatmap",
         "x": [
          "BE",
          "BL",
          "BN",
          "BP"
         ],
         "xaxis": "x",
         "y": [
          "BE",
          "BL",
          "BN",
          "BP"
         ],
         "yaxis": "y",
         "z": [
          [
           "1",
           "4",
           "1",
           "2"
          ],
          [
           "1",
           "11",
           "0",
           "0"
          ],
          [
           "0",
           "2",
           "6",
           "2"
          ],
          [
           "0",
           "5",
           "0",
           "5"
          ]
         ]
        }
       ],
       "layout": {
        "coloraxis": {
         "colorscale": [
          [
           0,
           "#0d0887"
          ],
          [
           0.1111111111111111,
           "#46039f"
          ],
          [
           0.2222222222222222,
           "#7201a8"
          ],
          [
           0.3333333333333333,
           "#9c179e"
          ],
          [
           0.4444444444444444,
           "#bd3786"
          ],
          [
           0.5555555555555556,
           "#d8576b"
          ],
          [
           0.6666666666666666,
           "#ed7953"
          ],
          [
           0.7777777777777778,
           "#fb9f3a"
          ],
          [
           0.8888888888888888,
           "#fdca26"
          ],
          [
           1,
           "#f0f921"
          ]
         ]
        },
        "legend": {
         "itemsizing": "constant",
         "title": {
          "text": "Legend"
         },
         "traceorder": "normal"
        },
        "margin": {
         "t": 60
        },
        "template": {
         "data": {
          "bar": [
           {
            "error_x": {
             "color": "#2a3f5f"
            },
            "error_y": {
             "color": "#2a3f5f"
            },
            "marker": {
             "line": {
              "color": "#E5ECF6",
              "width": 0.5
             },
             "pattern": {
              "fillmode": "overlay",
              "size": 10,
              "solidity": 0.2
             }
            },
            "type": "bar"
           }
          ],
          "barpolar": [
           {
            "marker": {
             "line": {
              "color": "#E5ECF6",
              "width": 0.5
             },
             "pattern": {
              "fillmode": "overlay",
              "size": 10,
              "solidity": 0.2
             }
            },
            "type": "barpolar"
           }
          ],
          "carpet": [
           {
            "aaxis": {
             "endlinecolor": "#2a3f5f",
             "gridcolor": "white",
             "linecolor": "white",
             "minorgridcolor": "white",
             "startlinecolor": "#2a3f5f"
            },
            "baxis": {
             "endlinecolor": "#2a3f5f",
             "gridcolor": "white",
             "linecolor": "white",
             "minorgridcolor": "white",
             "startlinecolor": "#2a3f5f"
            },
            "type": "carpet"
           }
          ],
          "choropleth": [
           {
            "colorbar": {
             "outlinewidth": 0,
             "ticks": ""
            },
            "type": "choropleth"
           }
          ],
          "contour": [
           {
            "colorbar": {
             "outlinewidth": 0,
             "ticks": ""
            },
            "colorscale": [
             [
              0,
              "#0d0887"
             ],
             [
              0.1111111111111111,
              "#46039f"
             ],
             [
              0.2222222222222222,
              "#7201a8"
             ],
             [
              0.3333333333333333,
              "#9c179e"
             ],
             [
              0.4444444444444444,
              "#bd3786"
             ],
             [
              0.5555555555555556,
              "#d8576b"
             ],
             [
              0.6666666666666666,
              "#ed7953"
             ],
             [
              0.7777777777777778,
              "#fb9f3a"
             ],
             [
              0.8888888888888888,
              "#fdca26"
             ],
             [
              1,
              "#f0f921"
             ]
            ],
            "type": "contour"
           }
          ],
          "contourcarpet": [
           {
            "colorbar": {
             "outlinewidth": 0,
             "ticks": ""
            },
            "type": "contourcarpet"
           }
          ],
          "heatmap": [
           {
            "colorbar": {
             "outlinewidth": 0,
             "ticks": ""
            },
            "colorscale": [
             [
              0,
              "#0d0887"
             ],
             [
              0.1111111111111111,
              "#46039f"
             ],
             [
              0.2222222222222222,
              "#7201a8"
             ],
             [
              0.3333333333333333,
              "#9c179e"
             ],
             [
              0.4444444444444444,
              "#bd3786"
             ],
             [
              0.5555555555555556,
              "#d8576b"
             ],
             [
              0.6666666666666666,
              "#ed7953"
             ],
             [
              0.7777777777777778,
              "#fb9f3a"
             ],
             [
              0.8888888888888888,
              "#fdca26"
             ],
             [
              1,
              "#f0f921"
             ]
            ],
            "type": "heatmap"
           }
          ],
          "heatmapgl": [
           {
            "colorbar": {
             "outlinewidth": 0,
             "ticks": ""
            },
            "colorscale": [
             [
              0,
              "#0d0887"
             ],
             [
              0.1111111111111111,
              "#46039f"
             ],
             [
              0.2222222222222222,
              "#7201a8"
             ],
             [
              0.3333333333333333,
              "#9c179e"
             ],
             [
              0.4444444444444444,
              "#bd3786"
             ],
             [
              0.5555555555555556,
              "#d8576b"
             ],
             [
              0.6666666666666666,
              "#ed7953"
             ],
             [
              0.7777777777777778,
              "#fb9f3a"
             ],
             [
              0.8888888888888888,
              "#fdca26"
             ],
             [
              1,
              "#f0f921"
             ]
            ],
            "type": "heatmapgl"
           }
          ],
          "histogram": [
           {
            "marker": {
             "pattern": {
              "fillmode": "overlay",
              "size": 10,
              "solidity": 0.2
             }
            },
            "type": "histogram"
           }
          ],
          "histogram2d": [
           {
            "colorbar": {
             "outlinewidth": 0,
             "ticks": ""
            },
            "colorscale": [
             [
              0,
              "#0d0887"
             ],
             [
              0.1111111111111111,
              "#46039f"
             ],
             [
              0.2222222222222222,
              "#7201a8"
             ],
             [
              0.3333333333333333,
              "#9c179e"
             ],
             [
              0.4444444444444444,
              "#bd3786"
             ],
             [
              0.5555555555555556,
              "#d8576b"
             ],
             [
              0.6666666666666666,
              "#ed7953"
             ],
             [
              0.7777777777777778,
              "#fb9f3a"
             ],
             [
              0.8888888888888888,
              "#fdca26"
             ],
             [
              1,
              "#f0f921"
             ]
            ],
            "type": "histogram2d"
           }
          ],
          "histogram2dcontour": [
           {
            "colorbar": {
             "outlinewidth": 0,
             "ticks": ""
            },
            "colorscale": [
             [
              0,
              "#0d0887"
             ],
             [
              0.1111111111111111,
              "#46039f"
             ],
             [
              0.2222222222222222,
              "#7201a8"
             ],
             [
              0.3333333333333333,
              "#9c179e"
             ],
             [
              0.4444444444444444,
              "#bd3786"
             ],
             [
              0.5555555555555556,
              "#d8576b"
             ],
             [
              0.6666666666666666,
              "#ed7953"
             ],
             [
              0.7777777777777778,
              "#fb9f3a"
             ],
             [
              0.8888888888888888,
              "#fdca26"
             ],
             [
              1,
              "#f0f921"
             ]
            ],
            "type": "histogram2dcontour"
           }
          ],
          "mesh3d": [
           {
            "colorbar": {
             "outlinewidth": 0,
             "ticks": ""
            },
            "type": "mesh3d"
           }
          ],
          "parcoords": [
           {
            "line": {
             "colorbar": {
              "outlinewidth": 0,
              "ticks": ""
             }
            },
            "type": "parcoords"
           }
          ],
          "pie": [
           {
            "automargin": true,
            "type": "pie"
           }
          ],
          "scatter": [
           {
            "fillpattern": {
             "fillmode": "overlay",
             "size": 10,
             "solidity": 0.2
            },
            "type": "scatter"
           }
          ],
          "scatter3d": [
           {
            "line": {
             "colorbar": {
              "outlinewidth": 0,
              "ticks": ""
             }
            },
            "marker": {
             "colorbar": {
              "outlinewidth": 0,
              "ticks": ""
             }
            },
            "type": "scatter3d"
           }
          ],
          "scattercarpet": [
           {
            "marker": {
             "colorbar": {
              "outlinewidth": 0,
              "ticks": ""
             }
            },
            "type": "scattercarpet"
           }
          ],
          "scattergeo": [
           {
            "marker": {
             "colorbar": {
              "outlinewidth": 0,
              "ticks": ""
             }
            },
            "type": "scattergeo"
           }
          ],
          "scattergl": [
           {
            "marker": {
             "colorbar": {
              "outlinewidth": 0,
              "ticks": ""
             }
            },
            "type": "scattergl"
           }
          ],
          "scattermapbox": [
           {
            "marker": {
             "colorbar": {
              "outlinewidth": 0,
              "ticks": ""
             }
            },
            "type": "scattermapbox"
           }
          ],
          "scatterpolar": [
           {
            "marker": {
             "colorbar": {
              "outlinewidth": 0,
              "ticks": ""
             }
            },
            "type": "scatterpolar"
           }
          ],
          "scatterpolargl": [
           {
            "marker": {
             "colorbar": {
              "outlinewidth": 0,
              "ticks": ""
             }
            },
            "type": "scatterpolargl"
           }
          ],
          "scatterternary": [
           {
            "marker": {
             "colorbar": {
              "outlinewidth": 0,
              "ticks": ""
             }
            },
            "type": "scatterternary"
           }
          ],
          "surface": [
           {
            "colorbar": {
             "outlinewidth": 0,
             "ticks": ""
            },
            "colorscale": [
             [
              0,
              "#0d0887"
             ],
             [
              0.1111111111111111,
              "#46039f"
             ],
             [
              0.2222222222222222,
              "#7201a8"
             ],
             [
              0.3333333333333333,
              "#9c179e"
             ],
             [
              0.4444444444444444,
              "#bd3786"
             ],
             [
              0.5555555555555556,
              "#d8576b"
             ],
             [
              0.6666666666666666,
              "#ed7953"
             ],
             [
              0.7777777777777778,
              "#fb9f3a"
             ],
             [
              0.8888888888888888,
              "#fdca26"
             ],
             [
              1,
              "#f0f921"
             ]
            ],
            "type": "surface"
           }
          ],
          "table": [
           {
            "cells": {
             "fill": {
              "color": "#EBF0F8"
             },
             "line": {
              "color": "white"
             }
            },
            "header": {
             "fill": {
              "color": "#C8D4E3"
             },
             "line": {
              "color": "white"
             }
            },
            "type": "table"
           }
          ]
         },
         "layout": {
          "annotationdefaults": {
           "arrowcolor": "#2a3f5f",
           "arrowhead": 0,
           "arrowwidth": 1
          },
          "autotypenumbers": "strict",
          "coloraxis": {
           "colorbar": {
            "outlinewidth": 0,
            "ticks": ""
           }
          },
          "colorscale": {
           "diverging": [
            [
             0,
             "#8e0152"
            ],
            [
             0.1,
             "#c51b7d"
            ],
            [
             0.2,
             "#de77ae"
            ],
            [
             0.3,
             "#f1b6da"
            ],
            [
             0.4,
             "#fde0ef"
            ],
            [
             0.5,
             "#f7f7f7"
            ],
            [
             0.6,
             "#e6f5d0"
            ],
            [
             0.7,
             "#b8e186"
            ],
            [
             0.8,
             "#7fbc41"
            ],
            [
             0.9,
             "#4d9221"
            ],
            [
             1,
             "#276419"
            ]
           ],
           "sequential": [
            [
             0,
             "#0d0887"
            ],
            [
             0.1111111111111111,
             "#46039f"
            ],
            [
             0.2222222222222222,
             "#7201a8"
            ],
            [
             0.3333333333333333,
             "#9c179e"
            ],
            [
             0.4444444444444444,
             "#bd3786"
            ],
            [
             0.5555555555555556,
             "#d8576b"
            ],
            [
             0.6666666666666666,
             "#ed7953"
            ],
            [
             0.7777777777777778,
             "#fb9f3a"
            ],
            [
             0.8888888888888888,
             "#fdca26"
            ],
            [
             1,
             "#f0f921"
            ]
           ],
           "sequentialminus": [
            [
             0,
             "#0d0887"
            ],
            [
             0.1111111111111111,
             "#46039f"
            ],
            [
             0.2222222222222222,
             "#7201a8"
            ],
            [
             0.3333333333333333,
             "#9c179e"
            ],
            [
             0.4444444444444444,
             "#bd3786"
            ],
            [
             0.5555555555555556,
             "#d8576b"
            ],
            [
             0.6666666666666666,
             "#ed7953"
            ],
            [
             0.7777777777777778,
             "#fb9f3a"
            ],
            [
             0.8888888888888888,
             "#fdca26"
            ],
            [
             1,
             "#f0f921"
            ]
           ]
          },
          "colorway": [
           "#636efa",
           "#EF553B",
           "#00cc96",
           "#ab63fa",
           "#FFA15A",
           "#19d3f3",
           "#FF6692",
           "#B6E880",
           "#FF97FF",
           "#FECB52"
          ],
          "font": {
           "color": "#2a3f5f"
          },
          "geo": {
           "bgcolor": "white",
           "lakecolor": "white",
           "landcolor": "#E5ECF6",
           "showlakes": true,
           "showland": true,
           "subunitcolor": "white"
          },
          "hoverlabel": {
           "align": "left"
          },
          "hovermode": "closest",
          "mapbox": {
           "style": "light"
          },
          "paper_bgcolor": "white",
          "plot_bgcolor": "#E5ECF6",
          "polar": {
           "angularaxis": {
            "gridcolor": "white",
            "linecolor": "white",
            "ticks": ""
           },
           "bgcolor": "#E5ECF6",
           "radialaxis": {
            "gridcolor": "white",
            "linecolor": "white",
            "ticks": ""
           }
          },
          "scene": {
           "xaxis": {
            "backgroundcolor": "#E5ECF6",
            "gridcolor": "white",
            "gridwidth": 2,
            "linecolor": "white",
            "showbackground": true,
            "ticks": "",
            "zerolinecolor": "white"
           },
           "yaxis": {
            "backgroundcolor": "#E5ECF6",
            "gridcolor": "white",
            "gridwidth": 2,
            "linecolor": "white",
            "showbackground": true,
            "ticks": "",
            "zerolinecolor": "white"
           },
           "zaxis": {
            "backgroundcolor": "#E5ECF6",
            "gridcolor": "white",
            "gridwidth": 2,
            "linecolor": "white",
            "showbackground": true,
            "ticks": "",
            "zerolinecolor": "white"
           }
          },
          "shapedefaults": {
           "line": {
            "color": "#2a3f5f"
           }
          },
          "ternary": {
           "aaxis": {
            "gridcolor": "white",
            "linecolor": "white",
            "ticks": ""
           },
           "baxis": {
            "gridcolor": "white",
            "linecolor": "white",
            "ticks": ""
           },
           "bgcolor": "#E5ECF6",
           "caxis": {
            "gridcolor": "white",
            "linecolor": "white",
            "ticks": ""
           }
          },
          "title": {
           "x": 0.05
          },
          "xaxis": {
           "automargin": true,
           "gridcolor": "white",
           "linecolor": "white",
           "ticks": "",
           "title": {
            "standoff": 15
           },
           "zerolinecolor": "white",
           "zerolinewidth": 2
          },
          "yaxis": {
           "automargin": true,
           "gridcolor": "white",
           "linecolor": "white",
           "ticks": "",
           "title": {
            "standoff": 15
           },
           "zerolinecolor": "white",
           "zerolinewidth": 2
          }
         }
        },
        "xaxis": {
         "anchor": "y",
         "constrain": "domain",
         "domain": [
          0,
          1
         ],
         "scaleanchor": "y"
        },
        "yaxis": {
         "anchor": "x",
         "autorange": "reversed",
         "constrain": "domain",
         "domain": [
          0,
          1
         ]
        }
       }
      }
     },
     "metadata": {},
     "output_type": "display_data"
    }
   ],
   "source": [
    "labels=outputs_df[y_label].sort_values().unique()\n",
    "\n",
    "cm = confusion_matrix(y_test, y_pred, labels=labels)\n",
    "\n",
    "fig = px.imshow(cm, x=labels, y=labels)\n",
    "fig"
   ]
  },
  {
   "cell_type": "code",
   "execution_count": 27,
   "metadata": {},
   "outputs": [
    {
     "data": {
      "image/png": "[encoded data removed]",
      "text/plain": [
       "<Figure size 640x480 with 2 Axes>"
      ]
     },
     "metadata": {},
     "output_type": "display_data"
    }
   ],
   "source": [
    "import seaborn as sns\n",
    "\n",
    "import matplotlib.pyplot as plt\n",
    "\n",
    "# Create the confusion matrix\n",
    "confusion_matrix = pd.crosstab(y_test, y_pred, rownames=['Actual'], colnames=['Predicted'])\n",
    "\n",
    "# Plot the confusion matrix using seaborn\n",
    "sns.heatmap(confusion_matrix.astype(\"category\"), annot=True, cmap='Blues')\n",
    "\n",
    "# Set the title and labels\n",
    "plt.title('Confusion Matrix')\n",
    "plt.xlabel('Predicted')\n",
    "plt.ylabel('Actual')\n",
    "\n",
    "# Show the plot\n",
    "plt.show()"
   ]
  },
  {
   "cell_type": "markdown",
   "metadata": {},
   "source": []
  },
  {
   "cell_type": "code",
   "execution_count": 13,
   "metadata": {},
   "outputs": [
    {
     "data": {
      "text/html": [
       "<div>\n",
       "<style scoped>\n",
       "    .dataframe tbody tr th:only-of-type {\n",
       "        vertical-align: middle;\n",
       "    }\n",
       "\n",
       "    .dataframe tbody tr th {\n",
       "        vertical-align: top;\n",
       "    }\n",
       "\n",
       "    .dataframe thead th {\n",
       "        text-align: right;\n",
       "    }\n",
       "</style>\n",
       "<table border=\"1\" class=\"dataframe\">\n",
       "  <thead>\n",
       "    <tr style=\"text-align: right;\">\n",
       "      <th></th>\n",
       "      <th>0</th>\n",
       "      <th>1</th>\n",
       "      <th>2</th>\n",
       "      <th>3</th>\n",
       "    </tr>\n",
       "  </thead>\n",
       "  <tbody>\n",
       "    <tr>\n",
       "      <th>0</th>\n",
       "      <td>1</td>\n",
       "      <td>4</td>\n",
       "      <td>1</td>\n",
       "      <td>2</td>\n",
       "    </tr>\n",
       "    <tr>\n",
       "      <th>1</th>\n",
       "      <td>1</td>\n",
       "      <td>11</td>\n",
       "      <td>0</td>\n",
       "      <td>0</td>\n",
       "    </tr>\n",
       "    <tr>\n",
       "      <th>2</th>\n",
       "      <td>0</td>\n",
       "      <td>2</td>\n",
       "      <td>6</td>\n",
       "      <td>2</td>\n",
       "    </tr>\n",
       "    <tr>\n",
       "      <th>3</th>\n",
       "      <td>0</td>\n",
       "      <td>5</td>\n",
       "      <td>0</td>\n",
       "      <td>5</td>\n",
       "    </tr>\n",
       "  </tbody>\n",
       "</table>\n",
       "</div>"
      ],
      "text/plain": [
       "   0   1  2  3\n",
       "0  1   4  1  2\n",
       "1  1  11  0  0\n",
       "2  0   2  6  2\n",
       "3  0   5  0  5"
      ]
     },
     "execution_count": 13,
     "metadata": {},
     "output_type": "execute_result"
    }
   ],
   "source": []
  },
  {
   "cell_type": "code",
   "execution_count": null,
   "metadata": {},
   "outputs": [],
   "source": []
  },
  {
   "cell_type": "code",
   "execution_count": 30,
   "metadata": {},
   "outputs": [
    {
     "name": "stdout",
     "output_type": "stream",
     "text": [
      "BP\n",
      "0.787109375\n",
      "0.5200892857142857\n",
      "BP\n",
      "0.8601190476190477\n",
      "0.8035714285714287\n",
      "BP\n",
      "0.9083333333333333\n",
      "0.7769551282051282\n",
      "BP\n",
      "0.9500000000000001\n",
      "0.859469696969697\n"
     ]
    }
   ],
   "source": [
    "for pred_class in random_forest.classes_:    \n",
    "    print(ppa)\n",
    "    y_test_ppa = (outputs_df[outputs_df[\"test_set\"]][y_label] == pred_class).astype(int)\n",
    "    print(roc_auc_score(y_test_ppa, y_pred_proba_df[pred_class]))\n",
    "    print(average_precision_score(y_test_ppa, y_pred_proba_df[ppa]))"
   ]
  },
  {
   "cell_type": "code",
   "execution_count": 77,
   "metadata": {},
   "outputs": [
    {
     "data": {
      "text/html": [
       "<div>\n",
       "<style scoped>\n",
       "    .dataframe tbody tr th:only-of-type {\n",
       "        vertical-align: middle;\n",
       "    }\n",
       "\n",
       "    .dataframe tbody tr th {\n",
       "        vertical-align: top;\n",
       "    }\n",
       "\n",
       "    .dataframe thead th {\n",
       "        text-align: right;\n",
       "    }\n",
       "</style>\n",
       "<table border=\"1\" class=\"dataframe\">\n",
       "  <thead>\n",
       "    <tr style=\"text-align: right;\">\n",
       "      <th></th>\n",
       "      <th>Sub-Region</th>\n",
       "      <th>OFICINA</th>\n",
       "      <th>Location</th>\n",
       "      <th>Better</th>\n",
       "      <th>Primary PPA</th>\n",
       "      <th>Region</th>\n",
       "      <th>Output Statement</th>\n",
       "      <th>Deliverables/Milestones</th>\n",
       "      <th>#&amp;nbsp;Dlv/MS</th>\n",
       "      <th>Regional Initiative</th>\n",
       "      <th>...</th>\n",
       "      <th>openai_embedding_large_3063</th>\n",
       "      <th>openai_embedding_large_3064</th>\n",
       "      <th>openai_embedding_large_3065</th>\n",
       "      <th>openai_embedding_large_3066</th>\n",
       "      <th>openai_embedding_large_3067</th>\n",
       "      <th>openai_embedding_large_3068</th>\n",
       "      <th>openai_embedding_large_3069</th>\n",
       "      <th>openai_embedding_large_3070</th>\n",
       "      <th>openai_embedding_large_3071</th>\n",
       "      <th>test_set</th>\n",
       "    </tr>\n",
       "  </thead>\n",
       "  <tbody>\n",
       "    <tr>\n",
       "      <th>2</th>\n",
       "      <td>SA</td>\n",
       "      <td>COUNTRY</td>\n",
       "      <td>Bolivia</td>\n",
       "      <td>4 - Better Life</td>\n",
       "      <td>BL.3 - Agriculture and Food Emergencies</td>\n",
       "      <td>RLC - Latin America and the Caribbean Region</td>\n",
       "      <td>Productores y productoras vulnerables al cambi...</td>\n",
       "      <td>* 8319 - Organizaciones de productoras y produ...</td>\n",
       "      <td>4</td>\n",
       "      <td>RIL4 - Reduction of inequalities, poverty and ...</td>\n",
       "      <td>...</td>\n",
       "      <td>-0.010747</td>\n",
       "      <td>0.009892</td>\n",
       "      <td>0.006297</td>\n",
       "      <td>0.023807</td>\n",
       "      <td>0.035536</td>\n",
       "      <td>-0.006297</td>\n",
       "      <td>-0.002354</td>\n",
       "      <td>-0.009563</td>\n",
       "      <td>-0.025166</td>\n",
       "      <td>True</td>\n",
       "    </tr>\n",
       "    <tr>\n",
       "      <th>4</th>\n",
       "      <td>SA</td>\n",
       "      <td>COUNTRY</td>\n",
       "      <td>Brazil</td>\n",
       "      <td>3 - Better Environment</td>\n",
       "      <td>BE.3 - Biodiversity and Ecosystem Services for...</td>\n",
       "      <td>RLC - Latin America and the Caribbean Region</td>\n",
       "      <td>Federal, state and municipal governments and o...</td>\n",
       "      <td>* 7373 - Contribute to strengthening the Natio...</td>\n",
       "      <td>3</td>\n",
       "      <td>RIL3 - Sustainable management of natural resou...</td>\n",
       "      <td>...</td>\n",
       "      <td>-0.004566</td>\n",
       "      <td>0.018123</td>\n",
       "      <td>0.001161</td>\n",
       "      <td>0.001170</td>\n",
       "      <td>-0.007138</td>\n",
       "      <td>0.000892</td>\n",
       "      <td>-0.003194</td>\n",
       "      <td>-0.012811</td>\n",
       "      <td>-0.012867</td>\n",
       "      <td>True</td>\n",
       "    </tr>\n",
       "    <tr>\n",
       "      <th>5</th>\n",
       "      <td>SA</td>\n",
       "      <td>COUNTRY</td>\n",
       "      <td>Brazil</td>\n",
       "      <td>4 - Better Life</td>\n",
       "      <td>BL.2 - Inclusive Rural Transformation</td>\n",
       "      <td>RLC - Latin America and the Caribbean Region</td>\n",
       "      <td>Federal, state and municipal governments, civi...</td>\n",
       "      <td>* 7354 - UTF project document elaborated and a...</td>\n",
       "      <td>5</td>\n",
       "      <td>RIL4 - Reduction of inequalities, poverty and ...</td>\n",
       "      <td>...</td>\n",
       "      <td>-0.004263</td>\n",
       "      <td>0.029554</td>\n",
       "      <td>-0.012861</td>\n",
       "      <td>0.008776</td>\n",
       "      <td>-0.004193</td>\n",
       "      <td>-0.015663</td>\n",
       "      <td>0.001935</td>\n",
       "      <td>-0.015293</td>\n",
       "      <td>-0.021769</td>\n",
       "      <td>True</td>\n",
       "    </tr>\n",
       "    <tr>\n",
       "      <th>9</th>\n",
       "      <td>SA</td>\n",
       "      <td>COUNTRY</td>\n",
       "      <td>Colombia</td>\n",
       "      <td>2 - Better Nutrition</td>\n",
       "      <td>BN.1 - Healthy Diets for All</td>\n",
       "      <td>RLC - Latin America and the Caribbean Region</td>\n",
       "      <td>Capacidades en comunidades y actores relevante...</td>\n",
       "      <td>None</td>\n",
       "      <td>0</td>\n",
       "      <td>RIL2 - End hunger and achieve food security an...</td>\n",
       "      <td>...</td>\n",
       "      <td>-0.013599</td>\n",
       "      <td>0.011181</td>\n",
       "      <td>-0.002505</td>\n",
       "      <td>0.020242</td>\n",
       "      <td>0.007383</td>\n",
       "      <td>-0.011058</td>\n",
       "      <td>0.002805</td>\n",
       "      <td>-0.031058</td>\n",
       "      <td>-0.046856</td>\n",
       "      <td>True</td>\n",
       "    </tr>\n",
       "    <tr>\n",
       "      <th>10</th>\n",
       "      <td>SA</td>\n",
       "      <td>COUNTRY</td>\n",
       "      <td>Colombia</td>\n",
       "      <td>2 - Better Nutrition</td>\n",
       "      <td>BN.5 - Transparent Markets and Trade</td>\n",
       "      <td>RLC - Latin America and the Caribbean Region</td>\n",
       "      <td>Capacidades del Estado para proveer que reduzc...</td>\n",
       "      <td>None</td>\n",
       "      <td>0</td>\n",
       "      <td>RIL2 - End hunger and achieve food security an...</td>\n",
       "      <td>...</td>\n",
       "      <td>0.002331</td>\n",
       "      <td>0.002435</td>\n",
       "      <td>-0.010715</td>\n",
       "      <td>-0.010697</td>\n",
       "      <td>0.023726</td>\n",
       "      <td>-0.009433</td>\n",
       "      <td>0.009703</td>\n",
       "      <td>-0.027028</td>\n",
       "      <td>-0.022597</td>\n",
       "      <td>True</td>\n",
       "    </tr>\n",
       "    <tr>\n",
       "      <th>12</th>\n",
       "      <td>SA</td>\n",
       "      <td>COUNTRY</td>\n",
       "      <td>Colombia</td>\n",
       "      <td>4 - Better Life</td>\n",
       "      <td>BL.1 - Gender Equality and Rural Women's Empow...</td>\n",
       "      <td>RLC - Latin America and the Caribbean Region</td>\n",
       "      <td>Capacidades de sociedad civil y especialmente ...</td>\n",
       "      <td>None</td>\n",
       "      <td>0</td>\n",
       "      <td>RIL4 - Reduction of inequalities, poverty and ...</td>\n",
       "      <td>...</td>\n",
       "      <td>0.001822</td>\n",
       "      <td>0.006952</td>\n",
       "      <td>0.006287</td>\n",
       "      <td>0.019884</td>\n",
       "      <td>0.035530</td>\n",
       "      <td>-0.021368</td>\n",
       "      <td>-0.010595</td>\n",
       "      <td>-0.027572</td>\n",
       "      <td>-0.018554</td>\n",
       "      <td>True</td>\n",
       "    </tr>\n",
       "    <tr>\n",
       "      <th>18</th>\n",
       "      <td>SA</td>\n",
       "      <td>COUNTRY</td>\n",
       "      <td>Ecuador (EC, FLECU)</td>\n",
       "      <td>2 - Better Nutrition</td>\n",
       "      <td>BN.2 - Nutrition for the Most Vulnerable</td>\n",
       "      <td>RLC - Latin America and the Caribbean Region</td>\n",
       "      <td>MPP Output 1.1 Leyes;políticas;estrategias y o...</td>\n",
       "      <td>* 7147 - Los Gobiernos Autónomos Descentraliza...</td>\n",
       "      <td>3</td>\n",
       "      <td>RIL2 - End hunger and achieve food security an...</td>\n",
       "      <td>...</td>\n",
       "      <td>-0.015400</td>\n",
       "      <td>-0.001830</td>\n",
       "      <td>-0.015412</td>\n",
       "      <td>0.020928</td>\n",
       "      <td>0.016962</td>\n",
       "      <td>-0.012233</td>\n",
       "      <td>-0.017242</td>\n",
       "      <td>-0.012123</td>\n",
       "      <td>-0.029067</td>\n",
       "      <td>True</td>\n",
       "    </tr>\n",
       "    <tr>\n",
       "      <th>21</th>\n",
       "      <td>SA</td>\n",
       "      <td>COUNTRY</td>\n",
       "      <td>Ecuador (EC, FLECU)</td>\n",
       "      <td>4 - Better Life</td>\n",
       "      <td>BL.5 - Hand-in-Hand (HiH) Initiative</td>\n",
       "      <td>RLC - Latin America and the Caribbean Region</td>\n",
       "      <td>MPP Output 2.5 Herramientas para la planificac...</td>\n",
       "      <td>* 7550 - El Ministerio de Agricultura y Ganade...</td>\n",
       "      <td>1</td>\n",
       "      <td>RIL4 - Reduction of inequalities, poverty and ...</td>\n",
       "      <td>...</td>\n",
       "      <td>-0.023667</td>\n",
       "      <td>0.012856</td>\n",
       "      <td>-0.007506</td>\n",
       "      <td>0.002067</td>\n",
       "      <td>0.035784</td>\n",
       "      <td>-0.013607</td>\n",
       "      <td>0.007487</td>\n",
       "      <td>-0.018098</td>\n",
       "      <td>-0.008407</td>\n",
       "      <td>True</td>\n",
       "    </tr>\n",
       "    <tr>\n",
       "      <th>23</th>\n",
       "      <td>SA</td>\n",
       "      <td>COUNTRY</td>\n",
       "      <td>Peru (PE, FLPER)</td>\n",
       "      <td>3 - Better Environment</td>\n",
       "      <td>BE.4 - Achieving Sustainable Urban Food Systems</td>\n",
       "      <td>RLC - Latin America and the Caribbean Region</td>\n",
       "      <td>Las partes interesadas (comerciantes, distribu...</td>\n",
       "      <td>* 7031 - PRODUCE y PNDP, con asistencia técnic...</td>\n",
       "      <td>3</td>\n",
       "      <td>RIL3 - Sustainable management of natural resou...</td>\n",
       "      <td>...</td>\n",
       "      <td>-0.004315</td>\n",
       "      <td>0.004675</td>\n",
       "      <td>0.008035</td>\n",
       "      <td>0.012679</td>\n",
       "      <td>0.026184</td>\n",
       "      <td>-0.012216</td>\n",
       "      <td>-0.010245</td>\n",
       "      <td>-0.007942</td>\n",
       "      <td>-0.011102</td>\n",
       "      <td>True</td>\n",
       "    </tr>\n",
       "    <tr>\n",
       "      <th>30</th>\n",
       "      <td>RLC</td>\n",
       "      <td>OR RLC</td>\n",
       "      <td>RLC - RLC Region</td>\n",
       "      <td>1 - Better Production</td>\n",
       "      <td>BP.3 - One Health</td>\n",
       "      <td>RLC - Latin America and the Caribbean Region</td>\n",
       "      <td>Los países de la región mejoran sus capacidade...</td>\n",
       "      <td>* 9235 - 2. Mecanismos y capacidades fortaleci...</td>\n",
       "      <td>3</td>\n",
       "      <td>RIL1 - Efficient, inclusive and sustainable pr...</td>\n",
       "      <td>...</td>\n",
       "      <td>-0.005652</td>\n",
       "      <td>-0.001714</td>\n",
       "      <td>0.019148</td>\n",
       "      <td>-0.012910</td>\n",
       "      <td>0.024926</td>\n",
       "      <td>-0.001992</td>\n",
       "      <td>-0.029233</td>\n",
       "      <td>-0.016464</td>\n",
       "      <td>-0.032081</td>\n",
       "      <td>True</td>\n",
       "    </tr>\n",
       "    <tr>\n",
       "      <th>32</th>\n",
       "      <td>RLC</td>\n",
       "      <td>OR RLC</td>\n",
       "      <td>RLC - RLC Region</td>\n",
       "      <td>1 - Better Production</td>\n",
       "      <td>BP.4 - Small-Scale Producers' Equitable Access...</td>\n",
       "      <td>RLC - Latin America and the Caribbean Region</td>\n",
       "      <td>Entes gubernamentales y organizaciones sociale...</td>\n",
       "      <td>* 9233 - 1. Productos de conocimiento y espaci...</td>\n",
       "      <td>1</td>\n",
       "      <td>RIL1 - Efficient, inclusive and sustainable pr...</td>\n",
       "      <td>...</td>\n",
       "      <td>0.002645</td>\n",
       "      <td>0.018566</td>\n",
       "      <td>0.017562</td>\n",
       "      <td>0.025014</td>\n",
       "      <td>0.019246</td>\n",
       "      <td>-0.016212</td>\n",
       "      <td>-0.016784</td>\n",
       "      <td>-0.019668</td>\n",
       "      <td>-0.010660</td>\n",
       "      <td>True</td>\n",
       "    </tr>\n",
       "    <tr>\n",
       "      <th>33</th>\n",
       "      <td>RLC</td>\n",
       "      <td>OR RLC</td>\n",
       "      <td>RLC - RLC Region</td>\n",
       "      <td>1 - Better Production</td>\n",
       "      <td>BP.5 - Digital Agriculture</td>\n",
       "      <td>RLC - Latin America and the Caribbean Region</td>\n",
       "      <td>Los actores regionales , nacionales y locales ...</td>\n",
       "      <td>* 8575 - 2. Alianzas estratégicas identificada...</td>\n",
       "      <td>3</td>\n",
       "      <td>RIL1 - Efficient, inclusive and sustainable pr...</td>\n",
       "      <td>...</td>\n",
       "      <td>-0.001114</td>\n",
       "      <td>0.012325</td>\n",
       "      <td>-0.004918</td>\n",
       "      <td>0.011461</td>\n",
       "      <td>0.031334</td>\n",
       "      <td>-0.015667</td>\n",
       "      <td>-0.006804</td>\n",
       "      <td>-0.023941</td>\n",
       "      <td>-0.008217</td>\n",
       "      <td>True</td>\n",
       "    </tr>\n",
       "    <tr>\n",
       "      <th>34</th>\n",
       "      <td>RLC</td>\n",
       "      <td>OR RLC</td>\n",
       "      <td>RLC - RLC Region</td>\n",
       "      <td>1 - Better Production</td>\n",
       "      <td>BP.5 - Digital Agriculture</td>\n",
       "      <td>RLC - Latin America and the Caribbean Region</td>\n",
       "      <td>Países de la región diseñan e implementan solu...</td>\n",
       "      <td>* 8577 - 1. Plataformas virtuales – Hub digita...</td>\n",
       "      <td>1</td>\n",
       "      <td>RIL1 - Efficient, inclusive and sustainable pr...</td>\n",
       "      <td>...</td>\n",
       "      <td>-0.011097</td>\n",
       "      <td>-0.011506</td>\n",
       "      <td>-0.009304</td>\n",
       "      <td>-0.021255</td>\n",
       "      <td>0.047927</td>\n",
       "      <td>-0.023819</td>\n",
       "      <td>-0.002753</td>\n",
       "      <td>-0.006854</td>\n",
       "      <td>-0.016056</td>\n",
       "      <td>True</td>\n",
       "    </tr>\n",
       "    <tr>\n",
       "      <th>39</th>\n",
       "      <td>RLC</td>\n",
       "      <td>OR RLC</td>\n",
       "      <td>RLC - RLC Region</td>\n",
       "      <td>2 - Better Nutrition</td>\n",
       "      <td>BN.2 - Nutrition for the Most Vulnerable</td>\n",
       "      <td>RLC - Latin America and the Caribbean Region</td>\n",
       "      <td>Los países de la región diseñan, implementan y...</td>\n",
       "      <td>* 8455 - M3. Países con capacidades fortalecid...</td>\n",
       "      <td>5</td>\n",
       "      <td>RIL2 - End hunger and achieve food security an...</td>\n",
       "      <td>...</td>\n",
       "      <td>-0.011344</td>\n",
       "      <td>-0.006044</td>\n",
       "      <td>0.012545</td>\n",
       "      <td>0.004763</td>\n",
       "      <td>0.020051</td>\n",
       "      <td>-0.015969</td>\n",
       "      <td>-0.010153</td>\n",
       "      <td>-0.006193</td>\n",
       "      <td>-0.026877</td>\n",
       "      <td>True</td>\n",
       "    </tr>\n",
       "    <tr>\n",
       "      <th>42</th>\n",
       "      <td>RLC</td>\n",
       "      <td>OR RLC</td>\n",
       "      <td>RLC - RLC Region</td>\n",
       "      <td>2 - Better Nutrition</td>\n",
       "      <td>BN.4 - Reducing Food Loss and Waste</td>\n",
       "      <td>RLC - Latin America and the Caribbean Region</td>\n",
       "      <td>Los países de la Región y los actores de los s...</td>\n",
       "      <td>* 8477 - M2. Los países de la Región cuentan c...</td>\n",
       "      <td>5</td>\n",
       "      <td>RIL2 - End hunger and achieve food security an...</td>\n",
       "      <td>...</td>\n",
       "      <td>-0.001432</td>\n",
       "      <td>0.007683</td>\n",
       "      <td>-0.016752</td>\n",
       "      <td>0.008657</td>\n",
       "      <td>0.019960</td>\n",
       "      <td>-0.022367</td>\n",
       "      <td>0.016603</td>\n",
       "      <td>-0.008622</td>\n",
       "      <td>-0.009046</td>\n",
       "      <td>True</td>\n",
       "    </tr>\n",
       "    <tr>\n",
       "      <th>44</th>\n",
       "      <td>RLC</td>\n",
       "      <td>OR RLC</td>\n",
       "      <td>RLC - RLC Region</td>\n",
       "      <td>3 - Better Environment</td>\n",
       "      <td>BE.1 - Climate change mitigating and adapted a...</td>\n",
       "      <td>RLC - Latin America and the Caribbean Region</td>\n",
       "      <td>Los gobiernos y el sector privado fortalecen s...</td>\n",
       "      <td>* 8467 - Se fortalecen los marcos regulatorio,...</td>\n",
       "      <td>3</td>\n",
       "      <td>RIL3 - Sustainable management of natural resou...</td>\n",
       "      <td>...</td>\n",
       "      <td>0.000470</td>\n",
       "      <td>0.003012</td>\n",
       "      <td>0.013148</td>\n",
       "      <td>-0.006967</td>\n",
       "      <td>0.032514</td>\n",
       "      <td>-0.011436</td>\n",
       "      <td>-0.019733</td>\n",
       "      <td>-0.015656</td>\n",
       "      <td>-0.004541</td>\n",
       "      <td>True</td>\n",
       "    </tr>\n",
       "    <tr>\n",
       "      <th>47</th>\n",
       "      <td>RLC</td>\n",
       "      <td>OR RLC</td>\n",
       "      <td>RLC - RLC Region</td>\n",
       "      <td>3 - Better Environment</td>\n",
       "      <td>BE.2 - Bioeconomy for Sustainable Food and Agr...</td>\n",
       "      <td>RLC - Latin America and the Caribbean Region</td>\n",
       "      <td>Países de América Latina y el Caribe (ALC) for...</td>\n",
       "      <td>* 8501 - Generación de evidencia sobre el esta...</td>\n",
       "      <td>7</td>\n",
       "      <td>RIL3 - Sustainable management of natural resou...</td>\n",
       "      <td>...</td>\n",
       "      <td>0.003765</td>\n",
       "      <td>-0.016520</td>\n",
       "      <td>-0.018001</td>\n",
       "      <td>-0.008260</td>\n",
       "      <td>0.032657</td>\n",
       "      <td>-0.017404</td>\n",
       "      <td>-0.009815</td>\n",
       "      <td>-0.006705</td>\n",
       "      <td>-0.013421</td>\n",
       "      <td>True</td>\n",
       "    </tr>\n",
       "    <tr>\n",
       "      <th>48</th>\n",
       "      <td>RLC</td>\n",
       "      <td>OR RLC</td>\n",
       "      <td>RLC - RLC Region</td>\n",
       "      <td>3 - Better Environment</td>\n",
       "      <td>BE.3 - Biodiversity and Ecosystem Services for...</td>\n",
       "      <td>RLC - Latin America and the Caribbean Region</td>\n",
       "      <td>Los países de la región (al menos 10) fortalec...</td>\n",
       "      <td>* 8503 - Un (1) dialogo político intersectoria...</td>\n",
       "      <td>7</td>\n",
       "      <td>RIL3 - Sustainable management of natural resou...</td>\n",
       "      <td>...</td>\n",
       "      <td>-0.000588</td>\n",
       "      <td>-0.017126</td>\n",
       "      <td>0.008354</td>\n",
       "      <td>-0.002370</td>\n",
       "      <td>0.030396</td>\n",
       "      <td>-0.008648</td>\n",
       "      <td>-0.013902</td>\n",
       "      <td>-0.014680</td>\n",
       "      <td>-0.004127</td>\n",
       "      <td>True</td>\n",
       "    </tr>\n",
       "    <tr>\n",
       "      <th>50</th>\n",
       "      <td>RLC</td>\n",
       "      <td>OR RLC</td>\n",
       "      <td>RLC - RLC Region</td>\n",
       "      <td>3 - Better Environment</td>\n",
       "      <td>BE.4 - Achieving Sustainable Urban Food Systems</td>\n",
       "      <td>RLC - Latin America and the Caribbean Region</td>\n",
       "      <td>Países de la región cuentan con políticas para...</td>\n",
       "      <td>* 8524 - Apoyo tecnico al desarrollo de plataf...</td>\n",
       "      <td>3</td>\n",
       "      <td>RIL3 - Sustainable management of natural resou...</td>\n",
       "      <td>...</td>\n",
       "      <td>-0.004790</td>\n",
       "      <td>-0.001961</td>\n",
       "      <td>-0.005025</td>\n",
       "      <td>-0.007351</td>\n",
       "      <td>0.007889</td>\n",
       "      <td>-0.016781</td>\n",
       "      <td>-0.007783</td>\n",
       "      <td>-0.010450</td>\n",
       "      <td>-0.007050</td>\n",
       "      <td>True</td>\n",
       "    </tr>\n",
       "    <tr>\n",
       "      <th>57</th>\n",
       "      <td>RLC</td>\n",
       "      <td>OR RLC</td>\n",
       "      <td>RLC - RLC Region</td>\n",
       "      <td>4 - Better Life</td>\n",
       "      <td>BL.3 - Agriculture and Food Emergencies</td>\n",
       "      <td>RLC - Latin America and the Caribbean Region</td>\n",
       "      <td>Países y subregiones afectados por desastres y...</td>\n",
       "      <td>* 7831 - Fortalecidas las acciones anticipator...</td>\n",
       "      <td>4</td>\n",
       "      <td>RIL4 - Reduction of inequalities, poverty and ...</td>\n",
       "      <td>...</td>\n",
       "      <td>-0.005478</td>\n",
       "      <td>0.002412</td>\n",
       "      <td>0.002971</td>\n",
       "      <td>0.016603</td>\n",
       "      <td>0.005546</td>\n",
       "      <td>-0.018729</td>\n",
       "      <td>0.007680</td>\n",
       "      <td>-0.012363</td>\n",
       "      <td>-0.016276</td>\n",
       "      <td>True</td>\n",
       "    </tr>\n",
       "    <tr>\n",
       "      <th>59</th>\n",
       "      <td>RLC</td>\n",
       "      <td>OR RLC</td>\n",
       "      <td>RLC - RLC Region</td>\n",
       "      <td>4 - Better Life</td>\n",
       "      <td>BL.4 - Resilient Agri-Food Systems</td>\n",
       "      <td>RLC - Latin America and the Caribbean Region</td>\n",
       "      <td>Los estados miembros cuentan con capacidades d...</td>\n",
       "      <td>* 7837 -  Herramientas tecnológicas  desarroll...</td>\n",
       "      <td>5</td>\n",
       "      <td>RIL4 - Reduction of inequalities, poverty and ...</td>\n",
       "      <td>...</td>\n",
       "      <td>-0.008711</td>\n",
       "      <td>-0.006318</td>\n",
       "      <td>0.009533</td>\n",
       "      <td>0.009450</td>\n",
       "      <td>0.026117</td>\n",
       "      <td>-0.006646</td>\n",
       "      <td>-0.003850</td>\n",
       "      <td>-0.011582</td>\n",
       "      <td>-0.012004</td>\n",
       "      <td>True</td>\n",
       "    </tr>\n",
       "    <tr>\n",
       "      <th>63</th>\n",
       "      <td>SLC</td>\n",
       "      <td>OSR SLC</td>\n",
       "      <td>SLC - Subregional Office for the Caribbean (Br...</td>\n",
       "      <td>1 - Better Production</td>\n",
       "      <td>BP.2 - Blue Transformation</td>\n",
       "      <td>RLC - Latin America and the Caribbean Region</td>\n",
       "      <td>Sustainable mariculture and aquaculture system...</td>\n",
       "      <td>* 8117 - Pilots have been established in selec...</td>\n",
       "      <td>5</td>\n",
       "      <td>RIL1 - Efficient, inclusive and sustainable pr...</td>\n",
       "      <td>...</td>\n",
       "      <td>-0.012538</td>\n",
       "      <td>-0.006825</td>\n",
       "      <td>-0.020850</td>\n",
       "      <td>-0.023047</td>\n",
       "      <td>0.013951</td>\n",
       "      <td>-0.002606</td>\n",
       "      <td>-0.017800</td>\n",
       "      <td>-0.016288</td>\n",
       "      <td>0.010068</td>\n",
       "      <td>True</td>\n",
       "    </tr>\n",
       "    <tr>\n",
       "      <th>68</th>\n",
       "      <td>SLM</td>\n",
       "      <td>OSR SLM</td>\n",
       "      <td>SLM - Subregional Office for Mesoamerica (Pana...</td>\n",
       "      <td>4 - Better Life</td>\n",
       "      <td>BL.5 - Hand-in-Hand (HiH) Initiative</td>\n",
       "      <td>RLC - Latin America and the Caribbean Region</td>\n",
       "      <td>Instancias del SICA, entidades gubernamentales...</td>\n",
       "      <td>* 8265 - Acompañamiento técnico brindado a las...</td>\n",
       "      <td>4</td>\n",
       "      <td>RIL4 - Reduction of inequalities, poverty and ...</td>\n",
       "      <td>...</td>\n",
       "      <td>-0.012947</td>\n",
       "      <td>-0.003643</td>\n",
       "      <td>-0.006606</td>\n",
       "      <td>0.017351</td>\n",
       "      <td>0.039658</td>\n",
       "      <td>-0.020371</td>\n",
       "      <td>-0.021129</td>\n",
       "      <td>-0.008747</td>\n",
       "      <td>-0.030586</td>\n",
       "      <td>True</td>\n",
       "    </tr>\n",
       "    <tr>\n",
       "      <th>69</th>\n",
       "      <td>SA</td>\n",
       "      <td>COUNTRY</td>\n",
       "      <td>Uruguay (UY, FLURU)</td>\n",
       "      <td>3 - Better Environment</td>\n",
       "      <td>BE.1 - Climate change mitigating and adapted a...</td>\n",
       "      <td>RLC - Latin America and the Caribbean Region</td>\n",
       "      <td>Producto 1.1.4: El MGAP cuenta con asistencia ...</td>\n",
       "      <td>* 6757 - El Ministerio de Ambiente y el de Gan...</td>\n",
       "      <td>3</td>\n",
       "      <td>RIL3 - Sustainable management of natural resou...</td>\n",
       "      <td>...</td>\n",
       "      <td>-0.008754</td>\n",
       "      <td>0.016041</td>\n",
       "      <td>-0.003431</td>\n",
       "      <td>-0.001158</td>\n",
       "      <td>0.010682</td>\n",
       "      <td>-0.013158</td>\n",
       "      <td>-0.019057</td>\n",
       "      <td>-0.003395</td>\n",
       "      <td>0.002884</td>\n",
       "      <td>True</td>\n",
       "    </tr>\n",
       "    <tr>\n",
       "      <th>70</th>\n",
       "      <td>SA</td>\n",
       "      <td>COUNTRY</td>\n",
       "      <td>Uruguay (UY, FLURU)</td>\n",
       "      <td>3 - Better Environment</td>\n",
       "      <td>BE.2 - Bioeconomy for Sustainable Food and Agr...</td>\n",
       "      <td>RLC - Latin America and the Caribbean Region</td>\n",
       "      <td>Producto 1.1.1: El MGAP;en diálogo con las Org...</td>\n",
       "      <td>* 6758 - El MGAP cuenta con un documento técni...</td>\n",
       "      <td>2</td>\n",
       "      <td>RIL3 - Sustainable management of natural resou...</td>\n",
       "      <td>...</td>\n",
       "      <td>0.006085</td>\n",
       "      <td>0.008403</td>\n",
       "      <td>-0.006605</td>\n",
       "      <td>0.009967</td>\n",
       "      <td>0.024177</td>\n",
       "      <td>-0.022531</td>\n",
       "      <td>-0.039565</td>\n",
       "      <td>0.005439</td>\n",
       "      <td>-0.003340</td>\n",
       "      <td>True</td>\n",
       "    </tr>\n",
       "    <tr>\n",
       "      <th>71</th>\n",
       "      <td>SLC</td>\n",
       "      <td>COUNTRY</td>\n",
       "      <td>Antigua and Barbuda</td>\n",
       "      <td>2 - Better Nutrition</td>\n",
       "      <td>BN.5 - Transparent Markets and Trade</td>\n",
       "      <td>RLC - Latin America and the Caribbean Region</td>\n",
       "      <td>Output 2.2.2 The Ministry of Agriculture is su...</td>\n",
       "      <td>* 7793 - Not Applicable, due: 2025-Dec-31\\n</td>\n",
       "      <td>1</td>\n",
       "      <td>RIL2 - End hunger and achieve food security an...</td>\n",
       "      <td>...</td>\n",
       "      <td>-0.013840</td>\n",
       "      <td>0.013700</td>\n",
       "      <td>-0.009942</td>\n",
       "      <td>-0.024929</td>\n",
       "      <td>-0.027444</td>\n",
       "      <td>-0.008677</td>\n",
       "      <td>0.007841</td>\n",
       "      <td>-0.003344</td>\n",
       "      <td>-0.015964</td>\n",
       "      <td>True</td>\n",
       "    </tr>\n",
       "    <tr>\n",
       "      <th>74</th>\n",
       "      <td>SLC</td>\n",
       "      <td>COUNTRY</td>\n",
       "      <td>Barbados</td>\n",
       "      <td>1 - Better Production</td>\n",
       "      <td>BP.2 - Blue Transformation</td>\n",
       "      <td>RLC - Latin America and the Caribbean Region</td>\n",
       "      <td>Output 1.1.2 The Fisheries Division is strengt...</td>\n",
       "      <td>* 7742 - Development of a Project-wide MSP Pro...</td>\n",
       "      <td>5</td>\n",
       "      <td>RIL1 - Efficient, inclusive and sustainable pr...</td>\n",
       "      <td>...</td>\n",
       "      <td>-0.012378</td>\n",
       "      <td>-0.022406</td>\n",
       "      <td>-0.000149</td>\n",
       "      <td>-0.017973</td>\n",
       "      <td>-0.006375</td>\n",
       "      <td>-0.002620</td>\n",
       "      <td>-0.018240</td>\n",
       "      <td>-0.009522</td>\n",
       "      <td>-0.018389</td>\n",
       "      <td>True</td>\n",
       "    </tr>\n",
       "    <tr>\n",
       "      <th>75</th>\n",
       "      <td>SLC</td>\n",
       "      <td>COUNTRY</td>\n",
       "      <td>Barbados</td>\n",
       "      <td>2 - Better Nutrition</td>\n",
       "      <td>BN.1 - Healthy Diets for All</td>\n",
       "      <td>RLC - Latin America and the Caribbean Region</td>\n",
       "      <td>Output 3.2.1 Government institutions have stre...</td>\n",
       "      <td>* 7783 - The National Food and Nutrition Polic...</td>\n",
       "      <td>1</td>\n",
       "      <td>RIL2 - End hunger and achieve food security an...</td>\n",
       "      <td>...</td>\n",
       "      <td>-0.008252</td>\n",
       "      <td>0.006907</td>\n",
       "      <td>-0.009868</td>\n",
       "      <td>0.001949</td>\n",
       "      <td>-0.019378</td>\n",
       "      <td>-0.000932</td>\n",
       "      <td>-0.008860</td>\n",
       "      <td>-0.010554</td>\n",
       "      <td>-0.016332</td>\n",
       "      <td>True</td>\n",
       "    </tr>\n",
       "    <tr>\n",
       "      <th>78</th>\n",
       "      <td>SLC</td>\n",
       "      <td>COUNTRY</td>\n",
       "      <td>Dominica (DM, FLDMI)</td>\n",
       "      <td>1 - Better Production</td>\n",
       "      <td>BP.1 - Innovation for Sustainable Agriculture ...</td>\n",
       "      <td>RLC - Latin America and the Caribbean Region</td>\n",
       "      <td>Output 2.1.2 Extension officers;financial/cred...</td>\n",
       "      <td>* 7896 - *Technical manuals/guidelines develop...</td>\n",
       "      <td>5</td>\n",
       "      <td>RIL1 - Efficient, inclusive and sustainable pr...</td>\n",
       "      <td>...</td>\n",
       "      <td>-0.011623</td>\n",
       "      <td>0.016701</td>\n",
       "      <td>-0.011704</td>\n",
       "      <td>-0.002182</td>\n",
       "      <td>0.014697</td>\n",
       "      <td>-0.006906</td>\n",
       "      <td>-0.007754</td>\n",
       "      <td>-0.001821</td>\n",
       "      <td>-0.011210</td>\n",
       "      <td>True</td>\n",
       "    </tr>\n",
       "    <tr>\n",
       "      <th>83</th>\n",
       "      <td>SLC</td>\n",
       "      <td>COUNTRY</td>\n",
       "      <td>Guyana (GY, FLGUY)</td>\n",
       "      <td>2 - Better Nutrition</td>\n",
       "      <td>BN.4 - Reducing Food Loss and Waste</td>\n",
       "      <td>RLC - Latin America and the Caribbean Region</td>\n",
       "      <td>Targeted National agencies are better able to ...</td>\n",
       "      <td>* 7146 - *Due to political changes, this line ...</td>\n",
       "      <td>1</td>\n",
       "      <td>RIL2 - End hunger and achieve food security an...</td>\n",
       "      <td>...</td>\n",
       "      <td>-0.008922</td>\n",
       "      <td>0.001015</td>\n",
       "      <td>-0.017305</td>\n",
       "      <td>-0.002220</td>\n",
       "      <td>-0.009737</td>\n",
       "      <td>-0.011665</td>\n",
       "      <td>0.002420</td>\n",
       "      <td>-0.003096</td>\n",
       "      <td>-0.004814</td>\n",
       "      <td>True</td>\n",
       "    </tr>\n",
       "    <tr>\n",
       "      <th>85</th>\n",
       "      <td>SLC</td>\n",
       "      <td>COUNTRY</td>\n",
       "      <td>Jamaica (JM, FLJAM)</td>\n",
       "      <td>2 - Better Nutrition</td>\n",
       "      <td>BN.3 - Safe Food for Everyone</td>\n",
       "      <td>RLC - Latin America and the Caribbean Region</td>\n",
       "      <td>Output 1.3: Technical officers of the ministri...</td>\n",
       "      <td>* 6788 -  Completion of a comprehensive report...</td>\n",
       "      <td>4</td>\n",
       "      <td>RIL2 - End hunger and achieve food security an...</td>\n",
       "      <td>...</td>\n",
       "      <td>-0.008330</td>\n",
       "      <td>0.027967</td>\n",
       "      <td>-0.012598</td>\n",
       "      <td>0.007386</td>\n",
       "      <td>0.004172</td>\n",
       "      <td>-0.001041</td>\n",
       "      <td>-0.006413</td>\n",
       "      <td>0.001168</td>\n",
       "      <td>-0.025277</td>\n",
       "      <td>True</td>\n",
       "    </tr>\n",
       "    <tr>\n",
       "      <th>87</th>\n",
       "      <td>SLC</td>\n",
       "      <td>COUNTRY</td>\n",
       "      <td>Saint Kitts and Nevis (KN, FLSTK)</td>\n",
       "      <td>1 - Better Production</td>\n",
       "      <td>BP.1 - Innovation for Sustainable Agriculture ...</td>\n",
       "      <td>RLC - Latin America and the Caribbean Region</td>\n",
       "      <td>Output 2.1.2 Extension officers;financial/cred...</td>\n",
       "      <td>* 7977 - *Technical manuals/guidelines and bus...</td>\n",
       "      <td>1</td>\n",
       "      <td>RIL1 - Efficient, inclusive and sustainable pr...</td>\n",
       "      <td>...</td>\n",
       "      <td>-0.013773</td>\n",
       "      <td>0.022252</td>\n",
       "      <td>-0.017002</td>\n",
       "      <td>-0.005537</td>\n",
       "      <td>0.009185</td>\n",
       "      <td>-0.007383</td>\n",
       "      <td>-0.009332</td>\n",
       "      <td>0.003758</td>\n",
       "      <td>-0.011575</td>\n",
       "      <td>True</td>\n",
       "    </tr>\n",
       "    <tr>\n",
       "      <th>88</th>\n",
       "      <td>SLC</td>\n",
       "      <td>COUNTRY</td>\n",
       "      <td>Saint Kitts and Nevis (KN, FLSTK)</td>\n",
       "      <td>4 - Better Life</td>\n",
       "      <td>BL.4 - Resilient Agri-Food Systems</td>\n",
       "      <td>RLC - Latin America and the Caribbean Region</td>\n",
       "      <td>Output 1.2.1 The Ministry of Agriculture;farme...</td>\n",
       "      <td>* 7964 - *A Ministry of Agriculture Drone and ...</td>\n",
       "      <td>2</td>\n",
       "      <td>RIL4 - Reduction of inequalities, poverty and ...</td>\n",
       "      <td>...</td>\n",
       "      <td>-0.024696</td>\n",
       "      <td>0.019133</td>\n",
       "      <td>-0.006219</td>\n",
       "      <td>-0.000833</td>\n",
       "      <td>-0.007589</td>\n",
       "      <td>-0.009141</td>\n",
       "      <td>-0.004893</td>\n",
       "      <td>0.008069</td>\n",
       "      <td>-0.003856</td>\n",
       "      <td>True</td>\n",
       "    </tr>\n",
       "    <tr>\n",
       "      <th>90</th>\n",
       "      <td>SLC</td>\n",
       "      <td>COUNTRY</td>\n",
       "      <td>Saint Kitts and Nevis (KN, FLSTK)</td>\n",
       "      <td>4 - Better Life</td>\n",
       "      <td>BL.6 - Scaling up Investment</td>\n",
       "      <td>RLC - Latin America and the Caribbean Region</td>\n",
       "      <td>Output 2.2.1 Agricultural and fisheries sector...</td>\n",
       "      <td>* 7978 - *A financing mechanism is designed to...</td>\n",
       "      <td>1</td>\n",
       "      <td>RIL4 - Reduction of inequalities, poverty and ...</td>\n",
       "      <td>...</td>\n",
       "      <td>-0.010739</td>\n",
       "      <td>0.011659</td>\n",
       "      <td>0.014155</td>\n",
       "      <td>-0.003473</td>\n",
       "      <td>0.014976</td>\n",
       "      <td>-0.012003</td>\n",
       "      <td>0.009216</td>\n",
       "      <td>-0.018525</td>\n",
       "      <td>-0.004482</td>\n",
       "      <td>True</td>\n",
       "    </tr>\n",
       "    <tr>\n",
       "      <th>91</th>\n",
       "      <td>SLC</td>\n",
       "      <td>COUNTRY</td>\n",
       "      <td>Saint Lucia (LC, FLSTL)</td>\n",
       "      <td>1 - Better Production</td>\n",
       "      <td>BP.4 - Small-Scale Producers' Equitable Access...</td>\n",
       "      <td>RLC - Latin America and the Caribbean Region</td>\n",
       "      <td>Output 2.1.2 Extension officers;financial/cred...</td>\n",
       "      <td>* 8027 - Farmers have improved production capa...</td>\n",
       "      <td>4</td>\n",
       "      <td>RIL1 - Efficient, inclusive and sustainable pr...</td>\n",
       "      <td>...</td>\n",
       "      <td>-0.010397</td>\n",
       "      <td>0.018430</td>\n",
       "      <td>-0.014476</td>\n",
       "      <td>-0.002333</td>\n",
       "      <td>0.014831</td>\n",
       "      <td>-0.007378</td>\n",
       "      <td>-0.012407</td>\n",
       "      <td>-0.000459</td>\n",
       "      <td>-0.015082</td>\n",
       "      <td>True</td>\n",
       "    </tr>\n",
       "    <tr>\n",
       "      <th>95</th>\n",
       "      <td>SLC</td>\n",
       "      <td>COUNTRY</td>\n",
       "      <td>Suriname (SR, FLSUR)</td>\n",
       "      <td>2 - Better Nutrition</td>\n",
       "      <td>BN.3 - Safe Food for Everyone</td>\n",
       "      <td>RLC - Latin America and the Caribbean Region</td>\n",
       "      <td>MSMEs (Small and Medium Enterprises) are bette...</td>\n",
       "      <td>* 7486 - 1000 small scale farmers increase hor...</td>\n",
       "      <td>4</td>\n",
       "      <td>RIL2 - End hunger and achieve food security an...</td>\n",
       "      <td>...</td>\n",
       "      <td>-0.020671</td>\n",
       "      <td>-0.006829</td>\n",
       "      <td>-0.015774</td>\n",
       "      <td>0.027243</td>\n",
       "      <td>0.003640</td>\n",
       "      <td>-0.007363</td>\n",
       "      <td>-0.004987</td>\n",
       "      <td>-0.015167</td>\n",
       "      <td>-0.005998</td>\n",
       "      <td>True</td>\n",
       "    </tr>\n",
       "    <tr>\n",
       "      <th>104</th>\n",
       "      <td>SLM</td>\n",
       "      <td>COUNTRY</td>\n",
       "      <td>Guatemala (GT, FLGUA)</td>\n",
       "      <td>4 - Better Life</td>\n",
       "      <td>BL.2 - Inclusive Rural Transformation</td>\n",
       "      <td>RLC - Latin America and the Caribbean Region</td>\n",
       "      <td>Producto 1.2: Micro y medianos emprendimientos...</td>\n",
       "      <td>* 8587 - 14 planes de fortalecimiento de capac...</td>\n",
       "      <td>5</td>\n",
       "      <td>RIL4 - Reduction of inequalities, poverty and ...</td>\n",
       "      <td>...</td>\n",
       "      <td>0.003694</td>\n",
       "      <td>0.011392</td>\n",
       "      <td>-0.002029</td>\n",
       "      <td>0.021832</td>\n",
       "      <td>0.014212</td>\n",
       "      <td>-0.018398</td>\n",
       "      <td>-0.004173</td>\n",
       "      <td>-0.014625</td>\n",
       "      <td>-0.017182</td>\n",
       "      <td>True</td>\n",
       "    </tr>\n",
       "    <tr>\n",
       "      <th>106</th>\n",
       "      <td>SLM</td>\n",
       "      <td>COUNTRY</td>\n",
       "      <td>Honduras (HN, FLHON)</td>\n",
       "      <td>1 - Better Production</td>\n",
       "      <td>BP.3 - One Health</td>\n",
       "      <td>RLC - Latin America and the Caribbean Region</td>\n",
       "      <td>Producto MPP 3.3   Las instituciones nacionale...</td>\n",
       "      <td>* 7768 - La Secretaría de Agricultura y Ganade...</td>\n",
       "      <td>2</td>\n",
       "      <td>RIL1 - Efficient, inclusive and sustainable pr...</td>\n",
       "      <td>...</td>\n",
       "      <td>-0.006389</td>\n",
       "      <td>0.008428</td>\n",
       "      <td>-0.009489</td>\n",
       "      <td>0.005832</td>\n",
       "      <td>0.020510</td>\n",
       "      <td>-0.001247</td>\n",
       "      <td>-0.008811</td>\n",
       "      <td>-0.009418</td>\n",
       "      <td>-0.044274</td>\n",
       "      <td>True</td>\n",
       "    </tr>\n",
       "    <tr>\n",
       "      <th>107</th>\n",
       "      <td>SLM</td>\n",
       "      <td>COUNTRY</td>\n",
       "      <td>Honduras (HN, FLHON)</td>\n",
       "      <td>4 - Better Life</td>\n",
       "      <td>BL.1 - Gender Equality and Rural Women's Empow...</td>\n",
       "      <td>RLC - Latin America and the Caribbean Region</td>\n",
       "      <td>Producto MPP 2.4    Las mujeres (adultas;jóven...</td>\n",
       "      <td>* 7763 - Al menos, 1 (un) Mecanimos de inclusi...</td>\n",
       "      <td>1</td>\n",
       "      <td>RIL4 - Reduction of inequalities, poverty and ...</td>\n",
       "      <td>...</td>\n",
       "      <td>-0.002871</td>\n",
       "      <td>0.001546</td>\n",
       "      <td>0.008204</td>\n",
       "      <td>0.012432</td>\n",
       "      <td>0.033969</td>\n",
       "      <td>-0.033152</td>\n",
       "      <td>-0.001667</td>\n",
       "      <td>-0.012126</td>\n",
       "      <td>-0.011483</td>\n",
       "      <td>True</td>\n",
       "    </tr>\n",
       "    <tr>\n",
       "      <th>109</th>\n",
       "      <td>SLM</td>\n",
       "      <td>COUNTRY</td>\n",
       "      <td>Mexico (MX, FLMEX)</td>\n",
       "      <td>4 - Better Life</td>\n",
       "      <td>BL.6 - Scaling up Investment</td>\n",
       "      <td>RLC - Latin America and the Caribbean Region</td>\n",
       "      <td>Producto 2.3 Los actores financieros públicos ...</td>\n",
       "      <td>* 7387 - El Gobierno de México, a través de lo...</td>\n",
       "      <td>3</td>\n",
       "      <td>RIL4 - Reduction of inequalities, poverty and ...</td>\n",
       "      <td>...</td>\n",
       "      <td>0.012645</td>\n",
       "      <td>0.005848</td>\n",
       "      <td>-0.003872</td>\n",
       "      <td>0.031002</td>\n",
       "      <td>0.032963</td>\n",
       "      <td>-0.020499</td>\n",
       "      <td>-0.004520</td>\n",
       "      <td>-0.021866</td>\n",
       "      <td>-0.030954</td>\n",
       "      <td>True</td>\n",
       "    </tr>\n",
       "  </tbody>\n",
       "</table>\n",
       "<p>40 rows × 4672 columns</p>\n",
       "</div>"
      ],
      "text/plain": [
       "    Sub-Region  OFICINA                                           Location  \\\n",
       "2           SA  COUNTRY                                            Bolivia   \n",
       "4           SA  COUNTRY                                             Brazil   \n",
       "5           SA  COUNTRY                                             Brazil   \n",
       "9           SA  COUNTRY                                           Colombia   \n",
       "10          SA  COUNTRY                                           Colombia   \n",
       "12          SA  COUNTRY                                           Colombia   \n",
       "18          SA  COUNTRY                                Ecuador (EC, FLECU)   \n",
       "21          SA  COUNTRY                                Ecuador (EC, FLECU)   \n",
       "23          SA  COUNTRY                                   Peru (PE, FLPER)   \n",
       "30         RLC   OR RLC                                   RLC - RLC Region   \n",
       "32         RLC   OR RLC                                   RLC - RLC Region   \n",
       "33         RLC   OR RLC                                   RLC - RLC Region   \n",
       "34         RLC   OR RLC                                   RLC - RLC Region   \n",
       "39         RLC   OR RLC                                   RLC - RLC Region   \n",
       "42         RLC   OR RLC                                   RLC - RLC Region   \n",
       "44         RLC   OR RLC                                   RLC - RLC Region   \n",
       "47         RLC   OR RLC                                   RLC - RLC Region   \n",
       "48         RLC   OR RLC                                   RLC - RLC Region   \n",
       "50         RLC   OR RLC                                   RLC - RLC Region   \n",
       "57         RLC   OR RLC                                   RLC - RLC Region   \n",
       "59         RLC   OR RLC                                   RLC - RLC Region   \n",
       "63         SLC  OSR SLC  SLC - Subregional Office for the Caribbean (Br...   \n",
       "68         SLM  OSR SLM  SLM - Subregional Office for Mesoamerica (Pana...   \n",
       "69          SA  COUNTRY                                Uruguay (UY, FLURU)   \n",
       "70          SA  COUNTRY                                Uruguay (UY, FLURU)   \n",
       "71         SLC  COUNTRY                                Antigua and Barbuda   \n",
       "74         SLC  COUNTRY                                           Barbados   \n",
       "75         SLC  COUNTRY                                           Barbados   \n",
       "78         SLC  COUNTRY                               Dominica (DM, FLDMI)   \n",
       "83         SLC  COUNTRY                                 Guyana (GY, FLGUY)   \n",
       "85         SLC  COUNTRY                                Jamaica (JM, FLJAM)   \n",
       "87         SLC  COUNTRY                  Saint Kitts and Nevis (KN, FLSTK)   \n",
       "88         SLC  COUNTRY                  Saint Kitts and Nevis (KN, FLSTK)   \n",
       "90         SLC  COUNTRY                  Saint Kitts and Nevis (KN, FLSTK)   \n",
       "91         SLC  COUNTRY                            Saint Lucia (LC, FLSTL)   \n",
       "95         SLC  COUNTRY                               Suriname (SR, FLSUR)   \n",
       "104        SLM  COUNTRY                              Guatemala (GT, FLGUA)   \n",
       "106        SLM  COUNTRY                               Honduras (HN, FLHON)   \n",
       "107        SLM  COUNTRY                               Honduras (HN, FLHON)   \n",
       "109        SLM  COUNTRY                                 Mexico (MX, FLMEX)   \n",
       "\n",
       "                     Better  \\\n",
       "2           4 - Better Life   \n",
       "4    3 - Better Environment   \n",
       "5           4 - Better Life   \n",
       "9      2 - Better Nutrition   \n",
       "10     2 - Better Nutrition   \n",
       "12          4 - Better Life   \n",
       "18     2 - Better Nutrition   \n",
       "21          4 - Better Life   \n",
       "23   3 - Better Environment   \n",
       "30    1 - Better Production   \n",
       "32    1 - Better Production   \n",
       "33    1 - Better Production   \n",
       "34    1 - Better Production   \n",
       "39     2 - Better Nutrition   \n",
       "42     2 - Better Nutrition   \n",
       "44   3 - Better Environment   \n",
       "47   3 - Better Environment   \n",
       "48   3 - Better Environment   \n",
       "50   3 - Better Environment   \n",
       "57          4 - Better Life   \n",
       "59          4 - Better Life   \n",
       "63    1 - Better Production   \n",
       "68          4 - Better Life   \n",
       "69   3 - Better Environment   \n",
       "70   3 - Better Environment   \n",
       "71     2 - Better Nutrition   \n",
       "74    1 - Better Production   \n",
       "75     2 - Better Nutrition   \n",
       "78    1 - Better Production   \n",
       "83     2 - Better Nutrition   \n",
       "85     2 - Better Nutrition   \n",
       "87    1 - Better Production   \n",
       "88          4 - Better Life   \n",
       "90          4 - Better Life   \n",
       "91    1 - Better Production   \n",
       "95     2 - Better Nutrition   \n",
       "104         4 - Better Life   \n",
       "106   1 - Better Production   \n",
       "107         4 - Better Life   \n",
       "109         4 - Better Life   \n",
       "\n",
       "                                           Primary PPA  \\\n",
       "2              BL.3 - Agriculture and Food Emergencies   \n",
       "4    BE.3 - Biodiversity and Ecosystem Services for...   \n",
       "5                BL.2 - Inclusive Rural Transformation   \n",
       "9                         BN.1 - Healthy Diets for All   \n",
       "10                BN.5 - Transparent Markets and Trade   \n",
       "12   BL.1 - Gender Equality and Rural Women's Empow...   \n",
       "18            BN.2 - Nutrition for the Most Vulnerable   \n",
       "21                BL.5 - Hand-in-Hand (HiH) Initiative   \n",
       "23     BE.4 - Achieving Sustainable Urban Food Systems   \n",
       "30                                   BP.3 - One Health   \n",
       "32   BP.4 - Small-Scale Producers' Equitable Access...   \n",
       "33                          BP.5 - Digital Agriculture   \n",
       "34                          BP.5 - Digital Agriculture   \n",
       "39            BN.2 - Nutrition for the Most Vulnerable   \n",
       "42                 BN.4 - Reducing Food Loss and Waste   \n",
       "44   BE.1 - Climate change mitigating and adapted a...   \n",
       "47   BE.2 - Bioeconomy for Sustainable Food and Agr...   \n",
       "48   BE.3 - Biodiversity and Ecosystem Services for...   \n",
       "50     BE.4 - Achieving Sustainable Urban Food Systems   \n",
       "57             BL.3 - Agriculture and Food Emergencies   \n",
       "59                  BL.4 - Resilient Agri-Food Systems   \n",
       "63                          BP.2 - Blue Transformation   \n",
       "68                BL.5 - Hand-in-Hand (HiH) Initiative   \n",
       "69   BE.1 - Climate change mitigating and adapted a...   \n",
       "70   BE.2 - Bioeconomy for Sustainable Food and Agr...   \n",
       "71                BN.5 - Transparent Markets and Trade   \n",
       "74                          BP.2 - Blue Transformation   \n",
       "75                        BN.1 - Healthy Diets for All   \n",
       "78   BP.1 - Innovation for Sustainable Agriculture ...   \n",
       "83                 BN.4 - Reducing Food Loss and Waste   \n",
       "85                       BN.3 - Safe Food for Everyone   \n",
       "87   BP.1 - Innovation for Sustainable Agriculture ...   \n",
       "88                  BL.4 - Resilient Agri-Food Systems   \n",
       "90                        BL.6 - Scaling up Investment   \n",
       "91   BP.4 - Small-Scale Producers' Equitable Access...   \n",
       "95                       BN.3 - Safe Food for Everyone   \n",
       "104              BL.2 - Inclusive Rural Transformation   \n",
       "106                                  BP.3 - One Health   \n",
       "107  BL.1 - Gender Equality and Rural Women's Empow...   \n",
       "109                       BL.6 - Scaling up Investment   \n",
       "\n",
       "                                           Region  \\\n",
       "2    RLC - Latin America and the Caribbean Region   \n",
       "4    RLC - Latin America and the Caribbean Region   \n",
       "5    RLC - Latin America and the Caribbean Region   \n",
       "9    RLC - Latin America and the Caribbean Region   \n",
       "10   RLC - Latin America and the Caribbean Region   \n",
       "12   RLC - Latin America and the Caribbean Region   \n",
       "18   RLC - Latin America and the Caribbean Region   \n",
       "21   RLC - Latin America and the Caribbean Region   \n",
       "23   RLC - Latin America and the Caribbean Region   \n",
       "30   RLC - Latin America and the Caribbean Region   \n",
       "32   RLC - Latin America and the Caribbean Region   \n",
       "33   RLC - Latin America and the Caribbean Region   \n",
       "34   RLC - Latin America and the Caribbean Region   \n",
       "39   RLC - Latin America and the Caribbean Region   \n",
       "42   RLC - Latin America and the Caribbean Region   \n",
       "44   RLC - Latin America and the Caribbean Region   \n",
       "47   RLC - Latin America and the Caribbean Region   \n",
       "48   RLC - Latin America and the Caribbean Region   \n",
       "50   RLC - Latin America and the Caribbean Region   \n",
       "57   RLC - Latin America and the Caribbean Region   \n",
       "59   RLC - Latin America and the Caribbean Region   \n",
       "63   RLC - Latin America and the Caribbean Region   \n",
       "68   RLC - Latin America and the Caribbean Region   \n",
       "69   RLC - Latin America and the Caribbean Region   \n",
       "70   RLC - Latin America and the Caribbean Region   \n",
       "71   RLC - Latin America and the Caribbean Region   \n",
       "74   RLC - Latin America and the Caribbean Region   \n",
       "75   RLC - Latin America and the Caribbean Region   \n",
       "78   RLC - Latin America and the Caribbean Region   \n",
       "83   RLC - Latin America and the Caribbean Region   \n",
       "85   RLC - Latin America and the Caribbean Region   \n",
       "87   RLC - Latin America and the Caribbean Region   \n",
       "88   RLC - Latin America and the Caribbean Region   \n",
       "90   RLC - Latin America and the Caribbean Region   \n",
       "91   RLC - Latin America and the Caribbean Region   \n",
       "95   RLC - Latin America and the Caribbean Region   \n",
       "104  RLC - Latin America and the Caribbean Region   \n",
       "106  RLC - Latin America and the Caribbean Region   \n",
       "107  RLC - Latin America and the Caribbean Region   \n",
       "109  RLC - Latin America and the Caribbean Region   \n",
       "\n",
       "                                      Output Statement  \\\n",
       "2    Productores y productoras vulnerables al cambi...   \n",
       "4    Federal, state and municipal governments and o...   \n",
       "5    Federal, state and municipal governments, civi...   \n",
       "9    Capacidades en comunidades y actores relevante...   \n",
       "10   Capacidades del Estado para proveer que reduzc...   \n",
       "12   Capacidades de sociedad civil y especialmente ...   \n",
       "18   MPP Output 1.1 Leyes;políticas;estrategias y o...   \n",
       "21   MPP Output 2.5 Herramientas para la planificac...   \n",
       "23   Las partes interesadas (comerciantes, distribu...   \n",
       "30   Los países de la región mejoran sus capacidade...   \n",
       "32   Entes gubernamentales y organizaciones sociale...   \n",
       "33   Los actores regionales , nacionales y locales ...   \n",
       "34   Países de la región diseñan e implementan solu...   \n",
       "39   Los países de la región diseñan, implementan y...   \n",
       "42   Los países de la Región y los actores de los s...   \n",
       "44   Los gobiernos y el sector privado fortalecen s...   \n",
       "47   Países de América Latina y el Caribe (ALC) for...   \n",
       "48   Los países de la región (al menos 10) fortalec...   \n",
       "50   Países de la región cuentan con políticas para...   \n",
       "57   Países y subregiones afectados por desastres y...   \n",
       "59   Los estados miembros cuentan con capacidades d...   \n",
       "63   Sustainable mariculture and aquaculture system...   \n",
       "68   Instancias del SICA, entidades gubernamentales...   \n",
       "69   Producto 1.1.4: El MGAP cuenta con asistencia ...   \n",
       "70   Producto 1.1.1: El MGAP;en diálogo con las Org...   \n",
       "71   Output 2.2.2 The Ministry of Agriculture is su...   \n",
       "74   Output 1.1.2 The Fisheries Division is strengt...   \n",
       "75   Output 3.2.1 Government institutions have stre...   \n",
       "78   Output 2.1.2 Extension officers;financial/cred...   \n",
       "83   Targeted National agencies are better able to ...   \n",
       "85   Output 1.3: Technical officers of the ministri...   \n",
       "87   Output 2.1.2 Extension officers;financial/cred...   \n",
       "88   Output 1.2.1 The Ministry of Agriculture;farme...   \n",
       "90   Output 2.2.1 Agricultural and fisheries sector...   \n",
       "91   Output 2.1.2 Extension officers;financial/cred...   \n",
       "95   MSMEs (Small and Medium Enterprises) are bette...   \n",
       "104  Producto 1.2: Micro y medianos emprendimientos...   \n",
       "106  Producto MPP 3.3   Las instituciones nacionale...   \n",
       "107  Producto MPP 2.4    Las mujeres (adultas;jóven...   \n",
       "109  Producto 2.3 Los actores financieros públicos ...   \n",
       "\n",
       "                               Deliverables/Milestones  #&nbsp;Dlv/MS  \\\n",
       "2    * 8319 - Organizaciones de productoras y produ...              4   \n",
       "4    * 7373 - Contribute to strengthening the Natio...              3   \n",
       "5    * 7354 - UTF project document elaborated and a...              5   \n",
       "9                                                 None              0   \n",
       "10                                                None              0   \n",
       "12                                                None              0   \n",
       "18   * 7147 - Los Gobiernos Autónomos Descentraliza...              3   \n",
       "21   * 7550 - El Ministerio de Agricultura y Ganade...              1   \n",
       "23   * 7031 - PRODUCE y PNDP, con asistencia técnic...              3   \n",
       "30   * 9235 - 2. Mecanismos y capacidades fortaleci...              3   \n",
       "32   * 9233 - 1. Productos de conocimiento y espaci...              1   \n",
       "33   * 8575 - 2. Alianzas estratégicas identificada...              3   \n",
       "34   * 8577 - 1. Plataformas virtuales – Hub digita...              1   \n",
       "39   * 8455 - M3. Países con capacidades fortalecid...              5   \n",
       "42   * 8477 - M2. Los países de la Región cuentan c...              5   \n",
       "44   * 8467 - Se fortalecen los marcos regulatorio,...              3   \n",
       "47   * 8501 - Generación de evidencia sobre el esta...              7   \n",
       "48   * 8503 - Un (1) dialogo político intersectoria...              7   \n",
       "50   * 8524 - Apoyo tecnico al desarrollo de plataf...              3   \n",
       "57   * 7831 - Fortalecidas las acciones anticipator...              4   \n",
       "59   * 7837 -  Herramientas tecnológicas  desarroll...              5   \n",
       "63   * 8117 - Pilots have been established in selec...              5   \n",
       "68   * 8265 - Acompañamiento técnico brindado a las...              4   \n",
       "69   * 6757 - El Ministerio de Ambiente y el de Gan...              3   \n",
       "70   * 6758 - El MGAP cuenta con un documento técni...              2   \n",
       "71         * 7793 - Not Applicable, due: 2025-Dec-31\\n              1   \n",
       "74   * 7742 - Development of a Project-wide MSP Pro...              5   \n",
       "75   * 7783 - The National Food and Nutrition Polic...              1   \n",
       "78   * 7896 - *Technical manuals/guidelines develop...              5   \n",
       "83   * 7146 - *Due to political changes, this line ...              1   \n",
       "85   * 6788 -  Completion of a comprehensive report...              4   \n",
       "87   * 7977 - *Technical manuals/guidelines and bus...              1   \n",
       "88   * 7964 - *A Ministry of Agriculture Drone and ...              2   \n",
       "90   * 7978 - *A financing mechanism is designed to...              1   \n",
       "91   * 8027 - Farmers have improved production capa...              4   \n",
       "95   * 7486 - 1000 small scale farmers increase hor...              4   \n",
       "104  * 8587 - 14 planes de fortalecimiento de capac...              5   \n",
       "106  * 7768 - La Secretaría de Agricultura y Ganade...              2   \n",
       "107  * 7763 - Al menos, 1 (un) Mecanimos de inclusi...              1   \n",
       "109  * 7387 - El Gobierno de México, a través de lo...              3   \n",
       "\n",
       "                                   Regional Initiative  ...  \\\n",
       "2    RIL4 - Reduction of inequalities, poverty and ...  ...   \n",
       "4    RIL3 - Sustainable management of natural resou...  ...   \n",
       "5    RIL4 - Reduction of inequalities, poverty and ...  ...   \n",
       "9    RIL2 - End hunger and achieve food security an...  ...   \n",
       "10   RIL2 - End hunger and achieve food security an...  ...   \n",
       "12   RIL4 - Reduction of inequalities, poverty and ...  ...   \n",
       "18   RIL2 - End hunger and achieve food security an...  ...   \n",
       "21   RIL4 - Reduction of inequalities, poverty and ...  ...   \n",
       "23   RIL3 - Sustainable management of natural resou...  ...   \n",
       "30   RIL1 - Efficient, inclusive and sustainable pr...  ...   \n",
       "32   RIL1 - Efficient, inclusive and sustainable pr...  ...   \n",
       "33   RIL1 - Efficient, inclusive and sustainable pr...  ...   \n",
       "34   RIL1 - Efficient, inclusive and sustainable pr...  ...   \n",
       "39   RIL2 - End hunger and achieve food security an...  ...   \n",
       "42   RIL2 - End hunger and achieve food security an...  ...   \n",
       "44   RIL3 - Sustainable management of natural resou...  ...   \n",
       "47   RIL3 - Sustainable management of natural resou...  ...   \n",
       "48   RIL3 - Sustainable management of natural resou...  ...   \n",
       "50   RIL3 - Sustainable management of natural resou...  ...   \n",
       "57   RIL4 - Reduction of inequalities, poverty and ...  ...   \n",
       "59   RIL4 - Reduction of inequalities, poverty and ...  ...   \n",
       "63   RIL1 - Efficient, inclusive and sustainable pr...  ...   \n",
       "68   RIL4 - Reduction of inequalities, poverty and ...  ...   \n",
       "69   RIL3 - Sustainable management of natural resou...  ...   \n",
       "70   RIL3 - Sustainable management of natural resou...  ...   \n",
       "71   RIL2 - End hunger and achieve food security an...  ...   \n",
       "74   RIL1 - Efficient, inclusive and sustainable pr...  ...   \n",
       "75   RIL2 - End hunger and achieve food security an...  ...   \n",
       "78   RIL1 - Efficient, inclusive and sustainable pr...  ...   \n",
       "83   RIL2 - End hunger and achieve food security an...  ...   \n",
       "85   RIL2 - End hunger and achieve food security an...  ...   \n",
       "87   RIL1 - Efficient, inclusive and sustainable pr...  ...   \n",
       "88   RIL4 - Reduction of inequalities, poverty and ...  ...   \n",
       "90   RIL4 - Reduction of inequalities, poverty and ...  ...   \n",
       "91   RIL1 - Efficient, inclusive and sustainable pr...  ...   \n",
       "95   RIL2 - End hunger and achieve food security an...  ...   \n",
       "104  RIL4 - Reduction of inequalities, poverty and ...  ...   \n",
       "106  RIL1 - Efficient, inclusive and sustainable pr...  ...   \n",
       "107  RIL4 - Reduction of inequalities, poverty and ...  ...   \n",
       "109  RIL4 - Reduction of inequalities, poverty and ...  ...   \n",
       "\n",
       "    openai_embedding_large_3063  openai_embedding_large_3064  \\\n",
       "2                     -0.010747                     0.009892   \n",
       "4                     -0.004566                     0.018123   \n",
       "5                     -0.004263                     0.029554   \n",
       "9                     -0.013599                     0.011181   \n",
       "10                     0.002331                     0.002435   \n",
       "12                     0.001822                     0.006952   \n",
       "18                    -0.015400                    -0.001830   \n",
       "21                    -0.023667                     0.012856   \n",
       "23                    -0.004315                     0.004675   \n",
       "30                    -0.005652                    -0.001714   \n",
       "32                     0.002645                     0.018566   \n",
       "33                    -0.001114                     0.012325   \n",
       "34                    -0.011097                    -0.011506   \n",
       "39                    -0.011344                    -0.006044   \n",
       "42                    -0.001432                     0.007683   \n",
       "44                     0.000470                     0.003012   \n",
       "47                     0.003765                    -0.016520   \n",
       "48                    -0.000588                    -0.017126   \n",
       "50                    -0.004790                    -0.001961   \n",
       "57                    -0.005478                     0.002412   \n",
       "59                    -0.008711                    -0.006318   \n",
       "63                    -0.012538                    -0.006825   \n",
       "68                    -0.012947                    -0.003643   \n",
       "69                    -0.008754                     0.016041   \n",
       "70                     0.006085                     0.008403   \n",
       "71                    -0.013840                     0.013700   \n",
       "74                    -0.012378                    -0.022406   \n",
       "75                    -0.008252                     0.006907   \n",
       "78                    -0.011623                     0.016701   \n",
       "83                    -0.008922                     0.001015   \n",
       "85                    -0.008330                     0.027967   \n",
       "87                    -0.013773                     0.022252   \n",
       "88                    -0.024696                     0.019133   \n",
       "90                    -0.010739                     0.011659   \n",
       "91                    -0.010397                     0.018430   \n",
       "95                    -0.020671                    -0.006829   \n",
       "104                    0.003694                     0.011392   \n",
       "106                   -0.006389                     0.008428   \n",
       "107                   -0.002871                     0.001546   \n",
       "109                    0.012645                     0.005848   \n",
       "\n",
       "     openai_embedding_large_3065  openai_embedding_large_3066  \\\n",
       "2                       0.006297                     0.023807   \n",
       "4                       0.001161                     0.001170   \n",
       "5                      -0.012861                     0.008776   \n",
       "9                      -0.002505                     0.020242   \n",
       "10                     -0.010715                    -0.010697   \n",
       "12                      0.006287                     0.019884   \n",
       "18                     -0.015412                     0.020928   \n",
       "21                     -0.007506                     0.002067   \n",
       "23                      0.008035                     0.012679   \n",
       "30                      0.019148                    -0.012910   \n",
       "32                      0.017562                     0.025014   \n",
       "33                     -0.004918                     0.011461   \n",
       "34                     -0.009304                    -0.021255   \n",
       "39                      0.012545                     0.004763   \n",
       "42                     -0.016752                     0.008657   \n",
       "44                      0.013148                    -0.006967   \n",
       "47                     -0.018001                    -0.008260   \n",
       "48                      0.008354                    -0.002370   \n",
       "50                     -0.005025                    -0.007351   \n",
       "57                      0.002971                     0.016603   \n",
       "59                      0.009533                     0.009450   \n",
       "63                     -0.020850                    -0.023047   \n",
       "68                     -0.006606                     0.017351   \n",
       "69                     -0.003431                    -0.001158   \n",
       "70                     -0.006605                     0.009967   \n",
       "71                     -0.009942                    -0.024929   \n",
       "74                     -0.000149                    -0.017973   \n",
       "75                     -0.009868                     0.001949   \n",
       "78                     -0.011704                    -0.002182   \n",
       "83                     -0.017305                    -0.002220   \n",
       "85                     -0.012598                     0.007386   \n",
       "87                     -0.017002                    -0.005537   \n",
       "88                     -0.006219                    -0.000833   \n",
       "90                      0.014155                    -0.003473   \n",
       "91                     -0.014476                    -0.002333   \n",
       "95                     -0.015774                     0.027243   \n",
       "104                    -0.002029                     0.021832   \n",
       "106                    -0.009489                     0.005832   \n",
       "107                     0.008204                     0.012432   \n",
       "109                    -0.003872                     0.031002   \n",
       "\n",
       "    openai_embedding_large_3067 openai_embedding_large_3068  \\\n",
       "2                      0.035536                   -0.006297   \n",
       "4                     -0.007138                    0.000892   \n",
       "5                     -0.004193                   -0.015663   \n",
       "9                      0.007383                   -0.011058   \n",
       "10                     0.023726                   -0.009433   \n",
       "12                     0.035530                   -0.021368   \n",
       "18                     0.016962                   -0.012233   \n",
       "21                     0.035784                   -0.013607   \n",
       "23                     0.026184                   -0.012216   \n",
       "30                     0.024926                   -0.001992   \n",
       "32                     0.019246                   -0.016212   \n",
       "33                     0.031334                   -0.015667   \n",
       "34                     0.047927                   -0.023819   \n",
       "39                     0.020051                   -0.015969   \n",
       "42                     0.019960                   -0.022367   \n",
       "44                     0.032514                   -0.011436   \n",
       "47                     0.032657                   -0.017404   \n",
       "48                     0.030396                   -0.008648   \n",
       "50                     0.007889                   -0.016781   \n",
       "57                     0.005546                   -0.018729   \n",
       "59                     0.026117                   -0.006646   \n",
       "63                     0.013951                   -0.002606   \n",
       "68                     0.039658                   -0.020371   \n",
       "69                     0.010682                   -0.013158   \n",
       "70                     0.024177                   -0.022531   \n",
       "71                    -0.027444                   -0.008677   \n",
       "74                    -0.006375                   -0.002620   \n",
       "75                    -0.019378                   -0.000932   \n",
       "78                     0.014697                   -0.006906   \n",
       "83                    -0.009737                   -0.011665   \n",
       "85                     0.004172                   -0.001041   \n",
       "87                     0.009185                   -0.007383   \n",
       "88                    -0.007589                   -0.009141   \n",
       "90                     0.014976                   -0.012003   \n",
       "91                     0.014831                   -0.007378   \n",
       "95                     0.003640                   -0.007363   \n",
       "104                    0.014212                   -0.018398   \n",
       "106                    0.020510                   -0.001247   \n",
       "107                    0.033969                   -0.033152   \n",
       "109                    0.032963                   -0.020499   \n",
       "\n",
       "    openai_embedding_large_3069  openai_embedding_large_3070  \\\n",
       "2                     -0.002354                    -0.009563   \n",
       "4                     -0.003194                    -0.012811   \n",
       "5                      0.001935                    -0.015293   \n",
       "9                      0.002805                    -0.031058   \n",
       "10                     0.009703                    -0.027028   \n",
       "12                    -0.010595                    -0.027572   \n",
       "18                    -0.017242                    -0.012123   \n",
       "21                     0.007487                    -0.018098   \n",
       "23                    -0.010245                    -0.007942   \n",
       "30                    -0.029233                    -0.016464   \n",
       "32                    -0.016784                    -0.019668   \n",
       "33                    -0.006804                    -0.023941   \n",
       "34                    -0.002753                    -0.006854   \n",
       "39                    -0.010153                    -0.006193   \n",
       "42                     0.016603                    -0.008622   \n",
       "44                    -0.019733                    -0.015656   \n",
       "47                    -0.009815                    -0.006705   \n",
       "48                    -0.013902                    -0.014680   \n",
       "50                    -0.007783                    -0.010450   \n",
       "57                     0.007680                    -0.012363   \n",
       "59                    -0.003850                    -0.011582   \n",
       "63                    -0.017800                    -0.016288   \n",
       "68                    -0.021129                    -0.008747   \n",
       "69                    -0.019057                    -0.003395   \n",
       "70                    -0.039565                     0.005439   \n",
       "71                     0.007841                    -0.003344   \n",
       "74                    -0.018240                    -0.009522   \n",
       "75                    -0.008860                    -0.010554   \n",
       "78                    -0.007754                    -0.001821   \n",
       "83                     0.002420                    -0.003096   \n",
       "85                    -0.006413                     0.001168   \n",
       "87                    -0.009332                     0.003758   \n",
       "88                    -0.004893                     0.008069   \n",
       "90                     0.009216                    -0.018525   \n",
       "91                    -0.012407                    -0.000459   \n",
       "95                    -0.004987                    -0.015167   \n",
       "104                   -0.004173                    -0.014625   \n",
       "106                   -0.008811                    -0.009418   \n",
       "107                   -0.001667                    -0.012126   \n",
       "109                   -0.004520                    -0.021866   \n",
       "\n",
       "    openai_embedding_large_3071 test_set  \n",
       "2                     -0.025166     True  \n",
       "4                     -0.012867     True  \n",
       "5                     -0.021769     True  \n",
       "9                     -0.046856     True  \n",
       "10                    -0.022597     True  \n",
       "12                    -0.018554     True  \n",
       "18                    -0.029067     True  \n",
       "21                    -0.008407     True  \n",
       "23                    -0.011102     True  \n",
       "30                    -0.032081     True  \n",
       "32                    -0.010660     True  \n",
       "33                    -0.008217     True  \n",
       "34                    -0.016056     True  \n",
       "39                    -0.026877     True  \n",
       "42                    -0.009046     True  \n",
       "44                    -0.004541     True  \n",
       "47                    -0.013421     True  \n",
       "48                    -0.004127     True  \n",
       "50                    -0.007050     True  \n",
       "57                    -0.016276     True  \n",
       "59                    -0.012004     True  \n",
       "63                     0.010068     True  \n",
       "68                    -0.030586     True  \n",
       "69                     0.002884     True  \n",
       "70                    -0.003340     True  \n",
       "71                    -0.015964     True  \n",
       "74                    -0.018389     True  \n",
       "75                    -0.016332     True  \n",
       "78                    -0.011210     True  \n",
       "83                    -0.004814     True  \n",
       "85                    -0.025277     True  \n",
       "87                    -0.011575     True  \n",
       "88                    -0.003856     True  \n",
       "90                    -0.004482     True  \n",
       "91                    -0.015082     True  \n",
       "95                    -0.005998     True  \n",
       "104                   -0.017182     True  \n",
       "106                   -0.044274     True  \n",
       "107                   -0.011483     True  \n",
       "109                   -0.030954     True  \n",
       "\n",
       "[40 rows x 4672 columns]"
      ]
     },
     "execution_count": 77,
     "metadata": {},
     "output_type": "execute_result"
    }
   ],
   "source": [
    "client = OpenAI()\n",
    "\n",
    "def get_embedding(text: str, model=\"text-embedding-3-small\"):\n",
    "   return client.embeddings.create(input = [text], model=model).data[0].embedding"
   ]
  },
  {
   "cell_type": "code",
   "execution_count": 54,
   "metadata": {},
   "outputs": [
    {
     "data": {
      "application/vnd.plotly.v1+json": {
       "config": {
        "plotlyServerURL": "https://plot.ly"
       },
       "data": [
        {
         "coloraxis": "coloraxis",
         "hovertemplate": "x: %{x}<br>y: %{y}<br>color: %{z}<extra></extra>",
         "name": "0",
         "type": "heatmap",
         "x": [
          "BE.1",
          "BE.2",
          "BE.3",
          "BE.4",
          "BL.1",
          "BL.2",
          "BL.3",
          "BL.4",
          "BL.5",
          "BL.6",
          "BN.1",
          "BN.2",
          "BN.3",
          "BN.4",
          "BN.5",
          "BP.1",
          "BP.2",
          "BP.3",
          "BP.4",
          "BP.5"
         ],
         "xaxis": "x",
         "y": [
          "BE.1",
          "BE.2",
          "BE.3",
          "BE.4",
          "BL.1",
          "BL.2",
          "BL.3",
          "BL.4",
          "BL.5",
          "BL.6",
          "BN.1",
          "BN.2",
          "BN.3",
          "BN.4",
          "BN.5",
          "BP.1",
          "BP.2",
          "BP.3",
          "BP.4",
          "BP.5"
         ],
         "yaxis": "y",
         "z": [
          [
           2,
           0,
           0,
           0,
           0,
           0,
           0,
           0,
           0,
           0,
           0,
           0,
           0,
           0,
           0,
           0,
           0,
           0,
           0,
           0
          ],
          [
           1,
           0,
           0,
           0,
           0,
           0,
           0,
           0,
           0,
           0,
           0,
           0,
           0,
           0,
           0,
           1,
           0,
           0,
           0,
           0
          ],
          [
           0,
           0,
           1,
           0,
           0,
           0,
           0,
           0,
           0,
           0,
           0,
           0,
           0,
           0,
           0,
           1,
           0,
           0,
           0,
           0
          ],
          [
           0,
           0,
           0,
           0,
           1,
           0,
           0,
           0,
           0,
           0,
           1,
           0,
           0,
           0,
           0,
           0,
           0,
           0,
           0,
           0
          ],
          [
           0,
           0,
           0,
           0,
           2,
           0,
           0,
           0,
           0,
           0,
           0,
           0,
           0,
           0,
           0,
           0,
           0,
           0,
           0,
           0
          ],
          [
           0,
           0,
           0,
           0,
           0,
           0,
           0,
           0,
           0,
           0,
           0,
           1,
           0,
           0,
           0,
           0,
           0,
           0,
           0,
           1
          ],
          [
           1,
           0,
           0,
           0,
           0,
           0,
           1,
           0,
           0,
           0,
           0,
           0,
           0,
           0,
           0,
           0,
           0,
           0,
           0,
           0
          ],
          [
           0,
           0,
           0,
           0,
           0,
           0,
           1,
           0,
           1,
           0,
           0,
           0,
           0,
           0,
           0,
           0,
           0,
           0,
           0,
           0
          ],
          [
           0,
           0,
           0,
           0,
           0,
           0,
           0,
           0,
           2,
           0,
           0,
           0,
           0,
           0,
           0,
           0,
           0,
           0,
           0,
           0
          ],
          [
           0,
           0,
           0,
           0,
           0,
           0,
           0,
           0,
           0,
           2,
           0,
           0,
           0,
           0,
           0,
           0,
           0,
           0,
           0,
           0
          ],
          [
           0,
           0,
           0,
           0,
           0,
           0,
           0,
           0,
           0,
           0,
           0,
           2,
           0,
           0,
           0,
           0,
           0,
           0,
           0,
           0
          ],
          [
           0,
           0,
           0,
           0,
           0,
           0,
           0,
           0,
           0,
           0,
           0,
           2,
           0,
           0,
           0,
           0,
           0,
           0,
           0,
           0
          ],
          [
           0,
           0,
           0,
           0,
           0,
           0,
           0,
           0,
           0,
           0,
           0,
           0,
           0,
           0,
           0,
           0,
           0,
           1,
           0,
           1
          ],
          [
           1,
           0,
           0,
           0,
           0,
           0,
           0,
           0,
           0,
           0,
           1,
           0,
           0,
           0,
           0,
           0,
           0,
           0,
           0,
           0
          ],
          [
           0,
           0,
           0,
           0,
           0,
           0,
           0,
           0,
           0,
           1,
           0,
           0,
           0,
           0,
           1,
           0,
           0,
           0,
           0,
           0
          ],
          [
           0,
           0,
           0,
           0,
           0,
           0,
           0,
           0,
           0,
           0,
           0,
           0,
           0,
           0,
           0,
           0,
           0,
           0,
           0,
           2
          ],
          [
           1,
           0,
           0,
           0,
           0,
           0,
           0,
           0,
           0,
           0,
           0,
           0,
           0,
           0,
           0,
           0,
           1,
           0,
           0,
           0
          ],
          [
           0,
           0,
           0,
           0,
           0,
           0,
           1,
           0,
           0,
           0,
           0,
           0,
           0,
           0,
           0,
           0,
           0,
           1,
           0,
           0
          ],
          [
           0,
           0,
           0,
           0,
           0,
           0,
           0,
           0,
           0,
           0,
           0,
           0,
           0,
           0,
           0,
           0,
           0,
           0,
           1,
           1
          ],
          [
           0,
           0,
           0,
           0,
           0,
           0,
           0,
           0,
           0,
           1,
           0,
           0,
           0,
           0,
           0,
           0,
           0,
           0,
           0,
           1
          ]
         ]
        }
       ],
       "layout": {
        "coloraxis": {
         "colorscale": [
          [
           0,
           "#0d0887"
          ],
          [
           0.1111111111111111,
           "#46039f"
          ],
          [
           0.2222222222222222,
           "#7201a8"
          ],
          [
           0.3333333333333333,
           "#9c179e"
          ],
          [
           0.4444444444444444,
           "#bd3786"
          ],
          [
           0.5555555555555556,
           "#d8576b"
          ],
          [
           0.6666666666666666,
           "#ed7953"
          ],
          [
           0.7777777777777778,
           "#fb9f3a"
          ],
          [
           0.8888888888888888,
           "#fdca26"
          ],
          [
           1,
           "#f0f921"
          ]
         ]
        },
        "margin": {
         "t": 60
        },
        "template": {
         "data": {
          "bar": [
           {
            "error_x": {
             "color": "#2a3f5f"
            },
            "error_y": {
             "color": "#2a3f5f"
            },
            "marker": {
             "line": {
              "color": "#E5ECF6",
              "width": 0.5
             },
             "pattern": {
              "fillmode": "overlay",
              "size": 10,
              "solidity": 0.2
             }
            },
            "type": "bar"
           }
          ],
          "barpolar": [
           {
            "marker": {
             "line": {
              "color": "#E5ECF6",
              "width": 0.5
             },
             "pattern": {
              "fillmode": "overlay",
              "size": 10,
              "solidity": 0.2
             }
            },
            "type": "barpolar"
           }
          ],
          "carpet": [
           {
            "aaxis": {
             "endlinecolor": "#2a3f5f",
             "gridcolor": "white",
             "linecolor": "white",
             "minorgridcolor": "white",
             "startlinecolor": "#2a3f5f"
            },
            "baxis": {
             "endlinecolor": "#2a3f5f",
             "gridcolor": "white",
             "linecolor": "white",
             "minorgridcolor": "white",
             "startlinecolor": "#2a3f5f"
            },
            "type": "carpet"
           }
          ],
          "choropleth": [
           {
            "colorbar": {
             "outlinewidth": 0,
             "ticks": ""
            },
            "type": "choropleth"
           }
          ],
          "contour": [
           {
            "colorbar": {
             "outlinewidth": 0,
             "ticks": ""
            },
            "colorscale": [
             [
              0,
              "#0d0887"
             ],
             [
              0.1111111111111111,
              "#46039f"
             ],
             [
              0.2222222222222222,
              "#7201a8"
             ],
             [
              0.3333333333333333,
              "#9c179e"
             ],
             [
              0.4444444444444444,
              "#bd3786"
             ],
             [
              0.5555555555555556,
              "#d8576b"
             ],
             [
              0.6666666666666666,
              "#ed7953"
             ],
             [
              0.7777777777777778,
              "#fb9f3a"
             ],
             [
              0.8888888888888888,
              "#fdca26"
             ],
             [
              1,
              "#f0f921"
             ]
            ],
            "type": "contour"
           }
          ],
          "contourcarpet": [
           {
            "colorbar": {
             "outlinewidth": 0,
             "ticks": ""
            },
            "type": "contourcarpet"
           }
          ],
          "heatmap": [
           {
            "colorbar": {
             "outlinewidth": 0,
             "ticks": ""
            },
            "colorscale": [
             [
              0,
              "#0d0887"
             ],
             [
              0.1111111111111111,
              "#46039f"
             ],
             [
              0.2222222222222222,
              "#7201a8"
             ],
             [
              0.3333333333333333,
              "#9c179e"
             ],
             [
              0.4444444444444444,
              "#bd3786"
             ],
             [
              0.5555555555555556,
              "#d8576b"
             ],
             [
              0.6666666666666666,
              "#ed7953"
             ],
             [
              0.7777777777777778,
              "#fb9f3a"
             ],
             [
              0.8888888888888888,
              "#fdca26"
             ],
             [
              1,
              "#f0f921"
             ]
            ],
            "type": "heatmap"
           }
          ],
          "heatmapgl": [
           {
            "colorbar": {
             "outlinewidth": 0,
             "ticks": ""
            },
            "colorscale": [
             [
              0,
              "#0d0887"
             ],
             [
              0.1111111111111111,
              "#46039f"
             ],
             [
              0.2222222222222222,
              "#7201a8"
             ],
             [
              0.3333333333333333,
              "#9c179e"
             ],
             [
              0.4444444444444444,
              "#bd3786"
             ],
             [
              0.5555555555555556,
              "#d8576b"
             ],
             [
              0.6666666666666666,
              "#ed7953"
             ],
             [
              0.7777777777777778,
              "#fb9f3a"
             ],
             [
              0.8888888888888888,
              "#fdca26"
             ],
             [
              1,
              "#f0f921"
             ]
            ],
            "type": "heatmapgl"
           }
          ],
          "histogram": [
           {
            "marker": {
             "pattern": {
              "fillmode": "overlay",
              "size": 10,
              "solidity": 0.2
             }
            },
            "type": "histogram"
           }
          ],
          "histogram2d": [
           {
            "colorbar": {
             "outlinewidth": 0,
             "ticks": ""
            },
            "colorscale": [
             [
              0,
              "#0d0887"
             ],
             [
              0.1111111111111111,
              "#46039f"
             ],
             [
              0.2222222222222222,
              "#7201a8"
             ],
             [
              0.3333333333333333,
              "#9c179e"
             ],
             [
              0.4444444444444444,
              "#bd3786"
             ],
             [
              0.5555555555555556,
              "#d8576b"
             ],
             [
              0.6666666666666666,
              "#ed7953"
             ],
             [
              0.7777777777777778,
              "#fb9f3a"
             ],
             [
              0.8888888888888888,
              "#fdca26"
             ],
             [
              1,
              "#f0f921"
             ]
            ],
            "type": "histogram2d"
           }
          ],
          "histogram2dcontour": [
           {
            "colorbar": {
             "outlinewidth": 0,
             "ticks": ""
            },
            "colorscale": [
             [
              0,
              "#0d0887"
             ],
             [
              0.1111111111111111,
              "#46039f"
             ],
             [
              0.2222222222222222,
              "#7201a8"
             ],
             [
              0.3333333333333333,
              "#9c179e"
             ],
             [
              0.4444444444444444,
              "#bd3786"
             ],
             [
              0.5555555555555556,
              "#d8576b"
             ],
             [
              0.6666666666666666,
              "#ed7953"
             ],
             [
              0.7777777777777778,
              "#fb9f3a"
             ],
             [
              0.8888888888888888,
              "#fdca26"
             ],
             [
              1,
              "#f0f921"
             ]
            ],
            "type": "histogram2dcontour"
           }
          ],
          "mesh3d": [
           {
            "colorbar": {
             "outlinewidth": 0,
             "ticks": ""
            },
            "type": "mesh3d"
           }
          ],
          "parcoords": [
           {
            "line": {
             "colorbar": {
              "outlinewidth": 0,
              "ticks": ""
             }
            },
            "type": "parcoords"
           }
          ],
          "pie": [
           {
            "automargin": true,
            "type": "pie"
           }
          ],
          "scatter": [
           {
            "fillpattern": {
             "fillmode": "overlay",
             "size": 10,
             "solidity": 0.2
            },
            "type": "scatter"
           }
          ],
          "scatter3d": [
           {
            "line": {
             "colorbar": {
              "outlinewidth": 0,
              "ticks": ""
             }
            },
            "marker": {
             "colorbar": {
              "outlinewidth": 0,
              "ticks": ""
             }
            },
            "type": "scatter3d"
           }
          ],
          "scattercarpet": [
           {
            "marker": {
             "colorbar": {
              "outlinewidth": 0,
              "ticks": ""
             }
            },
            "type": "scattercarpet"
           }
          ],
          "scattergeo": [
           {
            "marker": {
             "colorbar": {
              "outlinewidth": 0,
              "ticks": ""
             }
            },
            "type": "scattergeo"
           }
          ],
          "scattergl": [
           {
            "marker": {
             "colorbar": {
              "outlinewidth": 0,
              "ticks": ""
             }
            },
            "type": "scattergl"
           }
          ],
          "scattermapbox": [
           {
            "marker": {
             "colorbar": {
              "outlinewidth": 0,
              "ticks": ""
             }
            },
            "type": "scattermapbox"
           }
          ],
          "scatterpolar": [
           {
            "marker": {
             "colorbar": {
              "outlinewidth": 0,
              "ticks": ""
             }
            },
            "type": "scatterpolar"
           }
          ],
          "scatterpolargl": [
           {
            "marker": {
             "colorbar": {
              "outlinewidth": 0,
              "ticks": ""
             }
            },
            "type": "scatterpolargl"
           }
          ],
          "scatterternary": [
           {
            "marker": {
             "colorbar": {
              "outlinewidth": 0,
              "ticks": ""
             }
            },
            "type": "scatterternary"
           }
          ],
          "surface": [
           {
            "colorbar": {
             "outlinewidth": 0,
             "ticks": ""
            },
            "colorscale": [
             [
              0,
              "#0d0887"
             ],
             [
              0.1111111111111111,
              "#46039f"
             ],
             [
              0.2222222222222222,
              "#7201a8"
             ],
             [
              0.3333333333333333,
              "#9c179e"
             ],
             [
              0.4444444444444444,
              "#bd3786"
             ],
             [
              0.5555555555555556,
              "#d8576b"
             ],
             [
              0.6666666666666666,
              "#ed7953"
             ],
             [
              0.7777777777777778,
              "#fb9f3a"
             ],
             [
              0.8888888888888888,
              "#fdca26"
             ],
             [
              1,
              "#f0f921"
             ]
            ],
            "type": "surface"
           }
          ],
          "table": [
           {
            "cells": {
             "fill": {
              "color": "#EBF0F8"
             },
             "line": {
              "color": "white"
             }
            },
            "header": {
             "fill": {
              "color": "#C8D4E3"
             },
             "line": {
              "color": "white"
             }
            },
            "type": "table"
           }
          ]
         },
         "layout": {
          "annotationdefaults": {
           "arrowcolor": "#2a3f5f",
           "arrowhead": 0,
           "arrowwidth": 1
          },
          "autotypenumbers": "strict",
          "coloraxis": {
           "colorbar": {
            "outlinewidth": 0,
            "ticks": ""
           }
          },
          "colorscale": {
           "diverging": [
            [
             0,
             "#8e0152"
            ],
            [
             0.1,
             "#c51b7d"
            ],
            [
             0.2,
             "#de77ae"
            ],
            [
             0.3,
             "#f1b6da"
            ],
            [
             0.4,
             "#fde0ef"
            ],
            [
             0.5,
             "#f7f7f7"
            ],
            [
             0.6,
             "#e6f5d0"
            ],
            [
             0.7,
             "#b8e186"
            ],
            [
             0.8,
             "#7fbc41"
            ],
            [
             0.9,
             "#4d9221"
            ],
            [
             1,
             "#276419"
            ]
           ],
           "sequential": [
            [
             0,
             "#0d0887"
            ],
            [
             0.1111111111111111,
             "#46039f"
            ],
            [
             0.2222222222222222,
             "#7201a8"
            ],
            [
             0.3333333333333333,
             "#9c179e"
            ],
            [
             0.4444444444444444,
             "#bd3786"
            ],
            [
             0.5555555555555556,
             "#d8576b"
            ],
            [
             0.6666666666666666,
             "#ed7953"
            ],
            [
             0.7777777777777778,
             "#fb9f3a"
            ],
            [
             0.8888888888888888,
             "#fdca26"
            ],
            [
             1,
             "#f0f921"
            ]
           ],
           "sequentialminus": [
            [
             0,
             "#0d0887"
            ],
            [
             0.1111111111111111,
             "#46039f"
            ],
            [
             0.2222222222222222,
             "#7201a8"
            ],
            [
             0.3333333333333333,
             "#9c179e"
            ],
            [
             0.4444444444444444,
             "#bd3786"
            ],
            [
             0.5555555555555556,
             "#d8576b"
            ],
            [
             0.6666666666666666,
             "#ed7953"
            ],
            [
             0.7777777777777778,
             "#fb9f3a"
            ],
            [
             0.8888888888888888,
             "#fdca26"
            ],
            [
             1,
             "#f0f921"
            ]
           ]
          },
          "colorway": [
           "#636efa",
           "#EF553B",
           "#00cc96",
           "#ab63fa",
           "#FFA15A",
           "#19d3f3",
           "#FF6692",
           "#B6E880",
           "#FF97FF",
           "#FECB52"
          ],
          "font": {
           "color": "#2a3f5f"
          },
          "geo": {
           "bgcolor": "white",
           "lakecolor": "white",
           "landcolor": "#E5ECF6",
           "showlakes": true,
           "showland": true,
           "subunitcolor": "white"
          },
          "hoverlabel": {
           "align": "left"
          },
          "hovermode": "closest",
          "mapbox": {
           "style": "light"
          },
          "paper_bgcolor": "white",
          "plot_bgcolor": "#E5ECF6",
          "polar": {
           "angularaxis": {
            "gridcolor": "white",
            "linecolor": "white",
            "ticks": ""
           },
           "bgcolor": "#E5ECF6",
           "radialaxis": {
            "gridcolor": "white",
            "linecolor": "white",
            "ticks": ""
           }
          },
          "scene": {
           "xaxis": {
            "backgroundcolor": "#E5ECF6",
            "gridcolor": "white",
            "gridwidth": 2,
            "linecolor": "white",
            "showbackground": true,
            "ticks": "",
            "zerolinecolor": "white"
           },
           "yaxis": {
            "backgroundcolor": "#E5ECF6",
            "gridcolor": "white",
            "gridwidth": 2,
            "linecolor": "white",
            "showbackground": true,
            "ticks": "",
            "zerolinecolor": "white"
           },
           "zaxis": {
            "backgroundcolor": "#E5ECF6",
            "gridcolor": "white",
            "gridwidth": 2,
            "linecolor": "white",
            "showbackground": true,
            "ticks": "",
            "zerolinecolor": "white"
           }
          },
          "shapedefaults": {
           "line": {
            "color": "#2a3f5f"
           }
          },
          "ternary": {
           "aaxis": {
            "gridcolor": "white",
            "linecolor": "white",
            "ticks": ""
           },
           "baxis": {
            "gridcolor": "white",
            "linecolor": "white",
            "ticks": ""
           },
           "bgcolor": "#E5ECF6",
           "caxis": {
            "gridcolor": "white",
            "linecolor": "white",
            "ticks": ""
           }
          },
          "title": {
           "x": 0.05
          },
          "xaxis": {
           "automargin": true,
           "gridcolor": "white",
           "linecolor": "white",
           "ticks": "",
           "title": {
            "standoff": 15
           },
           "zerolinecolor": "white",
           "zerolinewidth": 2
          },
          "yaxis": {
           "automargin": true,
           "gridcolor": "white",
           "linecolor": "white",
           "ticks": "",
           "title": {
            "standoff": 15
           },
           "zerolinecolor": "white",
           "zerolinewidth": 2
          }
         }
        },
        "xaxis": {
         "anchor": "y",
         "constrain": "domain",
         "domain": [
          0,
          1
         ],
         "scaleanchor": "y"
        },
        "yaxis": {
         "anchor": "x",
         "autorange": "reversed",
         "constrain": "domain",
         "domain": [
          0,
          1
         ]
        }
       }
      }
     },
     "metadata": {},
     "output_type": "display_data"
    }
   ],
   "source": []
  },
  {
   "cell_type": "code",
   "execution_count": 57,
   "metadata": {},
   "outputs": [
    {
     "name": "stderr",
     "output_type": "stream",
     "text": [
      "/Users/jm/Code/fao-ppa-classifier/.conda/lib/python3.11/site-packages/sklearn/metrics/_classification.py:1509: UndefinedMetricWarning:\n",
      "\n",
      "Precision is ill-defined and being set to 0.0 in labels with no predicted samples. Use `zero_division` parameter to control this behavior.\n",
      "\n"
     ]
    },
    {
     "data": {
      "text/plain": [
       "(0.37833333333333335, 0.425)"
      ]
     },
     "execution_count": 57,
     "metadata": {},
     "output_type": "execute_result"
    }
   ],
   "source": [
    "precision_score(y_test, y_pred, average=\"weighted\"), recall_score(y_test, y_pred, average=\"weighted\")"
   ]
  },
  {
   "cell_type": "code",
   "execution_count": 60,
   "metadata": {},
   "outputs": [
    {
     "ename": "ValueError",
     "evalue": "could not convert string to float: 'BE.1'",
     "output_type": "error",
     "traceback": [
      "\u001b[0;31m---------------------------------------------------------------------------\u001b[0m",
      "\u001b[0;31mValueError\u001b[0m                                Traceback (most recent call last)",
      "Cell \u001b[0;32mIn[60], line 1\u001b[0m\n\u001b[0;32m----> 1\u001b[0m \u001b[43mroc_auc_score\u001b[49m\u001b[43m(\u001b[49m\u001b[43my_test\u001b[49m\u001b[43m,\u001b[49m\u001b[43m \u001b[49m\u001b[43my_pred\u001b[49m\u001b[43m)\u001b[49m\n",
      "File \u001b[0;32m~/Code/fao-ppa-classifier/.conda/lib/python3.11/site-packages/sklearn/utils/_param_validation.py:213\u001b[0m, in \u001b[0;36mvalidate_params.<locals>.decorator.<locals>.wrapper\u001b[0;34m(*args, **kwargs)\u001b[0m\n\u001b[1;32m    207\u001b[0m \u001b[38;5;28;01mtry\u001b[39;00m:\n\u001b[1;32m    208\u001b[0m     \u001b[38;5;28;01mwith\u001b[39;00m config_context(\n\u001b[1;32m    209\u001b[0m         skip_parameter_validation\u001b[38;5;241m=\u001b[39m(\n\u001b[1;32m    210\u001b[0m             prefer_skip_nested_validation \u001b[38;5;129;01mor\u001b[39;00m global_skip_validation\n\u001b[1;32m    211\u001b[0m         )\n\u001b[1;32m    212\u001b[0m     ):\n\u001b[0;32m--> 213\u001b[0m         \u001b[38;5;28;01mreturn\u001b[39;00m \u001b[43mfunc\u001b[49m\u001b[43m(\u001b[49m\u001b[38;5;241;43m*\u001b[39;49m\u001b[43margs\u001b[49m\u001b[43m,\u001b[49m\u001b[43m \u001b[49m\u001b[38;5;241;43m*\u001b[39;49m\u001b[38;5;241;43m*\u001b[39;49m\u001b[43mkwargs\u001b[49m\u001b[43m)\u001b[49m\n\u001b[1;32m    214\u001b[0m \u001b[38;5;28;01mexcept\u001b[39;00m InvalidParameterError \u001b[38;5;28;01mas\u001b[39;00m e:\n\u001b[1;32m    215\u001b[0m     \u001b[38;5;66;03m# When the function is just a wrapper around an estimator, we allow\u001b[39;00m\n\u001b[1;32m    216\u001b[0m     \u001b[38;5;66;03m# the function to delegate validation to the estimator, but we replace\u001b[39;00m\n\u001b[1;32m    217\u001b[0m     \u001b[38;5;66;03m# the name of the estimator by the name of the function in the error\u001b[39;00m\n\u001b[1;32m    218\u001b[0m     \u001b[38;5;66;03m# message to avoid confusion.\u001b[39;00m\n\u001b[1;32m    219\u001b[0m     msg \u001b[38;5;241m=\u001b[39m re\u001b[38;5;241m.\u001b[39msub(\n\u001b[1;32m    220\u001b[0m         \u001b[38;5;124mr\u001b[39m\u001b[38;5;124m\"\u001b[39m\u001b[38;5;124mparameter of \u001b[39m\u001b[38;5;124m\\\u001b[39m\u001b[38;5;124mw+ must be\u001b[39m\u001b[38;5;124m\"\u001b[39m,\n\u001b[1;32m    221\u001b[0m         \u001b[38;5;124mf\u001b[39m\u001b[38;5;124m\"\u001b[39m\u001b[38;5;124mparameter of \u001b[39m\u001b[38;5;132;01m{\u001b[39;00mfunc\u001b[38;5;241m.\u001b[39m\u001b[38;5;18m__qualname__\u001b[39m\u001b[38;5;132;01m}\u001b[39;00m\u001b[38;5;124m must be\u001b[39m\u001b[38;5;124m\"\u001b[39m,\n\u001b[1;32m    222\u001b[0m         \u001b[38;5;28mstr\u001b[39m(e),\n\u001b[1;32m    223\u001b[0m     )\n",
      "File \u001b[0;32m~/Code/fao-ppa-classifier/.conda/lib/python3.11/site-packages/sklearn/metrics/_ranking.py:619\u001b[0m, in \u001b[0;36mroc_auc_score\u001b[0;34m(y_true, y_score, average, sample_weight, max_fpr, multi_class, labels)\u001b[0m\n\u001b[1;32m    617\u001b[0m y_type \u001b[38;5;241m=\u001b[39m type_of_target(y_true, input_name\u001b[38;5;241m=\u001b[39m\u001b[38;5;124m\"\u001b[39m\u001b[38;5;124my_true\u001b[39m\u001b[38;5;124m\"\u001b[39m)\n\u001b[1;32m    618\u001b[0m y_true \u001b[38;5;241m=\u001b[39m check_array(y_true, ensure_2d\u001b[38;5;241m=\u001b[39m\u001b[38;5;28;01mFalse\u001b[39;00m, dtype\u001b[38;5;241m=\u001b[39m\u001b[38;5;28;01mNone\u001b[39;00m)\n\u001b[0;32m--> 619\u001b[0m y_score \u001b[38;5;241m=\u001b[39m \u001b[43mcheck_array\u001b[49m\u001b[43m(\u001b[49m\u001b[43my_score\u001b[49m\u001b[43m,\u001b[49m\u001b[43m \u001b[49m\u001b[43mensure_2d\u001b[49m\u001b[38;5;241;43m=\u001b[39;49m\u001b[38;5;28;43;01mFalse\u001b[39;49;00m\u001b[43m)\u001b[49m\n\u001b[1;32m    621\u001b[0m \u001b[38;5;28;01mif\u001b[39;00m y_type \u001b[38;5;241m==\u001b[39m \u001b[38;5;124m\"\u001b[39m\u001b[38;5;124mmulticlass\u001b[39m\u001b[38;5;124m\"\u001b[39m \u001b[38;5;129;01mor\u001b[39;00m (\n\u001b[1;32m    622\u001b[0m     y_type \u001b[38;5;241m==\u001b[39m \u001b[38;5;124m\"\u001b[39m\u001b[38;5;124mbinary\u001b[39m\u001b[38;5;124m\"\u001b[39m \u001b[38;5;129;01mand\u001b[39;00m y_score\u001b[38;5;241m.\u001b[39mndim \u001b[38;5;241m==\u001b[39m \u001b[38;5;241m2\u001b[39m \u001b[38;5;129;01mand\u001b[39;00m y_score\u001b[38;5;241m.\u001b[39mshape[\u001b[38;5;241m1\u001b[39m] \u001b[38;5;241m>\u001b[39m \u001b[38;5;241m2\u001b[39m\n\u001b[1;32m    623\u001b[0m ):\n\u001b[1;32m    624\u001b[0m     \u001b[38;5;66;03m# do not support partial ROC computation for multiclass\u001b[39;00m\n\u001b[1;32m    625\u001b[0m     \u001b[38;5;28;01mif\u001b[39;00m max_fpr \u001b[38;5;129;01mis\u001b[39;00m \u001b[38;5;129;01mnot\u001b[39;00m \u001b[38;5;28;01mNone\u001b[39;00m \u001b[38;5;129;01mand\u001b[39;00m max_fpr \u001b[38;5;241m!=\u001b[39m \u001b[38;5;241m1.0\u001b[39m:\n",
      "File \u001b[0;32m~/Code/fao-ppa-classifier/.conda/lib/python3.11/site-packages/sklearn/utils/validation.py:997\u001b[0m, in \u001b[0;36mcheck_array\u001b[0;34m(array, accept_sparse, accept_large_sparse, dtype, order, copy, force_all_finite, ensure_2d, allow_nd, ensure_min_samples, ensure_min_features, estimator, input_name)\u001b[0m\n\u001b[1;32m    995\u001b[0m         array \u001b[38;5;241m=\u001b[39m xp\u001b[38;5;241m.\u001b[39mastype(array, dtype, copy\u001b[38;5;241m=\u001b[39m\u001b[38;5;28;01mFalse\u001b[39;00m)\n\u001b[1;32m    996\u001b[0m     \u001b[38;5;28;01melse\u001b[39;00m:\n\u001b[0;32m--> 997\u001b[0m         array \u001b[38;5;241m=\u001b[39m \u001b[43m_asarray_with_order\u001b[49m\u001b[43m(\u001b[49m\u001b[43marray\u001b[49m\u001b[43m,\u001b[49m\u001b[43m \u001b[49m\u001b[43morder\u001b[49m\u001b[38;5;241;43m=\u001b[39;49m\u001b[43morder\u001b[49m\u001b[43m,\u001b[49m\u001b[43m \u001b[49m\u001b[43mdtype\u001b[49m\u001b[38;5;241;43m=\u001b[39;49m\u001b[43mdtype\u001b[49m\u001b[43m,\u001b[49m\u001b[43m \u001b[49m\u001b[43mxp\u001b[49m\u001b[38;5;241;43m=\u001b[39;49m\u001b[43mxp\u001b[49m\u001b[43m)\u001b[49m\n\u001b[1;32m    998\u001b[0m \u001b[38;5;28;01mexcept\u001b[39;00m ComplexWarning \u001b[38;5;28;01mas\u001b[39;00m complex_warning:\n\u001b[1;32m    999\u001b[0m     \u001b[38;5;28;01mraise\u001b[39;00m \u001b[38;5;167;01mValueError\u001b[39;00m(\n\u001b[1;32m   1000\u001b[0m         \u001b[38;5;124m\"\u001b[39m\u001b[38;5;124mComplex data not supported\u001b[39m\u001b[38;5;130;01m\\n\u001b[39;00m\u001b[38;5;132;01m{}\u001b[39;00m\u001b[38;5;130;01m\\n\u001b[39;00m\u001b[38;5;124m\"\u001b[39m\u001b[38;5;241m.\u001b[39mformat(array)\n\u001b[1;32m   1001\u001b[0m     ) \u001b[38;5;28;01mfrom\u001b[39;00m \u001b[38;5;21;01mcomplex_warning\u001b[39;00m\n",
      "File \u001b[0;32m~/Code/fao-ppa-classifier/.conda/lib/python3.11/site-packages/sklearn/utils/_array_api.py:521\u001b[0m, in \u001b[0;36m_asarray_with_order\u001b[0;34m(array, dtype, order, copy, xp)\u001b[0m\n\u001b[1;32m    519\u001b[0m     array \u001b[38;5;241m=\u001b[39m numpy\u001b[38;5;241m.\u001b[39marray(array, order\u001b[38;5;241m=\u001b[39morder, dtype\u001b[38;5;241m=\u001b[39mdtype)\n\u001b[1;32m    520\u001b[0m \u001b[38;5;28;01melse\u001b[39;00m:\n\u001b[0;32m--> 521\u001b[0m     array \u001b[38;5;241m=\u001b[39m numpy\u001b[38;5;241m.\u001b[39masarray(array, order\u001b[38;5;241m=\u001b[39morder, dtype\u001b[38;5;241m=\u001b[39mdtype)\n\u001b[1;32m    523\u001b[0m \u001b[38;5;66;03m# At this point array is a NumPy ndarray. We convert it to an array\u001b[39;00m\n\u001b[1;32m    524\u001b[0m \u001b[38;5;66;03m# container that is consistent with the input's namespace.\u001b[39;00m\n\u001b[1;32m    525\u001b[0m \u001b[38;5;28;01mreturn\u001b[39;00m xp\u001b[38;5;241m.\u001b[39masarray(array)\n",
      "\u001b[0;31mValueError\u001b[0m: could not convert string to float: 'BE.1'"
     ]
    }
   ],
   "source": [
    "roc_auc_score(y_test, y_pred)"
   ]
  },
  {
   "cell_type": "code",
   "execution_count": 28,
   "metadata": {},
   "outputs": [
    {
     "data": {
      "application/vnd.plotly.v1+json": {
       "config": {
        "plotlyServerURL": "https://plot.ly"
       },
       "data": [
        {
         "coloraxis": "coloraxis",
         "hovertemplate": "x: %{x}<br>y: %{y}<br>color: %{z}<extra></extra>",
         "name": "0",
         "type": "heatmap",
         "x": [
          "BE.1",
          "BE.2",
          "BE.3",
          "BE.4",
          "BL.1",
          "BL.2",
          "BL.3",
          "BL.4",
          "BL.5",
          "BL.6",
          "BN.1",
          "BN.2",
          "BN.3",
          "BN.4",
          "BN.5",
          "BP.1",
          "BP.2",
          "BP.3",
          "BP.4",
          "BP.5"
         ],
         "xaxis": "x",
         "y": [
          "BE.1",
          "BE.2",
          "BE.3",
          "BE.4",
          "BL.1",
          "BL.2",
          "BL.3",
          "BL.4",
          "BL.5",
          "BL.6",
          "BN.1",
          "BN.2",
          "BN.3",
          "BN.4",
          "BN.5",
          "BP.1",
          "BP.2",
          "BP.3",
          "BP.4",
          "BP.5"
         ],
         "yaxis": "y",
         "z": [
          [
           2,
           0,
           0,
           0,
           0,
           0,
           0,
           0,
           0,
           0,
           0,
           0,
           0,
           0,
           0,
           0,
           0,
           0,
           0,
           0
          ],
          [
           0,
           0,
           0,
           0,
           0,
           1,
           0,
           0,
           0,
           0,
           0,
           0,
           0,
           0,
           0,
           0,
           0,
           0,
           1,
           0
          ],
          [
           0,
           0,
           1,
           0,
           0,
           0,
           0,
           0,
           0,
           0,
           0,
           0,
           0,
           0,
           0,
           1,
           0,
           0,
           0,
           0
          ],
          [
           0,
           0,
           0,
           0,
           0,
           0,
           0,
           0,
           0,
           0,
           0,
           1,
           0,
           0,
           1,
           0,
           0,
           0,
           0,
           0
          ],
          [
           0,
           0,
           0,
           0,
           2,
           0,
           0,
           0,
           0,
           0,
           0,
           0,
           0,
           0,
           0,
           0,
           0,
           0,
           0,
           0
          ],
          [
           0,
           0,
           0,
           0,
           0,
           0,
           0,
           1,
           0,
           0,
           0,
           0,
           0,
           0,
           0,
           0,
           0,
           0,
           0,
           1
          ],
          [
           1,
           0,
           0,
           0,
           0,
           0,
           0,
           0,
           0,
           0,
           0,
           1,
           0,
           0,
           0,
           0,
           0,
           0,
           0,
           0
          ],
          [
           0,
           0,
           0,
           0,
           0,
           0,
           2,
           0,
           0,
           0,
           0,
           0,
           0,
           0,
           0,
           0,
           0,
           0,
           0,
           0
          ],
          [
           0,
           0,
           0,
           0,
           0,
           0,
           0,
           0,
           2,
           0,
           0,
           0,
           0,
           0,
           0,
           0,
           0,
           0,
           0,
           0
          ],
          [
           0,
           0,
           0,
           0,
           0,
           0,
           0,
           0,
           0,
           1,
           0,
           0,
           0,
           0,
           0,
           0,
           0,
           0,
           1,
           0
          ],
          [
           0,
           0,
           0,
           0,
           0,
           0,
           0,
           0,
           0,
           0,
           0,
           2,
           0,
           0,
           0,
           0,
           0,
           0,
           0,
           0
          ],
          [
           0,
           0,
           0,
           0,
           0,
           0,
           0,
           0,
           0,
           0,
           0,
           2,
           0,
           0,
           0,
           0,
           0,
           0,
           0,
           0
          ],
          [
           0,
           0,
           0,
           0,
           0,
           0,
           0,
           0,
           0,
           0,
           0,
           1,
           0,
           0,
           0,
           0,
           0,
           0,
           0,
           1
          ],
          [
           1,
           0,
           0,
           0,
           0,
           0,
           0,
           0,
           0,
           0,
           0,
           1,
           0,
           0,
           0,
           0,
           0,
           0,
           0,
           0
          ],
          [
           0,
           0,
           0,
           0,
           0,
           1,
           0,
           0,
           0,
           0,
           0,
           0,
           0,
           0,
           1,
           0,
           0,
           0,
           0,
           0
          ],
          [
           0,
           0,
           0,
           0,
           0,
           0,
           0,
           0,
           0,
           1,
           0,
           0,
           0,
           0,
           0,
           0,
           0,
           0,
           0,
           1
          ],
          [
           0,
           0,
           1,
           0,
           0,
           0,
           0,
           0,
           0,
           0,
           0,
           0,
           0,
           0,
           0,
           0,
           0,
           0,
           1,
           0
          ],
          [
           0,
           0,
           0,
           0,
           0,
           0,
           1,
           0,
           0,
           0,
           0,
           0,
           0,
           0,
           0,
           0,
           0,
           1,
           0,
           0
          ],
          [
           0,
           0,
           0,
           0,
           0,
           0,
           0,
           0,
           0,
           0,
           0,
           0,
           0,
           0,
           0,
           0,
           0,
           0,
           1,
           1
          ],
          [
           0,
           0,
           0,
           0,
           0,
           0,
           0,
           0,
           0,
           0,
           0,
           0,
           0,
           0,
           0,
           0,
           0,
           0,
           0,
           2
          ]
         ]
        }
       ],
       "layout": {
        "coloraxis": {
         "colorscale": [
          [
           0,
           "#0d0887"
          ],
          [
           0.1111111111111111,
           "#46039f"
          ],
          [
           0.2222222222222222,
           "#7201a8"
          ],
          [
           0.3333333333333333,
           "#9c179e"
          ],
          [
           0.4444444444444444,
           "#bd3786"
          ],
          [
           0.5555555555555556,
           "#d8576b"
          ],
          [
           0.6666666666666666,
           "#ed7953"
          ],
          [
           0.7777777777777778,
           "#fb9f3a"
          ],
          [
           0.8888888888888888,
           "#fdca26"
          ],
          [
           1,
           "#f0f921"
          ]
         ]
        },
        "margin": {
         "t": 60
        },
        "template": {
         "data": {
          "bar": [
           {
            "error_x": {
             "color": "#2a3f5f"
            },
            "error_y": {
             "color": "#2a3f5f"
            },
            "marker": {
             "line": {
              "color": "#E5ECF6",
              "width": 0.5
             },
             "pattern": {
              "fillmode": "overlay",
              "size": 10,
              "solidity": 0.2
             }
            },
            "type": "bar"
           }
          ],
          "barpolar": [
           {
            "marker": {
             "line": {
              "color": "#E5ECF6",
              "width": 0.5
             },
             "pattern": {
              "fillmode": "overlay",
              "size": 10,
              "solidity": 0.2
             }
            },
            "type": "barpolar"
           }
          ],
          "carpet": [
           {
            "aaxis": {
             "endlinecolor": "#2a3f5f",
             "gridcolor": "white",
             "linecolor": "white",
             "minorgridcolor": "white",
             "startlinecolor": "#2a3f5f"
            },
            "baxis": {
             "endlinecolor": "#2a3f5f",
             "gridcolor": "white",
             "linecolor": "white",
             "minorgridcolor": "white",
             "startlinecolor": "#2a3f5f"
            },
            "type": "carpet"
           }
          ],
          "choropleth": [
           {
            "colorbar": {
             "outlinewidth": 0,
             "ticks": ""
            },
            "type": "choropleth"
           }
          ],
          "contour": [
           {
            "colorbar": {
             "outlinewidth": 0,
             "ticks": ""
            },
            "colorscale": [
             [
              0,
              "#0d0887"
             ],
             [
              0.1111111111111111,
              "#46039f"
             ],
             [
              0.2222222222222222,
              "#7201a8"
             ],
             [
              0.3333333333333333,
              "#9c179e"
             ],
             [
              0.4444444444444444,
              "#bd3786"
             ],
             [
              0.5555555555555556,
              "#d8576b"
             ],
             [
              0.6666666666666666,
              "#ed7953"
             ],
             [
              0.7777777777777778,
              "#fb9f3a"
             ],
             [
              0.8888888888888888,
              "#fdca26"
             ],
             [
              1,
              "#f0f921"
             ]
            ],
            "type": "contour"
           }
          ],
          "contourcarpet": [
           {
            "colorbar": {
             "outlinewidth": 0,
             "ticks": ""
            },
            "type": "contourcarpet"
           }
          ],
          "heatmap": [
           {
            "colorbar": {
             "outlinewidth": 0,
             "ticks": ""
            },
            "colorscale": [
             [
              0,
              "#0d0887"
             ],
             [
              0.1111111111111111,
              "#46039f"
             ],
             [
              0.2222222222222222,
              "#7201a8"
             ],
             [
              0.3333333333333333,
              "#9c179e"
             ],
             [
              0.4444444444444444,
              "#bd3786"
             ],
             [
              0.5555555555555556,
              "#d8576b"
             ],
             [
              0.6666666666666666,
              "#ed7953"
             ],
             [
              0.7777777777777778,
              "#fb9f3a"
             ],
             [
              0.8888888888888888,
              "#fdca26"
             ],
             [
              1,
              "#f0f921"
             ]
            ],
            "type": "heatmap"
           }
          ],
          "heatmapgl": [
           {
            "colorbar": {
             "outlinewidth": 0,
             "ticks": ""
            },
            "colorscale": [
             [
              0,
              "#0d0887"
             ],
             [
              0.1111111111111111,
              "#46039f"
             ],
             [
              0.2222222222222222,
              "#7201a8"
             ],
             [
              0.3333333333333333,
              "#9c179e"
             ],
             [
              0.4444444444444444,
              "#bd3786"
             ],
             [
              0.5555555555555556,
              "#d8576b"
             ],
             [
              0.6666666666666666,
              "#ed7953"
             ],
             [
              0.7777777777777778,
              "#fb9f3a"
             ],
             [
              0.8888888888888888,
              "#fdca26"
             ],
             [
              1,
              "#f0f921"
             ]
            ],
            "type": "heatmapgl"
           }
          ],
          "histogram": [
           {
            "marker": {
             "pattern": {
              "fillmode": "overlay",
              "size": 10,
              "solidity": 0.2
             }
            },
            "type": "histogram"
           }
          ],
          "histogram2d": [
           {
            "colorbar": {
             "outlinewidth": 0,
             "ticks": ""
            },
            "colorscale": [
             [
              0,
              "#0d0887"
             ],
             [
              0.1111111111111111,
              "#46039f"
             ],
             [
              0.2222222222222222,
              "#7201a8"
             ],
             [
              0.3333333333333333,
              "#9c179e"
             ],
             [
              0.4444444444444444,
              "#bd3786"
             ],
             [
              0.5555555555555556,
              "#d8576b"
             ],
             [
              0.6666666666666666,
              "#ed7953"
             ],
             [
              0.7777777777777778,
              "#fb9f3a"
             ],
             [
              0.8888888888888888,
              "#fdca26"
             ],
             [
              1,
              "#f0f921"
             ]
            ],
            "type": "histogram2d"
           }
          ],
          "histogram2dcontour": [
           {
            "colorbar": {
             "outlinewidth": 0,
             "ticks": ""
            },
            "colorscale": [
             [
              0,
              "#0d0887"
             ],
             [
              0.1111111111111111,
              "#46039f"
             ],
             [
              0.2222222222222222,
              "#7201a8"
             ],
             [
              0.3333333333333333,
              "#9c179e"
             ],
             [
              0.4444444444444444,
              "#bd3786"
             ],
             [
              0.5555555555555556,
              "#d8576b"
             ],
             [
              0.6666666666666666,
              "#ed7953"
             ],
             [
              0.7777777777777778,
              "#fb9f3a"
             ],
             [
              0.8888888888888888,
              "#fdca26"
             ],
             [
              1,
              "#f0f921"
             ]
            ],
            "type": "histogram2dcontour"
           }
          ],
          "mesh3d": [
           {
            "colorbar": {
             "outlinewidth": 0,
             "ticks": ""
            },
            "type": "mesh3d"
           }
          ],
          "parcoords": [
           {
            "line": {
             "colorbar": {
              "outlinewidth": 0,
              "ticks": ""
             }
            },
            "type": "parcoords"
           }
          ],
          "pie": [
           {
            "automargin": true,
            "type": "pie"
           }
          ],
          "scatter": [
           {
            "fillpattern": {
             "fillmode": "overlay",
             "size": 10,
             "solidity": 0.2
            },
            "type": "scatter"
           }
          ],
          "scatter3d": [
           {
            "line": {
             "colorbar": {
              "outlinewidth": 0,
              "ticks": ""
             }
            },
            "marker": {
             "colorbar": {
              "outlinewidth": 0,
              "ticks": ""
             }
            },
            "type": "scatter3d"
           }
          ],
          "scattercarpet": [
           {
            "marker": {
             "colorbar": {
              "outlinewidth": 0,
              "ticks": ""
             }
            },
            "type": "scattercarpet"
           }
          ],
          "scattergeo": [
           {
            "marker": {
             "colorbar": {
              "outlinewidth": 0,
              "ticks": ""
             }
            },
            "type": "scattergeo"
           }
          ],
          "scattergl": [
           {
            "marker": {
             "colorbar": {
              "outlinewidth": 0,
              "ticks": ""
             }
            },
            "type": "scattergl"
           }
          ],
          "scattermapbox": [
           {
            "marker": {
             "colorbar": {
              "outlinewidth": 0,
              "ticks": ""
             }
            },
            "type": "scattermapbox"
           }
          ],
          "scatterpolar": [
           {
            "marker": {
             "colorbar": {
              "outlinewidth": 0,
              "ticks": ""
             }
            },
            "type": "scatterpolar"
           }
          ],
          "scatterpolargl": [
           {
            "marker": {
             "colorbar": {
              "outlinewidth": 0,
              "ticks": ""
             }
            },
            "type": "scatterpolargl"
           }
          ],
          "scatterternary": [
           {
            "marker": {
             "colorbar": {
              "outlinewidth": 0,
              "ticks": ""
             }
            },
            "type": "scatterternary"
           }
          ],
          "surface": [
           {
            "colorbar": {
             "outlinewidth": 0,
             "ticks": ""
            },
            "colorscale": [
             [
              0,
              "#0d0887"
             ],
             [
              0.1111111111111111,
              "#46039f"
             ],
             [
              0.2222222222222222,
              "#7201a8"
             ],
             [
              0.3333333333333333,
              "#9c179e"
             ],
             [
              0.4444444444444444,
              "#bd3786"
             ],
             [
              0.5555555555555556,
              "#d8576b"
             ],
             [
              0.6666666666666666,
              "#ed7953"
             ],
             [
              0.7777777777777778,
              "#fb9f3a"
             ],
             [
              0.8888888888888888,
              "#fdca26"
             ],
             [
              1,
              "#f0f921"
             ]
            ],
            "type": "surface"
           }
          ],
          "table": [
           {
            "cells": {
             "fill": {
              "color": "#EBF0F8"
             },
             "line": {
              "color": "white"
             }
            },
            "header": {
             "fill": {
              "color": "#C8D4E3"
             },
             "line": {
              "color": "white"
             }
            },
            "type": "table"
           }
          ]
         },
         "layout": {
          "annotationdefaults": {
           "arrowcolor": "#2a3f5f",
           "arrowhead": 0,
           "arrowwidth": 1
          },
          "autotypenumbers": "strict",
          "coloraxis": {
           "colorbar": {
            "outlinewidth": 0,
            "ticks": ""
           }
          },
          "colorscale": {
           "diverging": [
            [
             0,
             "#8e0152"
            ],
            [
             0.1,
             "#c51b7d"
            ],
            [
             0.2,
             "#de77ae"
            ],
            [
             0.3,
             "#f1b6da"
            ],
            [
             0.4,
             "#fde0ef"
            ],
            [
             0.5,
             "#f7f7f7"
            ],
            [
             0.6,
             "#e6f5d0"
            ],
            [
             0.7,
             "#b8e186"
            ],
            [
             0.8,
             "#7fbc41"
            ],
            [
             0.9,
             "#4d9221"
            ],
            [
             1,
             "#276419"
            ]
           ],
           "sequential": [
            [
             0,
             "#0d0887"
            ],
            [
             0.1111111111111111,
             "#46039f"
            ],
            [
             0.2222222222222222,
             "#7201a8"
            ],
            [
             0.3333333333333333,
             "#9c179e"
            ],
            [
             0.4444444444444444,
             "#bd3786"
            ],
            [
             0.5555555555555556,
             "#d8576b"
            ],
            [
             0.6666666666666666,
             "#ed7953"
            ],
            [
             0.7777777777777778,
             "#fb9f3a"
            ],
            [
             0.8888888888888888,
             "#fdca26"
            ],
            [
             1,
             "#f0f921"
            ]
           ],
           "sequentialminus": [
            [
             0,
             "#0d0887"
            ],
            [
             0.1111111111111111,
             "#46039f"
            ],
            [
             0.2222222222222222,
             "#7201a8"
            ],
            [
             0.3333333333333333,
             "#9c179e"
            ],
            [
             0.4444444444444444,
             "#bd3786"
            ],
            [
             0.5555555555555556,
             "#d8576b"
            ],
            [
             0.6666666666666666,
             "#ed7953"
            ],
            [
             0.7777777777777778,
             "#fb9f3a"
            ],
            [
             0.8888888888888888,
             "#fdca26"
            ],
            [
             1,
             "#f0f921"
            ]
           ]
          },
          "colorway": [
           "#636efa",
           "#EF553B",
           "#00cc96",
           "#ab63fa",
           "#FFA15A",
           "#19d3f3",
           "#FF6692",
           "#B6E880",
           "#FF97FF",
           "#FECB52"
          ],
          "font": {
           "color": "#2a3f5f"
          },
          "geo": {
           "bgcolor": "white",
           "lakecolor": "white",
           "landcolor": "#E5ECF6",
           "showlakes": true,
           "showland": true,
           "subunitcolor": "white"
          },
          "hoverlabel": {
           "align": "left"
          },
          "hovermode": "closest",
          "mapbox": {
           "style": "light"
          },
          "paper_bgcolor": "white",
          "plot_bgcolor": "#E5ECF6",
          "polar": {
           "angularaxis": {
            "gridcolor": "white",
            "linecolor": "white",
            "ticks": ""
           },
           "bgcolor": "#E5ECF6",
           "radialaxis": {
            "gridcolor": "white",
            "linecolor": "white",
            "ticks": ""
           }
          },
          "scene": {
           "xaxis": {
            "backgroundcolor": "#E5ECF6",
            "gridcolor": "white",
            "gridwidth": 2,
            "linecolor": "white",
            "showbackground": true,
            "ticks": "",
            "zerolinecolor": "white"
           },
           "yaxis": {
            "backgroundcolor": "#E5ECF6",
            "gridcolor": "white",
            "gridwidth": 2,
            "linecolor": "white",
            "showbackground": true,
            "ticks": "",
            "zerolinecolor": "white"
           },
           "zaxis": {
            "backgroundcolor": "#E5ECF6",
            "gridcolor": "white",
            "gridwidth": 2,
            "linecolor": "white",
            "showbackground": true,
            "ticks": "",
            "zerolinecolor": "white"
           }
          },
          "shapedefaults": {
           "line": {
            "color": "#2a3f5f"
           }
          },
          "ternary": {
           "aaxis": {
            "gridcolor": "white",
            "linecolor": "white",
            "ticks": ""
           },
           "baxis": {
            "gridcolor": "white",
            "linecolor": "white",
            "ticks": ""
           },
           "bgcolor": "#E5ECF6",
           "caxis": {
            "gridcolor": "white",
            "linecolor": "white",
            "ticks": ""
           }
          },
          "title": {
           "x": 0.05
          },
          "xaxis": {
           "automargin": true,
           "gridcolor": "white",
           "linecolor": "white",
           "ticks": "",
           "title": {
            "standoff": 15
           },
           "zerolinecolor": "white",
           "zerolinewidth": 2
          },
          "yaxis": {
           "automargin": true,
           "gridcolor": "white",
           "linecolor": "white",
           "ticks": "",
           "title": {
            "standoff": 15
           },
           "zerolinecolor": "white",
           "zerolinewidth": 2
          }
         }
        },
        "xaxis": {
         "anchor": "y",
         "constrain": "domain",
         "domain": [
          0,
          1
         ],
         "scaleanchor": "y"
        },
        "yaxis": {
         "anchor": "x",
         "autorange": "reversed",
         "constrain": "domain",
         "domain": [
          0,
          1
         ]
        }
       }
      }
     },
     "metadata": {},
     "output_type": "display_data"
    }
   ],
   "source": []
  },
  {
   "cell_type": "markdown",
   "metadata": {},
   "source": [
    "# Small embeddings"
   ]
  },
  {
   "cell_type": "code",
   "execution_count": null,
   "metadata": {},
   "outputs": [
    {
     "data": {
      "application/vnd.plotly.v1+json": {
       "config": {
        "plotlyServerURL": "https://plot.ly"
       },
       "data": [
        {
         "colorscale": [
          [
           0,
           "rgb(247,251,255)"
          ],
          [
           0.125,
           "rgb(222,235,247)"
          ],
          [
           0.25,
           "rgb(198,219,239)"
          ],
          [
           0.375,
           "rgb(158,202,225)"
          ],
          [
           0.5,
           "rgb(107,174,214)"
          ],
          [
           0.625,
           "rgb(66,146,198)"
          ],
          [
           0.75,
           "rgb(33,113,181)"
          ],
          [
           0.875,
           "rgb(8,81,156)"
          ],
          [
           1,
           "rgb(8,48,107)"
          ]
         ],
         "reversescale": true,
         "type": "heatmap",
         "x": [
          "BE.1",
          "BE.3",
          "BL.1",
          "BL.2",
          "BL.3",
          "BL.4",
          "BL.5",
          "BL.6",
          "BN.2",
          "BN.5",
          "BP.1",
          "BP.3",
          "BP.4",
          "BP.5"
         ],
         "y": [
          "BE.1",
          "BE.2",
          "BE.3",
          "BE.4",
          "BL.1",
          "BL.2",
          "BL.3",
          "BL.4",
          "BL.5",
          "BL.6",
          "BN.1",
          "BN.2",
          "BN.3",
          "BN.4",
          "BN.5",
          "BP.1",
          "BP.2",
          "BP.3",
          "BP.4",
          "BP.5"
         ],
         "z": [
          [
           2,
           0,
           0,
           0,
           0,
           0,
           0,
           0,
           0,
           0,
           0,
           0,
           0,
           0
          ],
          [
           0,
           0,
           0,
           1,
           0,
           0,
           0,
           0,
           0,
           0,
           0,
           0,
           1,
           0
          ],
          [
           0,
           1,
           0,
           0,
           0,
           0,
           0,
           0,
           0,
           0,
           1,
           0,
           0,
           0
          ],
          [
           0,
           0,
           0,
           0,
           0,
           0,
           0,
           0,
           1,
           1,
           0,
           0,
           0,
           0
          ],
          [
           0,
           0,
           2,
           0,
           0,
           0,
           0,
           0,
           0,
           0,
           0,
           0,
           0,
           0
          ],
          [
           0,
           0,
           0,
           0,
           0,
           1,
           0,
           0,
           0,
           0,
           0,
           0,
           0,
           1
          ],
          [
           1,
           0,
           0,
           0,
           0,
           0,
           0,
           0,
           1,
           0,
           0,
           0,
           0,
           0
          ],
          [
           0,
           0,
           0,
           0,
           2,
           0,
           0,
           0,
           0,
           0,
           0,
           0,
           0,
           0
          ],
          [
           0,
           0,
           0,
           0,
           0,
           0,
           2,
           0,
           0,
           0,
           0,
           0,
           0,
           0
          ],
          [
           0,
           0,
           0,
           0,
           0,
           0,
           0,
           1,
           0,
           0,
           0,
           0,
           1,
           0
          ],
          [
           0,
           0,
           0,
           0,
           0,
           0,
           0,
           0,
           2,
           0,
           0,
           0,
           0,
           0
          ],
          [
           0,
           0,
           0,
           0,
           0,
           0,
           0,
           0,
           2,
           0,
           0,
           0,
           0,
           0
          ],
          [
           0,
           0,
           0,
           0,
           0,
           0,
           0,
           0,
           1,
           0,
           0,
           0,
           0,
           1
          ],
          [
           1,
           0,
           0,
           0,
           0,
           0,
           0,
           0,
           1,
           0,
           0,
           0,
           0,
           0
          ],
          [
           0,
           0,
           0,
           1,
           0,
           0,
           0,
           0,
           0,
           1,
           0,
           0,
           0,
           0
          ],
          [
           0,
           0,
           0,
           0,
           0,
           0,
           0,
           1,
           0,
           0,
           0,
           0,
           0,
           1
          ],
          [
           0,
           1,
           0,
           0,
           0,
           0,
           0,
           0,
           0,
           0,
           0,
           0,
           1,
           0
          ],
          [
           0,
           0,
           0,
           0,
           1,
           0,
           0,
           0,
           0,
           0,
           0,
           1,
           0,
           0
          ],
          [
           0,
           0,
           0,
           0,
           0,
           0,
           0,
           0,
           0,
           0,
           0,
           0,
           1,
           1
          ],
          [
           0,
           0,
           0,
           0,
           0,
           0,
           0,
           0,
           0,
           0,
           0,
           0,
           0,
           2
          ]
         ]
        }
       ],
       "layout": {
        "template": {
         "data": {
          "bar": [
           {
            "error_x": {
             "color": "#2a3f5f"
            },
            "error_y": {
             "color": "#2a3f5f"
            },
            "marker": {
             "line": {
              "color": "#E5ECF6",
              "width": 0.5
             },
             "pattern": {
              "fillmode": "overlay",
              "size": 10,
              "solidity": 0.2
             }
            },
            "type": "bar"
           }
          ],
          "barpolar": [
           {
            "marker": {
             "line": {
              "color": "#E5ECF6",
              "width": 0.5
             },
             "pattern": {
              "fillmode": "overlay",
              "size": 10,
              "solidity": 0.2
             }
            },
            "type": "barpolar"
           }
          ],
          "carpet": [
           {
            "aaxis": {
             "endlinecolor": "#2a3f5f",
             "gridcolor": "white",
             "linecolor": "white",
             "minorgridcolor": "white",
             "startlinecolor": "#2a3f5f"
            },
            "baxis": {
             "endlinecolor": "#2a3f5f",
             "gridcolor": "white",
             "linecolor": "white",
             "minorgridcolor": "white",
             "startlinecolor": "#2a3f5f"
            },
            "type": "carpet"
           }
          ],
          "choropleth": [
           {
            "colorbar": {
             "outlinewidth": 0,
             "ticks": ""
            },
            "type": "choropleth"
           }
          ],
          "contour": [
           {
            "colorbar": {
             "outlinewidth": 0,
             "ticks": ""
            },
            "colorscale": [
             [
              0,
              "#0d0887"
             ],
             [
              0.1111111111111111,
              "#46039f"
             ],
             [
              0.2222222222222222,
              "#7201a8"
             ],
             [
              0.3333333333333333,
              "#9c179e"
             ],
             [
              0.4444444444444444,
              "#bd3786"
             ],
             [
              0.5555555555555556,
              "#d8576b"
             ],
             [
              0.6666666666666666,
              "#ed7953"
             ],
             [
              0.7777777777777778,
              "#fb9f3a"
             ],
             [
              0.8888888888888888,
              "#fdca26"
             ],
             [
              1,
              "#f0f921"
             ]
            ],
            "type": "contour"
           }
          ],
          "contourcarpet": [
           {
            "colorbar": {
             "outlinewidth": 0,
             "ticks": ""
            },
            "type": "contourcarpet"
           }
          ],
          "heatmap": [
           {
            "colorbar": {
             "outlinewidth": 0,
             "ticks": ""
            },
            "colorscale": [
             [
              0,
              "#0d0887"
             ],
             [
              0.1111111111111111,
              "#46039f"
             ],
             [
              0.2222222222222222,
              "#7201a8"
             ],
             [
              0.3333333333333333,
              "#9c179e"
             ],
             [
              0.4444444444444444,
              "#bd3786"
             ],
             [
              0.5555555555555556,
              "#d8576b"
             ],
             [
              0.6666666666666666,
              "#ed7953"
             ],
             [
              0.7777777777777778,
              "#fb9f3a"
             ],
             [
              0.8888888888888888,
              "#fdca26"
             ],
             [
              1,
              "#f0f921"
             ]
            ],
            "type": "heatmap"
           }
          ],
          "heatmapgl": [
           {
            "colorbar": {
             "outlinewidth": 0,
             "ticks": ""
            },
            "colorscale": [
             [
              0,
              "#0d0887"
             ],
             [
              0.1111111111111111,
              "#46039f"
             ],
             [
              0.2222222222222222,
              "#7201a8"
             ],
             [
              0.3333333333333333,
              "#9c179e"
             ],
             [
              0.4444444444444444,
              "#bd3786"
             ],
             [
              0.5555555555555556,
              "#d8576b"
             ],
             [
              0.6666666666666666,
              "#ed7953"
             ],
             [
              0.7777777777777778,
              "#fb9f3a"
             ],
             [
              0.8888888888888888,
              "#fdca26"
             ],
             [
              1,
              "#f0f921"
             ]
            ],
            "type": "heatmapgl"
           }
          ],
          "histogram": [
           {
            "marker": {
             "pattern": {
              "fillmode": "overlay",
              "size": 10,
              "solidity": 0.2
             }
            },
            "type": "histogram"
           }
          ],
          "histogram2d": [
           {
            "colorbar": {
             "outlinewidth": 0,
             "ticks": ""
            },
            "colorscale": [
             [
              0,
              "#0d0887"
             ],
             [
              0.1111111111111111,
              "#46039f"
             ],
             [
              0.2222222222222222,
              "#7201a8"
             ],
             [
              0.3333333333333333,
              "#9c179e"
             ],
             [
              0.4444444444444444,
              "#bd3786"
             ],
             [
              0.5555555555555556,
              "#d8576b"
             ],
             [
              0.6666666666666666,
              "#ed7953"
             ],
             [
              0.7777777777777778,
              "#fb9f3a"
             ],
             [
              0.8888888888888888,
              "#fdca26"
             ],
             [
              1,
              "#f0f921"
             ]
            ],
            "type": "histogram2d"
           }
          ],
          "histogram2dcontour": [
           {
            "colorbar": {
             "outlinewidth": 0,
             "ticks": ""
            },
            "colorscale": [
             [
              0,
              "#0d0887"
             ],
             [
              0.1111111111111111,
              "#46039f"
             ],
             [
              0.2222222222222222,
              "#7201a8"
             ],
             [
              0.3333333333333333,
              "#9c179e"
             ],
             [
              0.4444444444444444,
              "#bd3786"
             ],
             [
              0.5555555555555556,
              "#d8576b"
             ],
             [
              0.6666666666666666,
              "#ed7953"
             ],
             [
              0.7777777777777778,
              "#fb9f3a"
             ],
             [
              0.8888888888888888,
              "#fdca26"
             ],
             [
              1,
              "#f0f921"
             ]
            ],
            "type": "histogram2dcontour"
           }
          ],
          "mesh3d": [
           {
            "colorbar": {
             "outlinewidth": 0,
             "ticks": ""
            },
            "type": "mesh3d"
           }
          ],
          "parcoords": [
           {
            "line": {
             "colorbar": {
              "outlinewidth": 0,
              "ticks": ""
             }
            },
            "type": "parcoords"
           }
          ],
          "pie": [
           {
            "automargin": true,
            "type": "pie"
           }
          ],
          "scatter": [
           {
            "fillpattern": {
             "fillmode": "overlay",
             "size": 10,
             "solidity": 0.2
            },
            "type": "scatter"
           }
          ],
          "scatter3d": [
           {
            "line": {
             "colorbar": {
              "outlinewidth": 0,
              "ticks": ""
             }
            },
            "marker": {
             "colorbar": {
              "outlinewidth": 0,
              "ticks": ""
             }
            },
            "type": "scatter3d"
           }
          ],
          "scattercarpet": [
           {
            "marker": {
             "colorbar": {
              "outlinewidth": 0,
              "ticks": ""
             }
            },
            "type": "scattercarpet"
           }
          ],
          "scattergeo": [
           {
            "marker": {
             "colorbar": {
              "outlinewidth": 0,
              "ticks": ""
             }
            },
            "type": "scattergeo"
           }
          ],
          "scattergl": [
           {
            "marker": {
             "colorbar": {
              "outlinewidth": 0,
              "ticks": ""
             }
            },
            "type": "scattergl"
           }
          ],
          "scattermapbox": [
           {
            "marker": {
             "colorbar": {
              "outlinewidth": 0,
              "ticks": ""
             }
            },
            "type": "scattermapbox"
           }
          ],
          "scatterpolar": [
           {
            "marker": {
             "colorbar": {
              "outlinewidth": 0,
              "ticks": ""
             }
            },
            "type": "scatterpolar"
           }
          ],
          "scatterpolargl": [
           {
            "marker": {
             "colorbar": {
              "outlinewidth": 0,
              "ticks": ""
             }
            },
            "type": "scatterpolargl"
           }
          ],
          "scatterternary": [
           {
            "marker": {
             "colorbar": {
              "outlinewidth": 0,
              "ticks": ""
             }
            },
            "type": "scatterternary"
           }
          ],
          "surface": [
           {
            "colorbar": {
             "outlinewidth": 0,
             "ticks": ""
            },
            "colorscale": [
             [
              0,
              "#0d0887"
             ],
             [
              0.1111111111111111,
              "#46039f"
             ],
             [
              0.2222222222222222,
              "#7201a8"
             ],
             [
              0.3333333333333333,
              "#9c179e"
             ],
             [
              0.4444444444444444,
              "#bd3786"
             ],
             [
              0.5555555555555556,
              "#d8576b"
             ],
             [
              0.6666666666666666,
              "#ed7953"
             ],
             [
              0.7777777777777778,
              "#fb9f3a"
             ],
             [
              0.8888888888888888,
              "#fdca26"
             ],
             [
              1,
              "#f0f921"
             ]
            ],
            "type": "surface"
           }
          ],
          "table": [
           {
            "cells": {
             "fill": {
              "color": "#EBF0F8"
             },
             "line": {
              "color": "white"
             }
            },
            "header": {
             "fill": {
              "color": "#C8D4E3"
             },
             "line": {
              "color": "white"
             }
            },
            "type": "table"
           }
          ]
         },
         "layout": {
          "annotationdefaults": {
           "arrowcolor": "#2a3f5f",
           "arrowhead": 0,
           "arrowwidth": 1
          },
          "autotypenumbers": "strict",
          "coloraxis": {
           "colorbar": {
            "outlinewidth": 0,
            "ticks": ""
           }
          },
          "colorscale": {
           "diverging": [
            [
             0,
             "#8e0152"
            ],
            [
             0.1,
             "#c51b7d"
            ],
            [
             0.2,
             "#de77ae"
            ],
            [
             0.3,
             "#f1b6da"
            ],
            [
             0.4,
             "#fde0ef"
            ],
            [
             0.5,
             "#f7f7f7"
            ],
            [
             0.6,
             "#e6f5d0"
            ],
            [
             0.7,
             "#b8e186"
            ],
            [
             0.8,
             "#7fbc41"
            ],
            [
             0.9,
             "#4d9221"
            ],
            [
             1,
             "#276419"
            ]
           ],
           "sequential": [
            [
             0,
             "#0d0887"
            ],
            [
             0.1111111111111111,
             "#46039f"
            ],
            [
             0.2222222222222222,
             "#7201a8"
            ],
            [
             0.3333333333333333,
             "#9c179e"
            ],
            [
             0.4444444444444444,
             "#bd3786"
            ],
            [
             0.5555555555555556,
             "#d8576b"
            ],
            [
             0.6666666666666666,
             "#ed7953"
            ],
            [
             0.7777777777777778,
             "#fb9f3a"
            ],
            [
             0.8888888888888888,
             "#fdca26"
            ],
            [
             1,
             "#f0f921"
            ]
           ],
           "sequentialminus": [
            [
             0,
             "#0d0887"
            ],
            [
             0.1111111111111111,
             "#46039f"
            ],
            [
             0.2222222222222222,
             "#7201a8"
            ],
            [
             0.3333333333333333,
             "#9c179e"
            ],
            [
             0.4444444444444444,
             "#bd3786"
            ],
            [
             0.5555555555555556,
             "#d8576b"
            ],
            [
             0.6666666666666666,
             "#ed7953"
            ],
            [
             0.7777777777777778,
             "#fb9f3a"
            ],
            [
             0.8888888888888888,
             "#fdca26"
            ],
            [
             1,
             "#f0f921"
            ]
           ]
          },
          "colorway": [
           "#636efa",
           "#EF553B",
           "#00cc96",
           "#ab63fa",
           "#FFA15A",
           "#19d3f3",
           "#FF6692",
           "#B6E880",
           "#FF97FF",
           "#FECB52"
          ],
          "font": {
           "color": "#2a3f5f"
          },
          "geo": {
           "bgcolor": "white",
           "lakecolor": "white",
           "landcolor": "#E5ECF6",
           "showlakes": true,
           "showland": true,
           "subunitcolor": "white"
          },
          "hoverlabel": {
           "align": "left"
          },
          "hovermode": "closest",
          "mapbox": {
           "style": "light"
          },
          "paper_bgcolor": "white",
          "plot_bgcolor": "#E5ECF6",
          "polar": {
           "angularaxis": {
            "gridcolor": "white",
            "linecolor": "white",
            "ticks": ""
           },
           "bgcolor": "#E5ECF6",
           "radialaxis": {
            "gridcolor": "white",
            "linecolor": "white",
            "ticks": ""
           }
          },
          "scene": {
           "xaxis": {
            "backgroundcolor": "#E5ECF6",
            "gridcolor": "white",
            "gridwidth": 2,
            "linecolor": "white",
            "showbackground": true,
            "ticks": "",
            "zerolinecolor": "white"
           },
           "yaxis": {
            "backgroundcolor": "#E5ECF6",
            "gridcolor": "white",
            "gridwidth": 2,
            "linecolor": "white",
            "showbackground": true,
            "ticks": "",
            "zerolinecolor": "white"
           },
           "zaxis": {
            "backgroundcolor": "#E5ECF6",
            "gridcolor": "white",
            "gridwidth": 2,
            "linecolor": "white",
            "showbackground": true,
            "ticks": "",
            "zerolinecolor": "white"
           }
          },
          "shapedefaults": {
           "line": {
            "color": "#2a3f5f"
           }
          },
          "ternary": {
           "aaxis": {
            "gridcolor": "white",
            "linecolor": "white",
            "ticks": ""
           },
           "baxis": {
            "gridcolor": "white",
            "linecolor": "white",
            "ticks": ""
           },
           "bgcolor": "#E5ECF6",
           "caxis": {
            "gridcolor": "white",
            "linecolor": "white",
            "ticks": ""
           }
          },
          "title": {
           "x": 0.05
          },
          "xaxis": {
           "automargin": true,
           "gridcolor": "white",
           "linecolor": "white",
           "ticks": "",
           "title": {
            "standoff": 15
           },
           "zerolinecolor": "white",
           "zerolinewidth": 2
          },
          "yaxis": {
           "automargin": true,
           "gridcolor": "white",
           "linecolor": "white",
           "ticks": "",
           "title": {
            "standoff": 15
           },
           "zerolinecolor": "white",
           "zerolinewidth": 2
          }
         }
        },
        "title": {
         "text": "Confusion Matrix"
        },
        "xaxis": {
         "title": {
          "text": "Predicted"
         }
        },
        "yaxis": {
         "title": {
          "text": "Actual"
         }
        }
       }
      }
     },
     "metadata": {},
     "output_type": "display_data"
    }
   ],
   "source": [
    "import seaborn as sns\n",
    "\n",
    "import matplotlib.pyplot as plt\n",
    "\n",
    "# Create the confusion matrix\n",
    "confusion_matrix = pd.crosstab(y_test, y_pred, rownames=['Actual'], colnames=['Predicted'])\n",
    "import plotly.graph_objects as go\n",
    "\n",
    "fig = go.Figure(data=go.Heatmap(z=confusion_matrix.values,\n",
    "                               x=confusion_matrix.columns,\n",
    "                               y=confusion_matrix.index,\n",
    "                               colorscale='Blues',\n",
    "                               reversescale=True))\n",
    "\n",
    "fig.update_layout(title='Confusion Matrix',\n",
    "                  xaxis_title='Predicted',\n",
    "                  yaxis_title='Actual')\n",
    "\n",
    "fig.show()\n",
    "# Plot the confusion matrix using seaborn\n",
    "# sns.heatmap(confusion_matrix, annot=True, cmap='Blues', fmt='d')\n",
    "\n",
    "# # Set the title and labels\n",
    "# plt.title('Confusion Matrix')\n",
    "# plt.xlabel('Predicted')\n",
    "# plt.ylabel('Actual')\n",
    "\n",
    "# # Show the plot\n",
    "# plt.show()"
   ]
  },
  {
   "cell_type": "code",
   "execution_count": 6,
   "metadata": {},
   "outputs": [
    {
     "name": "stdout",
     "output_type": "stream",
     "text": [
      "Requirement already satisfied: nbformat in /Users/jm/Code/fao-ppa-classifier/.conda/lib/python3.11/site-packages (5.10.4)\n",
      "Requirement already satisfied: fastjsonschema>=2.15 in /Users/jm/Code/fao-ppa-classifier/.conda/lib/python3.11/site-packages (from nbformat) (2.19.1)\n",
      "Requirement already satisfied: jsonschema>=2.6 in /Users/jm/Code/fao-ppa-classifier/.conda/lib/python3.11/site-packages (from nbformat) (4.22.0)\n",
      "Requirement already satisfied: jupyter-core!=5.0.*,>=4.12 in /Users/jm/Code/fao-ppa-classifier/.conda/lib/python3.11/site-packages (from nbformat) (5.7.2)\n",
      "Requirement already satisfied: traitlets>=5.1 in /Users/jm/Code/fao-ppa-classifier/.conda/lib/python3.11/site-packages (from nbformat) (5.14.3)\n",
      "Requirement already satisfied: attrs>=22.2.0 in /Users/jm/Code/fao-ppa-classifier/.conda/lib/python3.11/site-packages (from jsonschema>=2.6->nbformat) (23.2.0)\n",
      "Requirement already satisfied: jsonschema-specifications>=2023.03.6 in /Users/jm/Code/fao-ppa-classifier/.conda/lib/python3.11/site-packages (from jsonschema>=2.6->nbformat) (2023.12.1)\n",
      "Requirement already satisfied: referencing>=0.28.4 in /Users/jm/Code/fao-ppa-classifier/.conda/lib/python3.11/site-packages (from jsonschema>=2.6->nbformat) (0.35.1)\n",
      "Requirement already satisfied: rpds-py>=0.7.1 in /Users/jm/Code/fao-ppa-classifier/.conda/lib/python3.11/site-packages (from jsonschema>=2.6->nbformat) (0.18.1)\n",
      "Requirement already satisfied: platformdirs>=2.5 in /Users/jm/Code/fao-ppa-classifier/.conda/lib/python3.11/site-packages (from jupyter-core!=5.0.*,>=4.12->nbformat) (4.2.2)\n",
      "Note: you may need to restart the kernel to use updated packages.\n"
     ]
    }
   ],
   "source": [
    "pip install nbformat"
   ]
  },
  {
   "cell_type": "code",
   "execution_count": null,
   "metadata": {},
   "outputs": [],
   "source": []
  }
 ],
 "metadata": {
  "kernelspec": {
   "display_name": "Python 3",
   "language": "python",
   "name": "python3"
  },
  "language_info": {
   "codemirror_mode": {
    "name": "ipython",
    "version": 3
   },
   "file_extension": ".py",
   "mimetype": "text/x-python",
   "name": "python",
   "nbconvert_exporter": "python",
   "pygments_lexer": "ipython3",
   "version": "3.11.9"
  }
 },
 "nbformat": 4,
 "nbformat_minor": 2
}
